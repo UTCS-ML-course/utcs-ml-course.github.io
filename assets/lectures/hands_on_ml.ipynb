{
 "cells": [
  {
   "cell_type": "markdown",
   "metadata": {},
   "source": [
    "# Hands on Machine Learning\n",
    "Course: [Spring 2025 CS391L](https://utcs-ml-course.github.io/) at [UT Austin](https://www.utexas.edu/)\n",
    "\n",
    "Instructor: [Prof. Inderjit Dhillon](https://www.cs.utexas.edu/~inderjit/)\n",
    "\n",
    "Presented by: [Nilesh Gupta](https://nilesh2797.github.io/) (TA)"
   ]
  },
  {
   "cell_type": "markdown",
   "metadata": {},
   "source": [
    "## Life of an ML Experiment\n",
    "Machine Learning (ML) experiments are far more than just training a model—they encompass an entire lifecycle that includes problem formulation, data gathering, preprocessing, model building, training, evaluation, and continuous iteration. In this notebook, we’ll walk through a simplified version of this process using a binary image classification task.\n",
    "\n",
    "Key Stages in the ML Experiment Lifecycle:\n",
    "\n",
    "#### **Defining Problem**\n",
    "Understand the problem you’re trying to solve. Define clear objectives and metrics that will be used to assess model performance.\n",
    "#### **Defining Solution**\n",
    "Concretizing the data representation, model, loss, and optimization choices. This stage involves mapping the problem to a concrete ML setup.\n",
    "\n",
    "#### **Implementing Solution**\n",
    "- **Setting up the ML environment**: Install the necessary libraries and set up the environment. This typically involves installing libraries, loading data, and preparing the notebook for experimentation.\n",
    "\n",
    "- **Data Preparation**: Load and preprocess data. Data preprocessing is a crucial step that involves normalizing, augmenting, and splitting the data into training and validation sets.\n",
    "\n",
    "- **Setting up Model and Optimization Process**: Design and implement a neural network architecture. Choose the right loss function, optimizer.\n",
    "\n",
    "- **Training**: Set up the training loop that includes forward propagation, loss computation, backpropagation, and optimization. Effective training involves iterative improvements and fine-tuning of hyperparameters.\n",
    "\n",
    "- **Evaluation & Metrics**: Assess the model using a validation/test set. Evaluating performance with metrics such as loss and accuracy provides insights into where improvements are needed.\n",
    "\n",
    "- **Experiment Tracking & Iteration**: Document your findings, track experiments, and iterate on your design. Recording the results is crucial for reproducibility and helps guide subsequent refinements."
   ]
  },
  {
   "cell_type": "markdown",
   "metadata": {},
   "source": [
    "## Defining Problem"
   ]
  },
  {
   "cell_type": "markdown",
   "metadata": {},
   "source": [
    "### **Demo problem**: classify images of dogs vs cats"
   ]
  },
  {
   "cell_type": "markdown",
   "metadata": {},
   "source": [
    "### Key definitions of a problem\n",
    "##### What is my input ($x$)?\n",
    "- An image of a dog or a cat\n",
    "\n",
    "##### What is my output ($y$)?\n",
    "- A label indicating whether the image is a cat or a dog\n",
    "\n",
    "##### How do I make a collection of such inputs and outputs a.k.a create my dataset ($\\mathcal{D}$)?\n",
    "- We can gather images of cats and dogs from various sources and manually label them (someone already did this for us - CIFAR10 dataset)\n",
    "\n",
    "##### How do I measure success?\n",
    "- Accuracy: the percentage of correctly classified images"
   ]
  },
  {
   "cell_type": "markdown",
   "metadata": {},
   "source": [
    "### **Exercise problem**: build chatgpt?\n",
    "<!-- ![](https://us1.discourse-cdn.com/openai1/original/3X/2/e/2e6fe61ecc55426e3b2b62dfd0b550ffd3b53d71.gif) -->\n",
    "<img src=\"https://us1.discourse-cdn.com/openai1/original/3X/2/e/2e6fe61ecc55426e3b2b62dfd0b550ffd3b53d71.gif\" width=\"400\" height=\"400\">\n",
    "\n",
    "##### What is my input ($x$)?\n",
    "\n",
    "##### What is my output ($y$)?\n",
    "\n",
    "##### How do I make a collection of such inputs and outputs a.k.a create my dataset ($\\mathcal{D}$)?\n",
    "\n",
    "##### How do I measure success?"
   ]
  },
  {
   "cell_type": "markdown",
   "metadata": {},
   "source": [
    "## Defining Solution"
   ]
  },
  {
   "cell_type": "markdown",
   "metadata": {},
   "source": [
    "##### How do I represent my input ($x$) in numbers?\n",
    "- Represent an image as a 3D tensor (channels, height, width) where each value represents the pixel intensity\n",
    "\n",
    "##### How do I represent my output ($y$) in numbers?\n",
    "- Represent the output as a single number (0 for cat, 1 for dog)\n",
    "\n",
    "##### How do I map my input to my output a.k.a what is my model ($\\mathcal{M}$)?\n",
    "- Simple fully connected neural network with one hidden layer\n",
    "\n",
    "##### How do I measure success in a differentiable way a.k.a what is my loss function ($\\mathcal{L}$)?\n",
    "> NOTE: usually we quantify the opposite of success i.e. the cost of making a mistake\n",
    "- Binary cross-entropy loss\n",
    "\n",
    "##### How do I train my model to minimize the loss a.k.a what is my optimizer ($\\mathcal{O}$)?\n",
    "- Use stochastic gradient descent (SGD) to minimize the loss"
   ]
  },
  {
   "cell_type": "markdown",
   "metadata": {},
   "source": [
    "## Setting up the Environment"
   ]
  },
  {
   "cell_type": "markdown",
   "metadata": {},
   "source": [
    "### Torch Imports\n",
    "- `torch` and `torchvision` are the primary libraries used for building and training neural networks in PyTorch.\n",
    "- `torch.nn` contains the building blocks for creating neural network models.\n",
    "- `torch.nn.functional` provides functions that are used as building blocks in neural networks.\n",
    "- `torch.optim` provides implementations of various optimization algorithms.\n",
    "- `torch.utils.data` simplifies the data loading process for training and evaluation.\n",
    "- `torchvision.datasets` and `torchvision.transforms` provide access to popular datasets and data transformations for computer vision tasks."
   ]
  },
  {
   "cell_type": "code",
   "execution_count": 1,
   "metadata": {},
   "outputs": [],
   "source": [
    "import torch\n",
    "import torch.nn as nn\n",
    "import torch.nn.functional as F\n",
    "import torch.optim as optim\n",
    "from torchvision import datasets, transforms\n",
    "from torch.utils.data import DataLoader, Subset\n",
    "import matplotlib.pyplot as plt"
   ]
  },
  {
   "cell_type": "markdown",
   "metadata": {},
   "source": [
    "### WandB\n",
    "\n",
    "We use Weights & Biases (wandb) to log metrics and visualize results. Wandb is a tool that helps track experiments and collaborate with team members. It logs metrics, hyperparameters, and artifacts, and provides a dashboard to visualize and compare results.\n",
    "\n",
    "API description: \n",
    "- `wandb.init()`: Initializes a new wandb run.\n",
    "- `wandb.log()`: Logs metrics to the wandb dashboard.\n",
    "- `wandb.watch()`: Logs gradients and parameters of the model to the wandb dashboard.\n",
    "- `wandb.finish()`: Marks the end of the wandb run."
   ]
  },
  {
   "cell_type": "code",
   "execution_count": 2,
   "metadata": {},
   "outputs": [
    {
     "name": "stderr",
     "output_type": "stream",
     "text": [
      "\u001b[34m\u001b[1mwandb\u001b[0m: Using wandb-core as the SDK backend.  Please refer to https://wandb.me/wandb-core for more information.\n",
      "\u001b[34m\u001b[1mwandb\u001b[0m: Currently logged in as: \u001b[33mnilesh2797\u001b[0m to \u001b[32mhttps://api.wandb.ai\u001b[0m. Use \u001b[1m`wandb login --relogin`\u001b[0m to force relogin\n"
     ]
    },
    {
     "data": {
      "text/html": [
       "Tracking run with wandb version 0.19.7"
      ],
      "text/plain": [
       "<IPython.core.display.HTML object>"
      ]
     },
     "metadata": {},
     "output_type": "display_data"
    },
    {
     "data": {
      "text/html": [
       "Run data is saved locally in <code>/Users/nileshgupta/Downloads/work/Spring25/CS391L/HandsOnML/wandb/run-20250226_145758-rv4p69xu</code>"
      ],
      "text/plain": [
       "<IPython.core.display.HTML object>"
      ]
     },
     "metadata": {},
     "output_type": "display_data"
    },
    {
     "data": {
      "text/html": [
       "Syncing run <strong><a href='https://wandb.ai/nilesh2797/hands_on_ml_demo/runs/rv4p69xu' target=\"_blank\">valiant-grass-90</a></strong> to <a href='https://wandb.ai/nilesh2797/hands_on_ml_demo' target=\"_blank\">Weights & Biases</a> (<a href='https://wandb.me/developer-guide' target=\"_blank\">docs</a>)<br>"
      ],
      "text/plain": [
       "<IPython.core.display.HTML object>"
      ]
     },
     "metadata": {},
     "output_type": "display_data"
    },
    {
     "data": {
      "text/html": [
       " View project at <a href='https://wandb.ai/nilesh2797/hands_on_ml_demo' target=\"_blank\">https://wandb.ai/nilesh2797/hands_on_ml_demo</a>"
      ],
      "text/plain": [
       "<IPython.core.display.HTML object>"
      ]
     },
     "metadata": {},
     "output_type": "display_data"
    },
    {
     "data": {
      "text/html": [
       " View run at <a href='https://wandb.ai/nilesh2797/hands_on_ml_demo/runs/rv4p69xu' target=\"_blank\">https://wandb.ai/nilesh2797/hands_on_ml_demo/runs/rv4p69xu</a>"
      ],
      "text/plain": [
       "<IPython.core.display.HTML object>"
      ]
     },
     "metadata": {},
     "output_type": "display_data"
    }
   ],
   "source": [
    "# Import wandb and initialize\n",
    "import wandb\n",
    "\n",
    "# Initialize wandb with a project name and configuration\n",
    "wandb.init(\n",
    "    project=\"hands_on_ml_demo\",\n",
    "    config={\n",
    "        \"learning_rate\": 0.01,\n",
    "        \"epochs\": 10,\n",
    "        \"batch_size\": 32,\n",
    "        \"hidden_activation\": \"relu\",\n",
    "        \"hidden_size\": 128,\n",
    "        \"dataset\": \"CIFAR-10 (cats (0) vs dogs (1))\",\n",
    "        \"model\": \"SimpleBinaryNet\"\n",
    "    }\n",
    ")\n",
    "config = wandb.config"
   ]
  },
  {
   "cell_type": "code",
   "execution_count": 3,
   "metadata": {},
   "outputs": [
    {
     "name": "stdout",
     "output_type": "stream",
     "text": [
      "learning_rate: 0.01\n",
      "epochs: 10\n",
      "batch_size: 32\n",
      "hidden_activation: relu\n",
      "hidden_size: 128\n",
      "dataset: CIFAR-10 (cats (0) vs dogs (1))\n",
      "model: SimpleBinaryNet\n"
     ]
    }
   ],
   "source": [
    "print(*[f\"{k}: {v}\" for k, v in config.items()], sep=\"\\n\")"
   ]
  },
  {
   "cell_type": "markdown",
   "metadata": {},
   "source": [
    "## Data preparation"
   ]
  },
  {
   "cell_type": "code",
   "execution_count": 4,
   "metadata": {},
   "outputs": [],
   "source": [
    "# Setup Data Transformation\n",
    "transform = transforms.Compose([\n",
    "    transforms.ToTensor(),\n",
    "    transforms.Normalize((0.5, 0.5, 0.5), (0.5, 0.5, 0.5))\n",
    "])\n",
    "\n",
    "# Setup Target Transformation (0 for cats, 1 for dogs)\n",
    "target_transform = lambda x: 0 if x == 3 else 1"
   ]
  },
  {
   "cell_type": "code",
   "execution_count": 5,
   "metadata": {},
   "outputs": [],
   "source": [
    "# Load and Filter CIFAR-10 Data for Binary Classification (Ships vs Planes)\n",
    "train_dataset_full = datasets.CIFAR10(root='./data', train=True, transform=transform, target_transform=target_transform, download=True)\n",
    "test_dataset_full = datasets.CIFAR10(root='./data', train=False, transform=transform, target_transform=target_transform, download=True)\n",
    "\n",
    "train_indices = [i for i, target in enumerate(train_dataset_full.targets) if target in [3, 5]]\n",
    "test_indices = [i for i, target in enumerate(test_dataset_full.targets) if target in [3, 5]]\n",
    "\n",
    "train_dataset = Subset(train_dataset_full, train_indices)\n",
    "test_dataset = Subset(test_dataset_full, test_indices)\n",
    "\n",
    "# Create Validation Dataset\n",
    "train_size = int(0.8 * len(train_dataset))\n",
    "val_size = len(train_dataset) - train_size\n",
    "train_dataset, val_dataset = torch.utils.data.random_split(train_dataset, [train_size, val_size])"
   ]
  },
  {
   "cell_type": "code",
   "execution_count": 6,
   "metadata": {},
   "outputs": [
    {
     "data": {
      "image/png": "[encoded data removed]",
      "text/plain": [
       "<Figure size 800x800 with 1 Axes>"
      ]
     },
     "metadata": {},
     "output_type": "display_data"
    }
   ],
   "source": [
    "from torchvision.utils import make_grid\n",
    "\n",
    "# Function to visualize sample images from the dataset\n",
    "def visualize_samples(dataset, num_samples=16):\n",
    "    # Get a subset of the dataset\n",
    "    indices = torch.randperm(len(dataset))[:num_samples]\n",
    "    samples = [dataset[i][0] for i in indices]\n",
    "    \n",
    "    # Create a grid of images\n",
    "    grid = make_grid(samples, nrow=4, normalize=True)\n",
    "    \n",
    "    # Plot the grid\n",
    "    plt.figure(figsize=(8, 8))\n",
    "    plt.imshow(grid.permute(1, 2, 0))\n",
    "    plt.title('Sample Images from the Dataset')\n",
    "    plt.axis('off')\n",
    "    plt.show()\n",
    "\n",
    "# Visualize sample images from the training dataset\n",
    "visualize_samples(train_dataset)"
   ]
  },
  {
   "cell_type": "markdown",
   "metadata": {},
   "source": [
    "### Dataloader\n",
    "\n",
    "`DataLoader` is used to load data in batches and provides various utilities for shuffling, batching, and loading data in parallel.\n",
    "Important parameters:\n",
    "- `dataset`: The dataset to load.\n",
    "- `batch_size`: Number of samples in each batch.\n",
    "- `shuffle`: If True, shuffles the data before creating batches.\n",
    "- `num_workers`: Number of processes to use for data loading."
   ]
  },
  {
   "cell_type": "code",
   "execution_count": 7,
   "metadata": {},
   "outputs": [],
   "source": [
    "# Data Loaders\n",
    "train_loader = DataLoader(train_dataset, batch_size=config.batch_size, shuffle=True)\n",
    "val_loader = DataLoader(val_dataset, batch_size=config.batch_size, shuffle=False)\n",
    "test_loader = DataLoader(test_dataset, batch_size=config.batch_size, shuffle=False)"
   ]
  },
  {
   "cell_type": "markdown",
   "metadata": {},
   "source": [
    "## Setting up Model, Loss, and Optimizer"
   ]
  },
  {
   "cell_type": "code",
   "execution_count": 8,
   "metadata": {},
   "outputs": [
    {
     "name": "stderr",
     "output_type": "stream",
     "text": [
      "\u001b[34m\u001b[1mwandb\u001b[0m: logging graph, to disable use `wandb.watch(log_graph=False)`\n"
     ]
    }
   ],
   "source": [
    "# Define Simple Neural Network\n",
    "class SimpleBinaryNet(nn.Module):\n",
    "    def __init__(self, input_size=3*32*32, hidden_size=128, hidden_activation='sigmoid'):\n",
    "        super(SimpleBinaryNet, self).__init__()\n",
    "        self.w1 = nn.Parameter(torch.randn(input_size, hidden_size) / input_size**0.5) # Shape: (3*32*32) x hidden_size\n",
    "        self.b1 = nn.Parameter(torch.zeros(hidden_size)) # Shape: hidden_size\n",
    "        self.w2 = nn.Parameter(torch.randn(hidden_size, 1) / hidden_size**0.5) # Shape: hidden_size\n",
    "        self.b2 = nn.Parameter(torch.zeros(1)) # Shape: 1\n",
    "        self.hidden_activation_fn = F.sigmoid if hidden_activation == 'sigmoid' else F.relu if hidden_activation == 'relu' else ValueError(\"Unknown activation function\")\n",
    "\n",
    "    def forward(self, x):\n",
    "        '''Forward pass of the network\n",
    "        Args:\n",
    "            x: Input tensor of shape (batch_size, 3*32*32)\n",
    "        Returns:\n",
    "            logits: Raw logits of shape (batch_size, 1)\n",
    "        '''\n",
    "        x = x.view(x.size(0), -1) # Flatten the image, shape: (batch_size, 3*32*32)\n",
    "        z1 = torch.matmul(x, self.w1) + self.b1 # Shape: (batch_size, hidden_size)\n",
    "        a1 = self.hidden_activation_fn(z1) # Shape: (batch_size, hidden_size)\n",
    "        z2 = torch.matmul(a1, self.w2) + self.b2 # Shape: (batch_size, 1)\n",
    "        return z2\n",
    "    \n",
    "class NNLinearBinaryNet(nn.Module):\n",
    "    def __init__(self, input_size=3*32*32, hidden_size=128, hidden_activation='sigmoid'):\n",
    "        super(NNLinearBinaryNet, self).__init__()\n",
    "        self.fc1 = nn.Linear(input_size, hidden_size)\n",
    "        self.fc2 = nn.Linear(hidden_size, hidden_size // 2)\n",
    "        self.fc3 = nn.Linear(hidden_size // 2, 1)\n",
    "        self.hidden_activation_fn = F.sigmoid if hidden_activation == 'sigmoid' else F.relu if hidden_activation == 'relu' else ValueError(\"Unknown activation function\")\n",
    "\n",
    "    def forward(self, x):\n",
    "        '''Forward pass of the network\n",
    "        Args:\n",
    "            x: Input tensor of shape (batch_size, 3*32*32)\n",
    "        Returns:\n",
    "            logits: Raw logits of shape (batch_size, 1)\n",
    "        '''\n",
    "        x = x.view(x.size(0), -1)  # Flatten the image, shape: (batch_size, 3*32*32)\n",
    "        x = self.hidden_activation_fn(self.fc1(x)) # Shape: (batch_size, hidden_size)\n",
    "        x = self.hidden_activation_fn(self.fc2(x))\n",
    "        x = self.fc3(x)\n",
    "        return x\n",
    "\n",
    "if config.model == \"SimpleBinaryNet\":\n",
    "    model = SimpleBinaryNet(input_size=3*32*32, hidden_size=config.hidden_size, hidden_activation=config.hidden_activation)\n",
    "elif config.model == \"NNLinearNet\":\n",
    "    model = NNLinearBinaryNet(input_size=3*32*32, hidden_size=config.hidden_size, hidden_activation=config.hidden_activation)\n",
    "else:\n",
    "    raise ValueError(\"Unknown model type\")\n",
    "\n",
    "# Use wandb.watch to log gradients and model parameters\n",
    "wandb.watch(model, log=\"all\", log_freq=100, log_graph=True)"
   ]
  },
  {
   "cell_type": "code",
   "execution_count": 9,
   "metadata": {},
   "outputs": [],
   "source": [
    "# Define Loss Function and Optimizer\n",
    "criterion = nn.BCEWithLogitsLoss()\n",
    "optimizer = optim.SGD(model.parameters(), lr=config.learning_rate)"
   ]
  },
  {
   "cell_type": "code",
   "execution_count": 10,
   "metadata": {},
   "outputs": [],
   "source": [
    "sample_batch = next(iter(train_loader))"
   ]
  },
  {
   "cell_type": "code",
   "execution_count": 11,
   "metadata": {},
   "outputs": [
    {
     "data": {
      "image/svg+xml": [
       "<?xml version=\"1.0\" encoding=\"UTF-8\" standalone=\"no\"?>\n",
       "<!DOCTYPE svg PUBLIC \"-//W3C//DTD SVG 1.1//EN\"\n",
       " \"http://www.w3.org/Graphics/SVG/1.1/DTD/svg11.dtd\">\n",
       "<!-- Generated by graphviz version 12.2.1 (20241206.2353)\n",
       " -->\n",
       "<!-- Pages: 1 -->\n",
       "<svg width=\"393pt\" height=\"546pt\"\n",
       " viewBox=\"0.00 0.00 393.00 545.75\" xmlns=\"http://www.w3.org/2000/svg\" xmlns:xlink=\"http://www.w3.org/1999/xlink\">\n",
       "<g id=\"graph0\" class=\"graph\" transform=\"scale(1 1) rotate(0) translate(4 541.75)\">\n",
       "<polygon fill=\"white\" stroke=\"none\" points=\"-4,4 -4,-541.75 389,-541.75 389,4 -4,4\"/>\n",
       "<!-- 6302067376 -->\n",
       "<g id=\"node1\" class=\"node\">\n",
       "<title>6302067376</title>\n",
       "<polygon fill=\"#caff70\" stroke=\"black\" points=\"293,-32.75 239,-32.75 239,0 293,0 293,-32.75\"/>\n",
       "<text text-anchor=\"middle\" x=\"266\" y=\"-7.25\" font-family=\"monospace\" font-size=\"10.00\"> ()</text>\n",
       "</g>\n",
       "<!-- 6301076880 -->\n",
       "<g id=\"node2\" class=\"node\">\n",
       "<title>6301076880</title>\n",
       "<polygon fill=\"lightgrey\" stroke=\"black\" points=\"385,-89.5 147,-89.5 147,-68.75 385,-68.75 385,-89.5\"/>\n",
       "<text text-anchor=\"middle\" x=\"266\" y=\"-76\" font-family=\"monospace\" font-size=\"10.00\">BinaryCrossEntropyWithLogitsBackward0</text>\n",
       "</g>\n",
       "<!-- 6301076880&#45;&gt;6302067376 -->\n",
       "<g id=\"edge14\" class=\"edge\">\n",
       "<title>6301076880&#45;&gt;6302067376</title>\n",
       "<path fill=\"none\" stroke=\"black\" d=\"M266,-68.36C266,-61.89 266,-53.05 266,-44.55\"/>\n",
       "<polygon fill=\"black\" stroke=\"black\" points=\"269.5,-44.55 266,-34.55 262.5,-44.55 269.5,-44.55\"/>\n",
       "</g>\n",
       "<!-- 6301083600 -->\n",
       "<g id=\"node3\" class=\"node\">\n",
       "<title>6301083600</title>\n",
       "<polygon fill=\"lightgrey\" stroke=\"black\" points=\"310,-146.25 222,-146.25 222,-125.5 310,-125.5 310,-146.25\"/>\n",
       "<text text-anchor=\"middle\" x=\"266\" y=\"-132.75\" font-family=\"monospace\" font-size=\"10.00\">AddBackward0</text>\n",
       "</g>\n",
       "<!-- 6301083600&#45;&gt;6301076880 -->\n",
       "<g id=\"edge1\" class=\"edge\">\n",
       "<title>6301083600&#45;&gt;6301076880</title>\n",
       "<path fill=\"none\" stroke=\"black\" d=\"M266,-125.09C266,-118.47 266,-109.47 266,-101.27\"/>\n",
       "<polygon fill=\"black\" stroke=\"black\" points=\"269.5,-101.34 266,-91.34 262.5,-101.34 269.5,-101.34\"/>\n",
       "</g>\n",
       "<!-- 6301076640 -->\n",
       "<g id=\"node4\" class=\"node\">\n",
       "<title>6301076640</title>\n",
       "<polygon fill=\"lightgrey\" stroke=\"black\" points=\"253,-203 171,-203 171,-182.25 253,-182.25 253,-203\"/>\n",
       "<text text-anchor=\"middle\" x=\"212\" y=\"-189.5\" font-family=\"monospace\" font-size=\"10.00\">MmBackward0</text>\n",
       "</g>\n",
       "<!-- 6301076640&#45;&gt;6301083600 -->\n",
       "<g id=\"edge2\" class=\"edge\">\n",
       "<title>6301076640&#45;&gt;6301083600</title>\n",
       "<path fill=\"none\" stroke=\"black\" d=\"M221.65,-181.84C229.1,-174.28 239.61,-163.64 248.52,-154.6\"/>\n",
       "<polygon fill=\"black\" stroke=\"black\" points=\"250.84,-157.23 255.37,-147.66 245.85,-152.32 250.84,-157.23\"/>\n",
       "</g>\n",
       "<!-- 6301083408 -->\n",
       "<g id=\"node5\" class=\"node\">\n",
       "<title>6301083408</title>\n",
       "<polygon fill=\"lightgrey\" stroke=\"black\" points=\"151,-266.12 57,-266.12 57,-245.38 151,-245.38 151,-266.12\"/>\n",
       "<text text-anchor=\"middle\" x=\"104\" y=\"-252.62\" font-family=\"monospace\" font-size=\"10.00\">ReluBackward0</text>\n",
       "</g>\n",
       "<!-- 6301083408&#45;&gt;6301076640 -->\n",
       "<g id=\"edge3\" class=\"edge\">\n",
       "<title>6301083408&#45;&gt;6301076640</title>\n",
       "<path fill=\"none\" stroke=\"black\" d=\"M121.35,-244.93C138.44,-235.26 164.78,-220.35 184.68,-209.09\"/>\n",
       "<polygon fill=\"black\" stroke=\"black\" points=\"186.39,-212.14 193.37,-204.17 182.95,-206.05 186.39,-212.14\"/>\n",
       "</g>\n",
       "<!-- 6301083648 -->\n",
       "<g id=\"node6\" class=\"node\">\n",
       "<title>6301083648</title>\n",
       "<polygon fill=\"lightgrey\" stroke=\"black\" points=\"148,-335.62 60,-335.62 60,-314.88 148,-314.88 148,-335.62\"/>\n",
       "<text text-anchor=\"middle\" x=\"104\" y=\"-322.12\" font-family=\"monospace\" font-size=\"10.00\">AddBackward0</text>\n",
       "</g>\n",
       "<!-- 6301083648&#45;&gt;6301083408 -->\n",
       "<g id=\"edge4\" class=\"edge\">\n",
       "<title>6301083648&#45;&gt;6301083408</title>\n",
       "<path fill=\"none\" stroke=\"black\" d=\"M104,-314.58C104,-304.96 104,-289.88 104,-277.54\"/>\n",
       "<polygon fill=\"black\" stroke=\"black\" points=\"107.5,-277.92 104,-267.92 100.5,-277.92 107.5,-277.92\"/>\n",
       "</g>\n",
       "<!-- 6301083696 -->\n",
       "<g id=\"node7\" class=\"node\">\n",
       "<title>6301083696</title>\n",
       "<polygon fill=\"lightgrey\" stroke=\"black\" points=\"91,-398.75 9,-398.75 9,-378 91,-378 91,-398.75\"/>\n",
       "<text text-anchor=\"middle\" x=\"50\" y=\"-385.25\" font-family=\"monospace\" font-size=\"10.00\">MmBackward0</text>\n",
       "</g>\n",
       "<!-- 6301083696&#45;&gt;6301083648 -->\n",
       "<g id=\"edge5\" class=\"edge\">\n",
       "<title>6301083696&#45;&gt;6301083648</title>\n",
       "<path fill=\"none\" stroke=\"black\" d=\"M58.68,-377.55C66.6,-368.59 78.5,-355.12 88.12,-344.23\"/>\n",
       "<polygon fill=\"black\" stroke=\"black\" points=\"90.52,-346.79 94.52,-336.98 85.28,-342.16 90.52,-346.79\"/>\n",
       "</g>\n",
       "<!-- 6302220496 -->\n",
       "<g id=\"node8\" class=\"node\">\n",
       "<title>6302220496</title>\n",
       "<polygon fill=\"lightgrey\" stroke=\"black\" points=\"100,-461.88 0,-461.88 0,-441.12 100,-441.12 100,-461.88\"/>\n",
       "<text text-anchor=\"middle\" x=\"50\" y=\"-448.38\" font-family=\"monospace\" font-size=\"10.00\">AccumulateGrad</text>\n",
       "</g>\n",
       "<!-- 6302220496&#45;&gt;6301083696 -->\n",
       "<g id=\"edge6\" class=\"edge\">\n",
       "<title>6302220496&#45;&gt;6301083696</title>\n",
       "<path fill=\"none\" stroke=\"black\" d=\"M50,-440.68C50,-432.52 50,-420.63 50,-410.35\"/>\n",
       "<polygon fill=\"black\" stroke=\"black\" points=\"53.5,-410.48 50,-400.48 46.5,-410.48 53.5,-410.48\"/>\n",
       "</g>\n",
       "<!-- 6301012176 -->\n",
       "<g id=\"node9\" class=\"node\">\n",
       "<title>6301012176</title>\n",
       "<polygon fill=\"lightblue\" stroke=\"black\" points=\"94,-537.75 6,-537.75 6,-504.25 94,-504.25 94,-537.75\"/>\n",
       "<text text-anchor=\"middle\" x=\"50\" y=\"-524.25\" font-family=\"monospace\" font-size=\"10.00\">w1</text>\n",
       "<text text-anchor=\"middle\" x=\"50\" y=\"-511.5\" font-family=\"monospace\" font-size=\"10.00\"> (3072, 128)</text>\n",
       "</g>\n",
       "<!-- 6301012176&#45;&gt;6302220496 -->\n",
       "<g id=\"edge7\" class=\"edge\">\n",
       "<title>6301012176&#45;&gt;6302220496</title>\n",
       "<path fill=\"none\" stroke=\"black\" d=\"M50,-504C50,-494.9 50,-483.39 50,-473.57\"/>\n",
       "<polygon fill=\"black\" stroke=\"black\" points=\"53.5,-473.84 50,-463.84 46.5,-473.84 53.5,-473.84\"/>\n",
       "</g>\n",
       "<!-- 6301076544 -->\n",
       "<g id=\"node10\" class=\"node\">\n",
       "<title>6301076544</title>\n",
       "<polygon fill=\"lightgrey\" stroke=\"black\" points=\"209,-398.75 109,-398.75 109,-378 209,-378 209,-398.75\"/>\n",
       "<text text-anchor=\"middle\" x=\"159\" y=\"-385.25\" font-family=\"monospace\" font-size=\"10.00\">AccumulateGrad</text>\n",
       "</g>\n",
       "<!-- 6301076544&#45;&gt;6301083648 -->\n",
       "<g id=\"edge8\" class=\"edge\">\n",
       "<title>6301076544&#45;&gt;6301083648</title>\n",
       "<path fill=\"none\" stroke=\"black\" d=\"M150.16,-377.55C142.1,-368.59 129.98,-355.12 120.18,-344.23\"/>\n",
       "<polygon fill=\"black\" stroke=\"black\" points=\"122.94,-342.06 113.65,-336.97 117.73,-346.74 122.94,-342.06\"/>\n",
       "</g>\n",
       "<!-- 6301012272 -->\n",
       "<g id=\"node11\" class=\"node\">\n",
       "<title>6301012272</title>\n",
       "<polygon fill=\"lightblue\" stroke=\"black\" points=\"186,-468.25 132,-468.25 132,-434.75 186,-434.75 186,-468.25\"/>\n",
       "<text text-anchor=\"middle\" x=\"159\" y=\"-454.75\" font-family=\"monospace\" font-size=\"10.00\">b1</text>\n",
       "<text text-anchor=\"middle\" x=\"159\" y=\"-442\" font-family=\"monospace\" font-size=\"10.00\"> (128)</text>\n",
       "</g>\n",
       "<!-- 6301012272&#45;&gt;6301076544 -->\n",
       "<g id=\"edge9\" class=\"edge\">\n",
       "<title>6301012272&#45;&gt;6301076544</title>\n",
       "<path fill=\"none\" stroke=\"black\" d=\"M159,-434.44C159,-427.1 159,-418.32 159,-410.46\"/>\n",
       "<polygon fill=\"black\" stroke=\"black\" points=\"162.5,-410.73 159,-400.73 155.5,-410.73 162.5,-410.73\"/>\n",
       "</g>\n",
       "<!-- 6301076736 -->\n",
       "<g id=\"node12\" class=\"node\">\n",
       "<title>6301076736</title>\n",
       "<polygon fill=\"lightgrey\" stroke=\"black\" points=\"269,-266.12 169,-266.12 169,-245.38 269,-245.38 269,-266.12\"/>\n",
       "<text text-anchor=\"middle\" x=\"219\" y=\"-252.62\" font-family=\"monospace\" font-size=\"10.00\">AccumulateGrad</text>\n",
       "</g>\n",
       "<!-- 6301076736&#45;&gt;6301076640 -->\n",
       "<g id=\"edge10\" class=\"edge\">\n",
       "<title>6301076736&#45;&gt;6301076640</title>\n",
       "<path fill=\"none\" stroke=\"black\" d=\"M217.88,-244.93C216.94,-236.77 215.58,-224.88 214.4,-214.6\"/>\n",
       "<polygon fill=\"black\" stroke=\"black\" points=\"217.89,-214.26 213.27,-204.72 210.93,-215.06 217.89,-214.26\"/>\n",
       "</g>\n",
       "<!-- 6301012560 -->\n",
       "<g id=\"node13\" class=\"node\">\n",
       "<title>6301012560</title>\n",
       "<polygon fill=\"lightblue\" stroke=\"black\" points=\"254,-342 184,-342 184,-308.5 254,-308.5 254,-342\"/>\n",
       "<text text-anchor=\"middle\" x=\"219\" y=\"-328.5\" font-family=\"monospace\" font-size=\"10.00\">w2</text>\n",
       "<text text-anchor=\"middle\" x=\"219\" y=\"-315.75\" font-family=\"monospace\" font-size=\"10.00\"> (128, 1)</text>\n",
       "</g>\n",
       "<!-- 6301012560&#45;&gt;6301076736 -->\n",
       "<g id=\"edge11\" class=\"edge\">\n",
       "<title>6301012560&#45;&gt;6301076736</title>\n",
       "<path fill=\"none\" stroke=\"black\" d=\"M219,-308.25C219,-299.15 219,-287.64 219,-277.82\"/>\n",
       "<polygon fill=\"black\" stroke=\"black\" points=\"222.5,-278.09 219,-268.09 215.5,-278.09 222.5,-278.09\"/>\n",
       "</g>\n",
       "<!-- 6301076976 -->\n",
       "<g id=\"node14\" class=\"node\">\n",
       "<title>6301076976</title>\n",
       "<polygon fill=\"lightgrey\" stroke=\"black\" points=\"371,-203 271,-203 271,-182.25 371,-182.25 371,-203\"/>\n",
       "<text text-anchor=\"middle\" x=\"321\" y=\"-189.5\" font-family=\"monospace\" font-size=\"10.00\">AccumulateGrad</text>\n",
       "</g>\n",
       "<!-- 6301076976&#45;&gt;6301083600 -->\n",
       "<g id=\"edge12\" class=\"edge\">\n",
       "<title>6301076976&#45;&gt;6301083600</title>\n",
       "<path fill=\"none\" stroke=\"black\" d=\"M311.17,-181.84C303.58,-174.28 292.88,-163.64 283.8,-154.6\"/>\n",
       "<polygon fill=\"black\" stroke=\"black\" points=\"286.38,-152.22 276.82,-147.65 281.44,-157.18 286.38,-152.22\"/>\n",
       "</g>\n",
       "<!-- 6301010832 -->\n",
       "<g id=\"node15\" class=\"node\">\n",
       "<title>6301010832</title>\n",
       "<polygon fill=\"lightblue\" stroke=\"black\" points=\"348,-272.5 294,-272.5 294,-239 348,-239 348,-272.5\"/>\n",
       "<text text-anchor=\"middle\" x=\"321\" y=\"-259\" font-family=\"monospace\" font-size=\"10.00\">b2</text>\n",
       "<text text-anchor=\"middle\" x=\"321\" y=\"-246.25\" font-family=\"monospace\" font-size=\"10.00\"> (1)</text>\n",
       "</g>\n",
       "<!-- 6301010832&#45;&gt;6301076976 -->\n",
       "<g id=\"edge13\" class=\"edge\">\n",
       "<title>6301010832&#45;&gt;6301076976</title>\n",
       "<path fill=\"none\" stroke=\"black\" d=\"M321,-238.69C321,-231.35 321,-222.57 321,-214.71\"/>\n",
       "<polygon fill=\"black\" stroke=\"black\" points=\"324.5,-214.98 321,-204.98 317.5,-214.98 324.5,-214.98\"/>\n",
       "</g>\n",
       "</g>\n",
       "</svg>\n"
      ],
      "text/plain": [
       "<graphviz.graphs.Digraph at 0x177988ed0>"
      ]
     },
     "execution_count": 11,
     "metadata": {},
     "output_type": "execute_result"
    }
   ],
   "source": [
    "from torchviz import make_dot\n",
    "pred = model(sample_batch[0])\n",
    "loss = criterion(pred, sample_batch[1].float().view(-1, 1))\n",
    "make_dot(loss, params=dict(model.named_parameters()), show_attrs=False, show_saved=False)"
   ]
  },
  {
   "cell_type": "markdown",
   "metadata": {},
   "source": [
    "## Setting up Training and Evaluation Loops"
   ]
  },
  {
   "cell_type": "code",
   "execution_count": 12,
   "metadata": {},
   "outputs": [],
   "source": [
    "from tqdm import tqdm\n",
    "\n",
    "# Define Training and Evaluation Functions\n",
    "def train(model, device, train_loader, optimizer, criterion, epoch):\n",
    "    model.train()\n",
    "    running_loss = 0.0\n",
    "    running_num_batches = 0\n",
    "    pbar = tqdm(enumerate(train_loader), total=len(train_loader), desc=f'Epoch {epoch}', dynamic_ncols=True)\n",
    "    for batch_idx, (data, target) in pbar:\n",
    "        data, target = data.to(device), target.to(device).float().unsqueeze(1)\n",
    "        \n",
    "        optimizer.zero_grad()\n",
    "        output = model(data)\n",
    "        loss = criterion(output, target)\n",
    "        loss.backward()\n",
    "        optimizer.step()\n",
    "\n",
    "        running_loss += loss.item()\n",
    "        running_num_batches += 1\n",
    "        # Log loss per batch\n",
    "        wandb.log({\"train_loss\": loss.item(), \"epoch\": epoch, \"batch\": batch_idx})\n",
    "        pbar.set_postfix({'mean loss': running_loss / running_num_batches})\n",
    "    \n",
    "    avg_loss = running_loss / len(train_loader)\n",
    "    print(f'Average training loss for epoch {epoch}: {avg_loss:.6f}')\n",
    "    return avg_loss"
   ]
  },
  {
   "cell_type": "code",
   "execution_count": 13,
   "metadata": {},
   "outputs": [],
   "source": [
    "def evaluate(model, device, data_loader, criterion, epoch, split=\"val\"):\n",
    "    model.eval()\n",
    "    test_loss = 0\n",
    "    correct = 0\n",
    "    sample_images = []  # To collect sample images and predictions\n",
    "    sample_preds = []\n",
    "    sample_targets = []\n",
    "    \n",
    "    with torch.no_grad():\n",
    "        for batch_idx, (data, target) in enumerate(data_loader):\n",
    "            data, target = data.to(device), target.to(device).float().unsqueeze(1)\n",
    "            output = model(data)\n",
    "            test_loss += criterion(output, target).item()\n",
    "            preds = (torch.sigmoid(output) >= 0.5).to(target.dtype)  # threshold at 0.5\n",
    "            correct += preds.eq(target.byte()).sum().item()\n",
    "\n",
    "            # Save first batch sample predictions for visualization\n",
    "            if batch_idx == 0:\n",
    "                sample_images.append(data.cpu())\n",
    "                sample_preds.append(preds.cpu())\n",
    "                sample_targets.append(target.cpu())\n",
    "    \n",
    "    test_loss /= len(data_loader)\n",
    "    accuracy = 100. * correct / len(data_loader.dataset)\n",
    "    print(f'\\n{split.capitalize()} set: Average loss: {test_loss:.4f}, Accuracy: {accuracy:.2f}%\\n')\n",
    "    \n",
    "    # Log evaluation metrics to wandb\n",
    "    wandb.log({f\"{split}_loss\": test_loss, f\"{split}_accuracy\": accuracy, \"epoch\": epoch})\n",
    "    \n",
    "    # Log sample predictions (showing first batch of test set)\n",
    "    if sample_images:\n",
    "        # Log a list of sample images with predictions and targets as captions\n",
    "        wandb.log({\n",
    "            f\"{split}_sample_predictions\": [wandb.Image(img, caption=f\"Pred: {'Dog' if pred.item() else 'Cat'}, Gold: {'Dog' if target.item() else 'Cat'}\")\n",
    "                                   for img, pred, target in zip(sample_images[0], sample_preds[0], sample_targets[0])]\n",
    "        })\n",
    "    \n",
    "    return test_loss, accuracy"
   ]
  },
  {
   "cell_type": "markdown",
   "metadata": {},
   "source": [
    "## Training the Model"
   ]
  },
  {
   "cell_type": "code",
   "execution_count": 14,
   "metadata": {},
   "outputs": [
    {
     "name": "stderr",
     "output_type": "stream",
     "text": [
      "Epoch 1: 100%|██████████| 250/250 [00:01<00:00, 243.80it/s, mean loss=0.664]\n"
     ]
    },
    {
     "name": "stdout",
     "output_type": "stream",
     "text": [
      "Average training loss for epoch 1: 0.663668\n",
      "\n",
      "Val set: Average loss: 0.6542, Accuracy: 60.50%\n",
      "\n",
      "\n",
      "Train set: Average loss: 0.6381, Accuracy: 63.21%\n",
      "\n"
     ]
    },
    {
     "name": "stderr",
     "output_type": "stream",
     "text": [
      "Epoch 2: 100%|██████████| 250/250 [00:00<00:00, 287.84it/s, mean loss=0.638]\n"
     ]
    },
    {
     "name": "stdout",
     "output_type": "stream",
     "text": [
      "Average training loss for epoch 2: 0.637992\n",
      "\n",
      "Val set: Average loss: 0.6510, Accuracy: 61.95%\n",
      "\n",
      "\n",
      "Train set: Average loss: 0.6206, Accuracy: 65.42%\n",
      "\n"
     ]
    },
    {
     "name": "stderr",
     "output_type": "stream",
     "text": [
      "Epoch 3: 100%|██████████| 250/250 [00:00<00:00, 296.58it/s, mean loss=0.624]\n"
     ]
    },
    {
     "name": "stdout",
     "output_type": "stream",
     "text": [
      "Average training loss for epoch 3: 0.624370\n",
      "\n",
      "Val set: Average loss: 0.6471, Accuracy: 62.50%\n",
      "\n",
      "\n",
      "Train set: Average loss: 0.6063, Accuracy: 66.96%\n",
      "\n"
     ]
    },
    {
     "name": "stderr",
     "output_type": "stream",
     "text": [
      "Epoch 4: 100%|██████████| 250/250 [00:00<00:00, 285.91it/s, mean loss=0.612]\n"
     ]
    },
    {
     "name": "stdout",
     "output_type": "stream",
     "text": [
      "Average training loss for epoch 4: 0.612083\n",
      "\n",
      "Val set: Average loss: 0.6469, Accuracy: 62.25%\n",
      "\n",
      "\n",
      "Train set: Average loss: 0.5976, Accuracy: 68.08%\n",
      "\n"
     ]
    },
    {
     "name": "stderr",
     "output_type": "stream",
     "text": [
      "Epoch 5: 100%|██████████| 250/250 [00:01<00:00, 230.08it/s, mean loss=0.603]\n"
     ]
    },
    {
     "name": "stdout",
     "output_type": "stream",
     "text": [
      "Average training loss for epoch 5: 0.603175\n",
      "\n",
      "Val set: Average loss: 0.6406, Accuracy: 62.80%\n",
      "\n",
      "\n",
      "Train set: Average loss: 0.5835, Accuracy: 69.89%\n",
      "\n"
     ]
    },
    {
     "name": "stderr",
     "output_type": "stream",
     "text": [
      "Epoch 6: 100%|██████████| 250/250 [00:00<00:00, 367.70it/s, mean loss=0.593]\n"
     ]
    },
    {
     "name": "stdout",
     "output_type": "stream",
     "text": [
      "Average training loss for epoch 6: 0.592636\n",
      "\n",
      "Val set: Average loss: 0.6471, Accuracy: 62.85%\n",
      "\n",
      "\n",
      "Train set: Average loss: 0.5771, Accuracy: 70.15%\n",
      "\n"
     ]
    },
    {
     "name": "stderr",
     "output_type": "stream",
     "text": [
      "Epoch 7: 100%|██████████| 250/250 [00:00<00:00, 348.59it/s, mean loss=0.582]\n"
     ]
    },
    {
     "name": "stdout",
     "output_type": "stream",
     "text": [
      "Average training loss for epoch 7: 0.582014\n",
      "\n",
      "Val set: Average loss: 0.6437, Accuracy: 62.95%\n",
      "\n",
      "\n",
      "Train set: Average loss: 0.5698, Accuracy: 71.16%\n",
      "\n"
     ]
    },
    {
     "name": "stderr",
     "output_type": "stream",
     "text": [
      "Epoch 8: 100%|██████████| 250/250 [00:00<00:00, 368.10it/s, mean loss=0.573]\n"
     ]
    },
    {
     "name": "stdout",
     "output_type": "stream",
     "text": [
      "Average training loss for epoch 8: 0.573100\n",
      "\n",
      "Val set: Average loss: 0.6394, Accuracy: 63.50%\n",
      "\n",
      "\n",
      "Train set: Average loss: 0.5544, Accuracy: 73.21%\n",
      "\n"
     ]
    },
    {
     "name": "stderr",
     "output_type": "stream",
     "text": [
      "Epoch 9: 100%|██████████| 250/250 [00:00<00:00, 369.93it/s, mean loss=0.562]\n"
     ]
    },
    {
     "name": "stdout",
     "output_type": "stream",
     "text": [
      "Average training loss for epoch 9: 0.562172\n",
      "\n",
      "Val set: Average loss: 0.6506, Accuracy: 62.95%\n",
      "\n",
      "\n",
      "Train set: Average loss: 0.5490, Accuracy: 73.10%\n",
      "\n"
     ]
    },
    {
     "name": "stderr",
     "output_type": "stream",
     "text": [
      "Epoch 10: 100%|██████████| 250/250 [00:00<00:00, 344.07it/s, mean loss=0.552]\n"
     ]
    },
    {
     "name": "stdout",
     "output_type": "stream",
     "text": [
      "Average training loss for epoch 10: 0.552380\n",
      "\n",
      "Val set: Average loss: 0.6467, Accuracy: 63.25%\n",
      "\n",
      "\n",
      "Train set: Average loss: 0.5327, Accuracy: 74.17%\n",
      "\n"
     ]
    }
   ],
   "source": [
    "# Training and Evaluation Loop with wandb tracking\n",
    "device = torch.device(\"cuda\" if torch.cuda.is_available() else \"cpu\")\n",
    "model.to(device)\n",
    "epochs = config.epochs\n",
    "\n",
    "train_losses = []\n",
    "test_accuracies = []\n",
    "\n",
    "for epoch in range(1, epochs + 1):\n",
    "    train_loss = train(model, device, train_loader, optimizer, criterion, epoch)\n",
    "    val_loss, val_acc = evaluate(model, device, val_loader, criterion, epoch)\n",
    "    train_loss, train_acc = evaluate(model, device, train_loader, criterion, epoch, split=\"train\")\n",
    "    \n",
    "    wandb.log({\"train_loss\": train_loss, \"train_accuracy\": train_acc, \"val_loss\": val_loss, \"val_accuracy\": val_acc, \"epoch\": epoch})"
   ]
  },
  {
   "cell_type": "markdown",
   "metadata": {},
   "source": [
    "## Evaluating the Model"
   ]
  },
  {
   "cell_type": "code",
   "execution_count": 15,
   "metadata": {},
   "outputs": [
    {
     "name": "stdout",
     "output_type": "stream",
     "text": [
      "\n",
      "Test set: Average loss: 0.6390, Accuracy: 64.10%\n",
      "\n"
     ]
    },
    {
     "data": {
      "text/html": [],
      "text/plain": [
       "<IPython.core.display.HTML object>"
      ]
     },
     "metadata": {},
     "output_type": "display_data"
    },
    {
     "data": {
      "text/html": [
       "<br>    <style><br>        .wandb-row {<br>            display: flex;<br>            flex-direction: row;<br>            flex-wrap: wrap;<br>            justify-content: flex-start;<br>            width: 100%;<br>        }<br>        .wandb-col {<br>            display: flex;<br>            flex-direction: column;<br>            flex-basis: 100%;<br>            flex: 1;<br>            padding: 10px;<br>        }<br>    </style><br><div class=\"wandb-row\"><div class=\"wandb-col\"><h3>Run history:</h3><br/><table class=\"wandb\"><tr><td>batch</td><td>▂▇▇▃▃▄▄▆▆▂▄▄▆█▂▅▆▆▁▂▄██▅▆▁▃▄▅▇▁▂▅▅▅▂▂▃▅▆</td></tr><tr><td>epoch</td><td>▁▁▂▂▂▂▃▃▃▃▃▃▃▄▄▄▄▄▅▅▅▆▆▆▆▆▆▆▆▆▆▆▇▇▇█████</td></tr><tr><td>test_accuracy</td><td>▁</td></tr><tr><td>test_loss</td><td>▁</td></tr><tr><td>train_accuracy</td><td>▁▁▂▂▃▃▅▅▅▅▅▅▇▇▇▇▇▇██</td></tr><tr><td>train_loss</td><td>▇▄▆▅▃▇▆▄▅▃▅▆▄▅▂▄▅▅▄▄▆▃█▃▃▆▃▄▁▃▂▄▁▃▄▄▆▂▅▃</td></tr><tr><td>val_accuracy</td><td>▁▁▅▅▂▂▆▆▇▇██▅▅▇▇▆▆▇▇</td></tr><tr><td>val_loss</td><td>██▄▄▅▅▃▃▂▂▁▁▃▃▁▁▄▄▃▃</td></tr></table><br/></div><div class=\"wandb-col\"><h3>Run summary:</h3><br/><table class=\"wandb\"><tr><td>batch</td><td>249</td></tr><tr><td>epoch</td><td>10</td></tr><tr><td>test_accuracy</td><td>64.1</td></tr><tr><td>test_loss</td><td>0.63903</td></tr><tr><td>train_accuracy</td><td>73.825</td></tr><tr><td>train_loss</td><td>0.53792</td></tr><tr><td>val_accuracy</td><td>63.35</td></tr><tr><td>val_loss</td><td>0.64168</td></tr></table><br/></div></div>"
      ],
      "text/plain": [
       "<IPython.core.display.HTML object>"
      ]
     },
     "metadata": {},
     "output_type": "display_data"
    },
    {
     "data": {
      "text/html": [
       " View run <strong style=\"color:#cdcd00\">chocolate-dust-55</strong> at: <a href='https://wandb.ai/nilesh2797/hands_on_ml_demo/runs/fmc6di72' target=\"_blank\">https://wandb.ai/nilesh2797/hands_on_ml_demo/runs/fmc6di72</a><br> View project at: <a href='https://wandb.ai/nilesh2797/hands_on_ml_demo' target=\"_blank\">https://wandb.ai/nilesh2797/hands_on_ml_demo</a><br>Synced 5 W&B file(s), 672 media file(s), 0 artifact file(s) and 0 other file(s)"
      ],
      "text/plain": [
       "<IPython.core.display.HTML object>"
      ]
     },
     "metadata": {},
     "output_type": "display_data"
    },
    {
     "data": {
      "text/html": [
       "Find logs at: <code>./wandb/run-20250226_133509-fmc6di72/logs</code>"
      ],
      "text/plain": [
       "<IPython.core.display.HTML object>"
      ]
     },
     "metadata": {},
     "output_type": "display_data"
    }
   ],
   "source": [
    "test_loss, test_acc = evaluate(model, device, test_loader, criterion, epoch, split=\"test\")\n",
    "wandb.finish()"
   ]
  },
  {
   "cell_type": "markdown",
   "metadata": {},
   "source": [
    "## Automatic Hyperparameter Sweep with wandb\n",
    "\n",
    "Hyperparameter sweeps allow you to automatically explore different configurations to optimize your model's performance. In this section, we set up a sweep to tune key hyperparameters such as learning rate, batch size, and the size of the hidden layer. We use a Bayesian optimization approach to maximize the test accuracy.\n",
    "\n",
    "The sweep will run multiple experiments, and wandb will aggregate the results so that you can easily compare and select the best configuration."
   ]
  },
  {
   "cell_type": "code",
   "execution_count": 20,
   "metadata": {},
   "outputs": [
    {
     "name": "stdout",
     "output_type": "stream",
     "text": [
      "Create sweep with ID: 1sn1nvxk\n",
      "Sweep URL: https://wandb.ai/nilesh2797/hands_on_ml_demo/sweeps/1sn1nvxk\n",
      "Sweep ID: 1sn1nvxk\n"
     ]
    }
   ],
   "source": [
    "# Define the sweep configuration\n",
    "sweep_configuration = {\n",
    "    'method': 'grid',  # Bayesian optimization\n",
    "    'metric': {\n",
    "         'name': 'val_accuracy',\n",
    "         'goal': 'maximize'\n",
    "    },\n",
    "    'parameters': {\n",
    "         'learning_rate': {'values': [0.001, 0.0001, 0.01]},\n",
    "         'batch_size': {'values': [32, 64, 128]},\n",
    "         'hidden_size': {'values': [64, 128, 256]},\n",
    "         'epochs': {'value': 3}  # keep epochs small for quick sweeps\n",
    "    }\n",
    "}\n",
    "\n",
    "# Initialize the sweep\n",
    "sweep_id = wandb.sweep(sweep=sweep_configuration, project=\"hands_on_ml_demo\")\n",
    "print(\"Sweep ID:\", sweep_id)"
   ]
  },
  {
   "cell_type": "code",
   "execution_count": 21,
   "metadata": {},
   "outputs": [],
   "source": [
    "def sweep_train():\n",
    "    \"\"\"Training function for hyperparameter sweep runs.\"\"\"\n",
    "    # Initialize wandb for this sweep run\n",
    "    wandb.init()\n",
    "    config = wandb.config\n",
    "    \n",
    "    # Set up data loaders using the hyperparameter batch size\n",
    "    batch_size = config.batch_size\n",
    "    train_loader = DataLoader(train_dataset, batch_size=batch_size, shuffle=True)\n",
    "    val_loader = DataLoader(val_dataset, batch_size=batch_size, shuffle=False)\n",
    "    \n",
    "    # Initialize the model using the hyperparameter hidden_size\n",
    "    model = SimpleBinaryNet(hidden_size=config.hidden_size)\n",
    "    model.to(device)\n",
    "    \n",
    "    # Define loss function and optimizer with hyperparameter learning_rate\n",
    "    criterion = nn.BCEWithLogitsLoss()\n",
    "    optimizer = optim.SGD(model.parameters(), lr=config.learning_rate)\n",
    "    \n",
    "    # Run training for the specified number of epochs\n",
    "    for epoch in range(1, config.epochs + 1):\n",
    "         train_loss = train(model, device, train_loader, optimizer, criterion, epoch)\n",
    "         val_loss, val_accuracy = evaluate(model, device, val_loader, criterion, epoch)\n",
    "         \n",
    "         # Log metrics for each epoch\n",
    "         wandb.log({\n",
    "             \"epoch_train_loss\": train_loss,\n",
    "             \"epoch_val_loss\": val_loss,\n",
    "             \"val_accuracy\": val_accuracy,\n",
    "             \"epoch\": epoch\n",
    "         })\n",
    "\n",
    "    # Finish the run\n",
    "    wandb.finish()"
   ]
  },
  {
   "cell_type": "code",
   "execution_count": 22,
   "metadata": {},
   "outputs": [
    {
     "name": "stderr",
     "output_type": "stream",
     "text": [
      "\u001b[34m\u001b[1mwandb\u001b[0m: Agent Starting Run: 560ab4u8 with config:\n",
      "\u001b[34m\u001b[1mwandb\u001b[0m: \tbatch_size: 32\n",
      "\u001b[34m\u001b[1mwandb\u001b[0m: \tepochs: 3\n",
      "\u001b[34m\u001b[1mwandb\u001b[0m: \thidden_size: 64\n",
      "\u001b[34m\u001b[1mwandb\u001b[0m: \tlearning_rate: 0.001\n"
     ]
    },
    {
     "data": {
      "text/html": [
       "Tracking run with wandb version 0.19.7"
      ],
      "text/plain": [
       "<IPython.core.display.HTML object>"
      ]
     },
     "metadata": {},
     "output_type": "display_data"
    },
    {
     "data": {
      "text/html": [
       "Run data is saved locally in <code>/Users/nileshgupta/Downloads/work/Spring25/CS391L/HandsOnML/wandb/run-20250226_134105-560ab4u8</code>"
      ],
      "text/plain": [
       "<IPython.core.display.HTML object>"
      ]
     },
     "metadata": {},
     "output_type": "display_data"
    },
    {
     "data": {
      "text/html": [
       "Syncing run <strong><a href='https://wandb.ai/nilesh2797/hands_on_ml_demo/runs/560ab4u8' target=\"_blank\">sweet-sweep-1</a></strong> to <a href='https://wandb.ai/nilesh2797/hands_on_ml_demo' target=\"_blank\">Weights & Biases</a> (<a href='https://wandb.me/developer-guide' target=\"_blank\">docs</a>)<br>Sweep page: <a href='https://wandb.ai/nilesh2797/hands_on_ml_demo/sweeps/1sn1nvxk' target=\"_blank\">https://wandb.ai/nilesh2797/hands_on_ml_demo/sweeps/1sn1nvxk</a>"
      ],
      "text/plain": [
       "<IPython.core.display.HTML object>"
      ]
     },
     "metadata": {},
     "output_type": "display_data"
    },
    {
     "data": {
      "text/html": [
       " View project at <a href='https://wandb.ai/nilesh2797/hands_on_ml_demo' target=\"_blank\">https://wandb.ai/nilesh2797/hands_on_ml_demo</a>"
      ],
      "text/plain": [
       "<IPython.core.display.HTML object>"
      ]
     },
     "metadata": {},
     "output_type": "display_data"
    },
    {
     "data": {
      "text/html": [
       " View sweep at <a href='https://wandb.ai/nilesh2797/hands_on_ml_demo/sweeps/1sn1nvxk' target=\"_blank\">https://wandb.ai/nilesh2797/hands_on_ml_demo/sweeps/1sn1nvxk</a>"
      ],
      "text/plain": [
       "<IPython.core.display.HTML object>"
      ]
     },
     "metadata": {},
     "output_type": "display_data"
    },
    {
     "data": {
      "text/html": [
       " View run at <a href='https://wandb.ai/nilesh2797/hands_on_ml_demo/runs/560ab4u8' target=\"_blank\">https://wandb.ai/nilesh2797/hands_on_ml_demo/runs/560ab4u8</a>"
      ],
      "text/plain": [
       "<IPython.core.display.HTML object>"
      ]
     },
     "metadata": {},
     "output_type": "display_data"
    },
    {
     "name": "stderr",
     "output_type": "stream",
     "text": [
      "Epoch 1: 100%|██████████| 250/250 [00:00<00:00, 302.01it/s, mean loss=0.707]\n"
     ]
    },
    {
     "name": "stdout",
     "output_type": "stream",
     "text": [
      "Average training loss for epoch 1: 0.707201\n",
      "\n",
      "Val set: Average loss: 0.6967, Accuracy: 49.25%\n",
      "\n"
     ]
    },
    {
     "name": "stderr",
     "output_type": "stream",
     "text": [
      "Epoch 2: 100%|██████████| 250/250 [00:00<00:00, 324.50it/s, mean loss=0.69] \n"
     ]
    },
    {
     "name": "stdout",
     "output_type": "stream",
     "text": [
      "Average training loss for epoch 2: 0.690431\n",
      "\n",
      "Val set: Average loss: 0.6871, Accuracy: 54.60%\n",
      "\n"
     ]
    },
    {
     "name": "stderr",
     "output_type": "stream",
     "text": [
      "Epoch 3: 100%|██████████| 250/250 [00:01<00:00, 235.25it/s, mean loss=0.684]\n"
     ]
    },
    {
     "name": "stdout",
     "output_type": "stream",
     "text": [
      "Average training loss for epoch 3: 0.684309\n",
      "\n",
      "Val set: Average loss: 0.6818, Accuracy: 57.10%\n",
      "\n"
     ]
    },
    {
     "data": {
      "text/html": [],
      "text/plain": [
       "<IPython.core.display.HTML object>"
      ]
     },
     "metadata": {},
     "output_type": "display_data"
    },
    {
     "data": {
      "text/html": [
       "<br>    <style><br>        .wandb-row {<br>            display: flex;<br>            flex-direction: row;<br>            flex-wrap: wrap;<br>            justify-content: flex-start;<br>            width: 100%;<br>        }<br>        .wandb-col {<br>            display: flex;<br>            flex-direction: column;<br>            flex-basis: 100%;<br>            flex: 1;<br>            padding: 10px;<br>        }<br>    </style><br><div class=\"wandb-row\"><div class=\"wandb-col\"><h3>Run history:</h3><br/><table class=\"wandb\"><tr><td>batch</td><td>▂▃▃▄▅▆▆▇▇▇▇▇█▁▂▃▄▄▅▆▇▇███▁▁▃▃▃▅▅▅▅▆▆▆▇▇█</td></tr><tr><td>epoch</td><td>▁▁▁▁▁▁▁▁▅▅▅▅▅▅▅▅▅▅▅▅▅▅▅▅▅███████████████</td></tr><tr><td>epoch_train_loss</td><td>█▃▁</td></tr><tr><td>epoch_val_loss</td><td>█▃▁</td></tr><tr><td>train_loss</td><td>▆██▆▅▁▃▁▇▂▂▅▆▄▂▄▃▄▃▃▅▃▂▄▃▄▁▄▃▄▃▂▃▃▃▅▂▄▂▄</td></tr><tr><td>val_accuracy</td><td>▁▁▆▆██</td></tr><tr><td>val_loss</td><td>█▃▁</td></tr></table><br/></div><div class=\"wandb-col\"><h3>Run summary:</h3><br/><table class=\"wandb\"><tr><td>batch</td><td>249</td></tr><tr><td>epoch</td><td>3</td></tr><tr><td>epoch_train_loss</td><td>0.68431</td></tr><tr><td>epoch_val_loss</td><td>0.68176</td></tr><tr><td>train_loss</td><td>0.68265</td></tr><tr><td>val_accuracy</td><td>57.1</td></tr><tr><td>val_loss</td><td>0.68176</td></tr></table><br/></div></div>"
      ],
      "text/plain": [
       "<IPython.core.display.HTML object>"
      ]
     },
     "metadata": {},
     "output_type": "display_data"
    },
    {
     "data": {
      "text/html": [
       " View run <strong style=\"color:#cdcd00\">sweet-sweep-1</strong> at: <a href='https://wandb.ai/nilesh2797/hands_on_ml_demo/runs/560ab4u8' target=\"_blank\">https://wandb.ai/nilesh2797/hands_on_ml_demo/runs/560ab4u8</a><br> View project at: <a href='https://wandb.ai/nilesh2797/hands_on_ml_demo' target=\"_blank\">https://wandb.ai/nilesh2797/hands_on_ml_demo</a><br>Synced 5 W&B file(s), 96 media file(s), 0 artifact file(s) and 0 other file(s)"
      ],
      "text/plain": [
       "<IPython.core.display.HTML object>"
      ]
     },
     "metadata": {},
     "output_type": "display_data"
    },
    {
     "data": {
      "text/html": [
       "Find logs at: <code>./wandb/run-20250226_134105-560ab4u8/logs</code>"
      ],
      "text/plain": [
       "<IPython.core.display.HTML object>"
      ]
     },
     "metadata": {},
     "output_type": "display_data"
    },
    {
     "name": "stderr",
     "output_type": "stream",
     "text": [
      "\u001b[34m\u001b[1mwandb\u001b[0m: Agent Starting Run: ae5tv3br with config:\n",
      "\u001b[34m\u001b[1mwandb\u001b[0m: \tbatch_size: 32\n",
      "\u001b[34m\u001b[1mwandb\u001b[0m: \tepochs: 3\n",
      "\u001b[34m\u001b[1mwandb\u001b[0m: \thidden_size: 64\n",
      "\u001b[34m\u001b[1mwandb\u001b[0m: \tlearning_rate: 0.0001\n"
     ]
    },
    {
     "data": {
      "text/html": [
       "Tracking run with wandb version 0.19.7"
      ],
      "text/plain": [
       "<IPython.core.display.HTML object>"
      ]
     },
     "metadata": {},
     "output_type": "display_data"
    },
    {
     "data": {
      "text/html": [
       "Run data is saved locally in <code>/Users/nileshgupta/Downloads/work/Spring25/CS391L/HandsOnML/wandb/run-20250226_134115-ae5tv3br</code>"
      ],
      "text/plain": [
       "<IPython.core.display.HTML object>"
      ]
     },
     "metadata": {},
     "output_type": "display_data"
    },
    {
     "data": {
      "text/html": [
       "Syncing run <strong><a href='https://wandb.ai/nilesh2797/hands_on_ml_demo/runs/ae5tv3br' target=\"_blank\">kind-sweep-2</a></strong> to <a href='https://wandb.ai/nilesh2797/hands_on_ml_demo' target=\"_blank\">Weights & Biases</a> (<a href='https://wandb.me/developer-guide' target=\"_blank\">docs</a>)<br>Sweep page: <a href='https://wandb.ai/nilesh2797/hands_on_ml_demo/sweeps/1sn1nvxk' target=\"_blank\">https://wandb.ai/nilesh2797/hands_on_ml_demo/sweeps/1sn1nvxk</a>"
      ],
      "text/plain": [
       "<IPython.core.display.HTML object>"
      ]
     },
     "metadata": {},
     "output_type": "display_data"
    },
    {
     "data": {
      "text/html": [
       " View project at <a href='https://wandb.ai/nilesh2797/hands_on_ml_demo' target=\"_blank\">https://wandb.ai/nilesh2797/hands_on_ml_demo</a>"
      ],
      "text/plain": [
       "<IPython.core.display.HTML object>"
      ]
     },
     "metadata": {},
     "output_type": "display_data"
    },
    {
     "data": {
      "text/html": [
       " View sweep at <a href='https://wandb.ai/nilesh2797/hands_on_ml_demo/sweeps/1sn1nvxk' target=\"_blank\">https://wandb.ai/nilesh2797/hands_on_ml_demo/sweeps/1sn1nvxk</a>"
      ],
      "text/plain": [
       "<IPython.core.display.HTML object>"
      ]
     },
     "metadata": {},
     "output_type": "display_data"
    },
    {
     "data": {
      "text/html": [
       " View run at <a href='https://wandb.ai/nilesh2797/hands_on_ml_demo/runs/ae5tv3br' target=\"_blank\">https://wandb.ai/nilesh2797/hands_on_ml_demo/runs/ae5tv3br</a>"
      ],
      "text/plain": [
       "<IPython.core.display.HTML object>"
      ]
     },
     "metadata": {},
     "output_type": "display_data"
    },
    {
     "name": "stderr",
     "output_type": "stream",
     "text": [
      "Epoch 1: 100%|██████████| 250/250 [00:00<00:00, 294.21it/s, mean loss=0.7]  \n"
     ]
    },
    {
     "name": "stdout",
     "output_type": "stream",
     "text": [
      "Average training loss for epoch 1: 0.700002\n",
      "\n",
      "Val set: Average loss: 0.7019, Accuracy: 49.30%\n",
      "\n"
     ]
    },
    {
     "name": "stderr",
     "output_type": "stream",
     "text": [
      "Epoch 2: 100%|██████████| 250/250 [00:00<00:00, 336.43it/s, mean loss=0.697]\n"
     ]
    },
    {
     "name": "stdout",
     "output_type": "stream",
     "text": [
      "Average training loss for epoch 2: 0.697356\n",
      "\n",
      "Val set: Average loss: 0.6991, Accuracy: 49.60%\n",
      "\n"
     ]
    },
    {
     "name": "stderr",
     "output_type": "stream",
     "text": [
      "Epoch 3: 100%|██████████| 250/250 [00:00<00:00, 312.14it/s, mean loss=0.695]\n"
     ]
    },
    {
     "name": "stdout",
     "output_type": "stream",
     "text": [
      "Average training loss for epoch 3: 0.695154\n",
      "\n",
      "Val set: Average loss: 0.6967, Accuracy: 50.15%\n",
      "\n"
     ]
    },
    {
     "data": {
      "text/html": [],
      "text/plain": [
       "<IPython.core.display.HTML object>"
      ]
     },
     "metadata": {},
     "output_type": "display_data"
    },
    {
     "data": {
      "text/html": [
       "<br>    <style><br>        .wandb-row {<br>            display: flex;<br>            flex-direction: row;<br>            flex-wrap: wrap;<br>            justify-content: flex-start;<br>            width: 100%;<br>        }<br>        .wandb-col {<br>            display: flex;<br>            flex-direction: column;<br>            flex-basis: 100%;<br>            flex: 1;<br>            padding: 10px;<br>        }<br>    </style><br><div class=\"wandb-row\"><div class=\"wandb-col\"><h3>Run history:</h3><br/><table class=\"wandb\"><tr><td>batch</td><td>▁▂▃▃▃▄▅▆▆▇▇▇█▁▂▂▂▃▃▄▄▅▅▆▆▇██▁▁▂▃▄▄▄▅▆▇██</td></tr><tr><td>epoch</td><td>▁▁▁▁▁▁▁▁▁▁▁▁▁▁▅▅▅▅▅▅▅▅▅▅▅███████████████</td></tr><tr><td>epoch_train_loss</td><td>█▄▁</td></tr><tr><td>epoch_val_loss</td><td>█▄▁</td></tr><tr><td>train_loss</td><td>▆▇▃▅▆▇▂█▃▅▄▅▆▇█▄▁▄█▆▆▆▁▇▃▄▅▅▅▄▆▃▁▆▅▆▄█▆▃</td></tr><tr><td>val_accuracy</td><td>▁▁▃▃██</td></tr><tr><td>val_loss</td><td>█▄▁</td></tr></table><br/></div><div class=\"wandb-col\"><h3>Run summary:</h3><br/><table class=\"wandb\"><tr><td>batch</td><td>249</td></tr><tr><td>epoch</td><td>3</td></tr><tr><td>epoch_train_loss</td><td>0.69515</td></tr><tr><td>epoch_val_loss</td><td>0.69671</td></tr><tr><td>train_loss</td><td>0.67575</td></tr><tr><td>val_accuracy</td><td>50.15</td></tr><tr><td>val_loss</td><td>0.69671</td></tr></table><br/></div></div>"
      ],
      "text/plain": [
       "<IPython.core.display.HTML object>"
      ]
     },
     "metadata": {},
     "output_type": "display_data"
    },
    {
     "data": {
      "text/html": [
       " View run <strong style=\"color:#cdcd00\">kind-sweep-2</strong> at: <a href='https://wandb.ai/nilesh2797/hands_on_ml_demo/runs/ae5tv3br' target=\"_blank\">https://wandb.ai/nilesh2797/hands_on_ml_demo/runs/ae5tv3br</a><br> View project at: <a href='https://wandb.ai/nilesh2797/hands_on_ml_demo' target=\"_blank\">https://wandb.ai/nilesh2797/hands_on_ml_demo</a><br>Synced 5 W&B file(s), 96 media file(s), 0 artifact file(s) and 0 other file(s)"
      ],
      "text/plain": [
       "<IPython.core.display.HTML object>"
      ]
     },
     "metadata": {},
     "output_type": "display_data"
    },
    {
     "data": {
      "text/html": [
       "Find logs at: <code>./wandb/run-20250226_134115-ae5tv3br/logs</code>"
      ],
      "text/plain": [
       "<IPython.core.display.HTML object>"
      ]
     },
     "metadata": {},
     "output_type": "display_data"
    },
    {
     "name": "stderr",
     "output_type": "stream",
     "text": [
      "\u001b[34m\u001b[1mwandb\u001b[0m: Agent Starting Run: l2c9max2 with config:\n",
      "\u001b[34m\u001b[1mwandb\u001b[0m: \tbatch_size: 32\n",
      "\u001b[34m\u001b[1mwandb\u001b[0m: \tepochs: 3\n",
      "\u001b[34m\u001b[1mwandb\u001b[0m: \thidden_size: 64\n",
      "\u001b[34m\u001b[1mwandb\u001b[0m: \tlearning_rate: 0.01\n"
     ]
    },
    {
     "data": {
      "text/html": [
       "Tracking run with wandb version 0.19.7"
      ],
      "text/plain": [
       "<IPython.core.display.HTML object>"
      ]
     },
     "metadata": {},
     "output_type": "display_data"
    },
    {
     "data": {
      "text/html": [
       "Run data is saved locally in <code>/Users/nileshgupta/Downloads/work/Spring25/CS391L/HandsOnML/wandb/run-20250226_134125-l2c9max2</code>"
      ],
      "text/plain": [
       "<IPython.core.display.HTML object>"
      ]
     },
     "metadata": {},
     "output_type": "display_data"
    },
    {
     "data": {
      "text/html": [
       "Syncing run <strong><a href='https://wandb.ai/nilesh2797/hands_on_ml_demo/runs/l2c9max2' target=\"_blank\">fresh-sweep-3</a></strong> to <a href='https://wandb.ai/nilesh2797/hands_on_ml_demo' target=\"_blank\">Weights & Biases</a> (<a href='https://wandb.me/developer-guide' target=\"_blank\">docs</a>)<br>Sweep page: <a href='https://wandb.ai/nilesh2797/hands_on_ml_demo/sweeps/1sn1nvxk' target=\"_blank\">https://wandb.ai/nilesh2797/hands_on_ml_demo/sweeps/1sn1nvxk</a>"
      ],
      "text/plain": [
       "<IPython.core.display.HTML object>"
      ]
     },
     "metadata": {},
     "output_type": "display_data"
    },
    {
     "data": {
      "text/html": [
       " View project at <a href='https://wandb.ai/nilesh2797/hands_on_ml_demo' target=\"_blank\">https://wandb.ai/nilesh2797/hands_on_ml_demo</a>"
      ],
      "text/plain": [
       "<IPython.core.display.HTML object>"
      ]
     },
     "metadata": {},
     "output_type": "display_data"
    },
    {
     "data": {
      "text/html": [
       " View sweep at <a href='https://wandb.ai/nilesh2797/hands_on_ml_demo/sweeps/1sn1nvxk' target=\"_blank\">https://wandb.ai/nilesh2797/hands_on_ml_demo/sweeps/1sn1nvxk</a>"
      ],
      "text/plain": [
       "<IPython.core.display.HTML object>"
      ]
     },
     "metadata": {},
     "output_type": "display_data"
    },
    {
     "data": {
      "text/html": [
       " View run at <a href='https://wandb.ai/nilesh2797/hands_on_ml_demo/runs/l2c9max2' target=\"_blank\">https://wandb.ai/nilesh2797/hands_on_ml_demo/runs/l2c9max2</a>"
      ],
      "text/plain": [
       "<IPython.core.display.HTML object>"
      ]
     },
     "metadata": {},
     "output_type": "display_data"
    },
    {
     "name": "stderr",
     "output_type": "stream",
     "text": [
      "Epoch 1: 100%|██████████| 250/250 [00:00<00:00, 337.08it/s, mean loss=0.681]\n"
     ]
    },
    {
     "name": "stdout",
     "output_type": "stream",
     "text": [
      "Average training loss for epoch 1: 0.680718\n",
      "\n",
      "Val set: Average loss: 0.6706, Accuracy: 59.40%\n",
      "\n"
     ]
    },
    {
     "name": "stderr",
     "output_type": "stream",
     "text": [
      "Epoch 2: 100%|██████████| 250/250 [00:00<00:00, 302.42it/s, mean loss=0.671]\n"
     ]
    },
    {
     "name": "stdout",
     "output_type": "stream",
     "text": [
      "Average training loss for epoch 2: 0.671256\n",
      "\n",
      "Val set: Average loss: 0.6662, Accuracy: 59.50%\n",
      "\n"
     ]
    },
    {
     "name": "stderr",
     "output_type": "stream",
     "text": [
      "Epoch 3: 100%|██████████| 250/250 [00:00<00:00, 356.63it/s, mean loss=0.667]\n"
     ]
    },
    {
     "name": "stdout",
     "output_type": "stream",
     "text": [
      "Average training loss for epoch 3: 0.667198\n",
      "\n",
      "Val set: Average loss: 0.6635, Accuracy: 60.10%\n",
      "\n"
     ]
    },
    {
     "data": {
      "text/html": [],
      "text/plain": [
       "<IPython.core.display.HTML object>"
      ]
     },
     "metadata": {},
     "output_type": "display_data"
    },
    {
     "data": {
      "text/html": [
       "<br>    <style><br>        .wandb-row {<br>            display: flex;<br>            flex-direction: row;<br>            flex-wrap: wrap;<br>            justify-content: flex-start;<br>            width: 100%;<br>        }<br>        .wandb-col {<br>            display: flex;<br>            flex-direction: column;<br>            flex-basis: 100%;<br>            flex: 1;<br>            padding: 10px;<br>        }<br>    </style><br><div class=\"wandb-row\"><div class=\"wandb-col\"><h3>Run history:</h3><br/><table class=\"wandb\"><tr><td>batch</td><td>▁▁▂▂▃▄▄▅▆▆▇▇▇██▁▁▁▂▂▃▃▃▄▅▇▇▇█▂▂▃▄▄▅▆▆▇▇█</td></tr><tr><td>epoch</td><td>▁▁▁▁▁▁▁▁▁▁▁▁▁▁▁▅▅▅▅▅▅▅▅▅▅▅██████████████</td></tr><tr><td>epoch_train_loss</td><td>█▃▁</td></tr><tr><td>epoch_val_loss</td><td>█▄▁</td></tr><tr><td>train_loss</td><td>▆█▆▆▅█▆▅▆▆▇▇▃▆▅▅▅▄▄▅██▄▅▃█▁▂▇▄▇▅█▅▄▄▅▇▁▄</td></tr><tr><td>val_accuracy</td><td>▁▁▂▂██</td></tr><tr><td>val_loss</td><td>█▄▁</td></tr></table><br/></div><div class=\"wandb-col\"><h3>Run summary:</h3><br/><table class=\"wandb\"><tr><td>batch</td><td>249</td></tr><tr><td>epoch</td><td>3</td></tr><tr><td>epoch_train_loss</td><td>0.6672</td></tr><tr><td>epoch_val_loss</td><td>0.66352</td></tr><tr><td>train_loss</td><td>0.74276</td></tr><tr><td>val_accuracy</td><td>60.1</td></tr><tr><td>val_loss</td><td>0.66352</td></tr></table><br/></div></div>"
      ],
      "text/plain": [
       "<IPython.core.display.HTML object>"
      ]
     },
     "metadata": {},
     "output_type": "display_data"
    },
    {
     "data": {
      "text/html": [
       " View run <strong style=\"color:#cdcd00\">fresh-sweep-3</strong> at: <a href='https://wandb.ai/nilesh2797/hands_on_ml_demo/runs/l2c9max2' target=\"_blank\">https://wandb.ai/nilesh2797/hands_on_ml_demo/runs/l2c9max2</a><br> View project at: <a href='https://wandb.ai/nilesh2797/hands_on_ml_demo' target=\"_blank\">https://wandb.ai/nilesh2797/hands_on_ml_demo</a><br>Synced 5 W&B file(s), 96 media file(s), 0 artifact file(s) and 0 other file(s)"
      ],
      "text/plain": [
       "<IPython.core.display.HTML object>"
      ]
     },
     "metadata": {},
     "output_type": "display_data"
    },
    {
     "data": {
      "text/html": [
       "Find logs at: <code>./wandb/run-20250226_134125-l2c9max2/logs</code>"
      ],
      "text/plain": [
       "<IPython.core.display.HTML object>"
      ]
     },
     "metadata": {},
     "output_type": "display_data"
    },
    {
     "name": "stderr",
     "output_type": "stream",
     "text": [
      "\u001b[34m\u001b[1mwandb\u001b[0m: Agent Starting Run: v502tr5o with config:\n",
      "\u001b[34m\u001b[1mwandb\u001b[0m: \tbatch_size: 32\n",
      "\u001b[34m\u001b[1mwandb\u001b[0m: \tepochs: 3\n",
      "\u001b[34m\u001b[1mwandb\u001b[0m: \thidden_size: 128\n",
      "\u001b[34m\u001b[1mwandb\u001b[0m: \tlearning_rate: 0.001\n"
     ]
    },
    {
     "data": {
      "text/html": [
       "Tracking run with wandb version 0.19.7"
      ],
      "text/plain": [
       "<IPython.core.display.HTML object>"
      ]
     },
     "metadata": {},
     "output_type": "display_data"
    },
    {
     "data": {
      "text/html": [
       "Run data is saved locally in <code>/Users/nileshgupta/Downloads/work/Spring25/CS391L/HandsOnML/wandb/run-20250226_134136-v502tr5o</code>"
      ],
      "text/plain": [
       "<IPython.core.display.HTML object>"
      ]
     },
     "metadata": {},
     "output_type": "display_data"
    },
    {
     "data": {
      "text/html": [
       "Syncing run <strong><a href='https://wandb.ai/nilesh2797/hands_on_ml_demo/runs/v502tr5o' target=\"_blank\">drawn-sweep-4</a></strong> to <a href='https://wandb.ai/nilesh2797/hands_on_ml_demo' target=\"_blank\">Weights & Biases</a> (<a href='https://wandb.me/developer-guide' target=\"_blank\">docs</a>)<br>Sweep page: <a href='https://wandb.ai/nilesh2797/hands_on_ml_demo/sweeps/1sn1nvxk' target=\"_blank\">https://wandb.ai/nilesh2797/hands_on_ml_demo/sweeps/1sn1nvxk</a>"
      ],
      "text/plain": [
       "<IPython.core.display.HTML object>"
      ]
     },
     "metadata": {},
     "output_type": "display_data"
    },
    {
     "data": {
      "text/html": [
       " View project at <a href='https://wandb.ai/nilesh2797/hands_on_ml_demo' target=\"_blank\">https://wandb.ai/nilesh2797/hands_on_ml_demo</a>"
      ],
      "text/plain": [
       "<IPython.core.display.HTML object>"
      ]
     },
     "metadata": {},
     "output_type": "display_data"
    },
    {
     "data": {
      "text/html": [
       " View sweep at <a href='https://wandb.ai/nilesh2797/hands_on_ml_demo/sweeps/1sn1nvxk' target=\"_blank\">https://wandb.ai/nilesh2797/hands_on_ml_demo/sweeps/1sn1nvxk</a>"
      ],
      "text/plain": [
       "<IPython.core.display.HTML object>"
      ]
     },
     "metadata": {},
     "output_type": "display_data"
    },
    {
     "data": {
      "text/html": [
       " View run at <a href='https://wandb.ai/nilesh2797/hands_on_ml_demo/runs/v502tr5o' target=\"_blank\">https://wandb.ai/nilesh2797/hands_on_ml_demo/runs/v502tr5o</a>"
      ],
      "text/plain": [
       "<IPython.core.display.HTML object>"
      ]
     },
     "metadata": {},
     "output_type": "display_data"
    },
    {
     "name": "stderr",
     "output_type": "stream",
     "text": [
      "Epoch 1: 100%|██████████| 250/250 [00:00<00:00, 295.53it/s, mean loss=0.696]\n"
     ]
    },
    {
     "name": "stdout",
     "output_type": "stream",
     "text": [
      "Average training loss for epoch 1: 0.695815\n",
      "\n",
      "Val set: Average loss: 0.6864, Accuracy: 57.10%\n",
      "\n"
     ]
    },
    {
     "name": "stderr",
     "output_type": "stream",
     "text": [
      "Epoch 2: 100%|██████████| 250/250 [00:01<00:00, 229.86it/s, mean loss=0.686]\n"
     ]
    },
    {
     "name": "stdout",
     "output_type": "stream",
     "text": [
      "Average training loss for epoch 2: 0.685905\n",
      "\n",
      "Val set: Average loss: 0.6821, Accuracy: 58.45%\n",
      "\n"
     ]
    },
    {
     "name": "stderr",
     "output_type": "stream",
     "text": [
      "Epoch 3: 100%|██████████| 250/250 [00:00<00:00, 310.32it/s, mean loss=0.682]\n"
     ]
    },
    {
     "name": "stdout",
     "output_type": "stream",
     "text": [
      "Average training loss for epoch 3: 0.682092\n",
      "\n",
      "Val set: Average loss: 0.6789, Accuracy: 59.35%\n",
      "\n"
     ]
    },
    {
     "data": {
      "text/html": [],
      "text/plain": [
       "<IPython.core.display.HTML object>"
      ]
     },
     "metadata": {},
     "output_type": "display_data"
    },
    {
     "data": {
      "text/html": [
       "<br>    <style><br>        .wandb-row {<br>            display: flex;<br>            flex-direction: row;<br>            flex-wrap: wrap;<br>            justify-content: flex-start;<br>            width: 100%;<br>        }<br>        .wandb-col {<br>            display: flex;<br>            flex-direction: column;<br>            flex-basis: 100%;<br>            flex: 1;<br>            padding: 10px;<br>        }<br>    </style><br><div class=\"wandb-row\"><div class=\"wandb-col\"><h3>Run history:</h3><br/><table class=\"wandb\"><tr><td>batch</td><td>▁▁▂▃▃▇▁▂▂▃▃▄▅▅▅▆▆▇▇▁▁▁▁▂▂▃▄▄▄▄▆▆▆▆▆▇▇▇▇█</td></tr><tr><td>epoch</td><td>▁▁▁▁▁▁▁▁▁▁▁▁▅▅▅▅▅▅▅▅▅▅▅▅▅▅▅█████████████</td></tr><tr><td>epoch_train_loss</td><td>█▃▁</td></tr><tr><td>epoch_val_loss</td><td>█▄▁</td></tr><tr><td>train_loss</td><td>▆▄█▅▃▇▇▄▅▅▄▄▅▂▆▃▄▅▃▆▅▄▅▄▅▄▃▃▃▄▄▃▂▃▂▂▁▄▆▂</td></tr><tr><td>val_accuracy</td><td>▁▁▅▅██</td></tr><tr><td>val_loss</td><td>█▄▁</td></tr></table><br/></div><div class=\"wandb-col\"><h3>Run summary:</h3><br/><table class=\"wandb\"><tr><td>batch</td><td>249</td></tr><tr><td>epoch</td><td>3</td></tr><tr><td>epoch_train_loss</td><td>0.68209</td></tr><tr><td>epoch_val_loss</td><td>0.67888</td></tr><tr><td>train_loss</td><td>0.70227</td></tr><tr><td>val_accuracy</td><td>59.35</td></tr><tr><td>val_loss</td><td>0.67888</td></tr></table><br/></div></div>"
      ],
      "text/plain": [
       "<IPython.core.display.HTML object>"
      ]
     },
     "metadata": {},
     "output_type": "display_data"
    },
    {
     "data": {
      "text/html": [
       " View run <strong style=\"color:#cdcd00\">drawn-sweep-4</strong> at: <a href='https://wandb.ai/nilesh2797/hands_on_ml_demo/runs/v502tr5o' target=\"_blank\">https://wandb.ai/nilesh2797/hands_on_ml_demo/runs/v502tr5o</a><br> View project at: <a href='https://wandb.ai/nilesh2797/hands_on_ml_demo' target=\"_blank\">https://wandb.ai/nilesh2797/hands_on_ml_demo</a><br>Synced 5 W&B file(s), 96 media file(s), 0 artifact file(s) and 0 other file(s)"
      ],
      "text/plain": [
       "<IPython.core.display.HTML object>"
      ]
     },
     "metadata": {},
     "output_type": "display_data"
    },
    {
     "data": {
      "text/html": [
       "Find logs at: <code>./wandb/run-20250226_134136-v502tr5o/logs</code>"
      ],
      "text/plain": [
       "<IPython.core.display.HTML object>"
      ]
     },
     "metadata": {},
     "output_type": "display_data"
    },
    {
     "name": "stderr",
     "output_type": "stream",
     "text": [
      "\u001b[34m\u001b[1mwandb\u001b[0m: Agent Starting Run: 25l6y941 with config:\n",
      "\u001b[34m\u001b[1mwandb\u001b[0m: \tbatch_size: 32\n",
      "\u001b[34m\u001b[1mwandb\u001b[0m: \tepochs: 3\n",
      "\u001b[34m\u001b[1mwandb\u001b[0m: \thidden_size: 128\n",
      "\u001b[34m\u001b[1mwandb\u001b[0m: \tlearning_rate: 0.0001\n"
     ]
    },
    {
     "data": {
      "text/html": [
       "Tracking run with wandb version 0.19.7"
      ],
      "text/plain": [
       "<IPython.core.display.HTML object>"
      ]
     },
     "metadata": {},
     "output_type": "display_data"
    },
    {
     "data": {
      "text/html": [
       "Run data is saved locally in <code>/Users/nileshgupta/Downloads/work/Spring25/CS391L/HandsOnML/wandb/run-20250226_134146-25l6y941</code>"
      ],
      "text/plain": [
       "<IPython.core.display.HTML object>"
      ]
     },
     "metadata": {},
     "output_type": "display_data"
    },
    {
     "data": {
      "text/html": [
       "Syncing run <strong><a href='https://wandb.ai/nilesh2797/hands_on_ml_demo/runs/25l6y941' target=\"_blank\">eternal-sweep-5</a></strong> to <a href='https://wandb.ai/nilesh2797/hands_on_ml_demo' target=\"_blank\">Weights & Biases</a> (<a href='https://wandb.me/developer-guide' target=\"_blank\">docs</a>)<br>Sweep page: <a href='https://wandb.ai/nilesh2797/hands_on_ml_demo/sweeps/1sn1nvxk' target=\"_blank\">https://wandb.ai/nilesh2797/hands_on_ml_demo/sweeps/1sn1nvxk</a>"
      ],
      "text/plain": [
       "<IPython.core.display.HTML object>"
      ]
     },
     "metadata": {},
     "output_type": "display_data"
    },
    {
     "data": {
      "text/html": [
       " View project at <a href='https://wandb.ai/nilesh2797/hands_on_ml_demo' target=\"_blank\">https://wandb.ai/nilesh2797/hands_on_ml_demo</a>"
      ],
      "text/plain": [
       "<IPython.core.display.HTML object>"
      ]
     },
     "metadata": {},
     "output_type": "display_data"
    },
    {
     "data": {
      "text/html": [
       " View sweep at <a href='https://wandb.ai/nilesh2797/hands_on_ml_demo/sweeps/1sn1nvxk' target=\"_blank\">https://wandb.ai/nilesh2797/hands_on_ml_demo/sweeps/1sn1nvxk</a>"
      ],
      "text/plain": [
       "<IPython.core.display.HTML object>"
      ]
     },
     "metadata": {},
     "output_type": "display_data"
    },
    {
     "data": {
      "text/html": [
       " View run at <a href='https://wandb.ai/nilesh2797/hands_on_ml_demo/runs/25l6y941' target=\"_blank\">https://wandb.ai/nilesh2797/hands_on_ml_demo/runs/25l6y941</a>"
      ],
      "text/plain": [
       "<IPython.core.display.HTML object>"
      ]
     },
     "metadata": {},
     "output_type": "display_data"
    },
    {
     "name": "stderr",
     "output_type": "stream",
     "text": [
      "Epoch 1: 100%|██████████| 250/250 [00:00<00:00, 308.08it/s, mean loss=0.694]\n"
     ]
    },
    {
     "name": "stdout",
     "output_type": "stream",
     "text": [
      "Average training loss for epoch 1: 0.694144\n",
      "\n",
      "Val set: Average loss: 0.6940, Accuracy: 50.95%\n",
      "\n"
     ]
    },
    {
     "name": "stderr",
     "output_type": "stream",
     "text": [
      "Epoch 2: 100%|██████████| 250/250 [00:00<00:00, 280.28it/s, mean loss=0.693]\n"
     ]
    },
    {
     "name": "stdout",
     "output_type": "stream",
     "text": [
      "Average training loss for epoch 2: 0.692519\n",
      "\n",
      "Val set: Average loss: 0.6929, Accuracy: 52.10%\n",
      "\n"
     ]
    },
    {
     "name": "stderr",
     "output_type": "stream",
     "text": [
      "Epoch 3: 100%|██████████| 250/250 [00:00<00:00, 332.71it/s, mean loss=0.691]\n"
     ]
    },
    {
     "name": "stdout",
     "output_type": "stream",
     "text": [
      "Average training loss for epoch 3: 0.691221\n",
      "\n",
      "Val set: Average loss: 0.6919, Accuracy: 51.95%\n",
      "\n"
     ]
    },
    {
     "data": {
      "text/html": [],
      "text/plain": [
       "<IPython.core.display.HTML object>"
      ]
     },
     "metadata": {},
     "output_type": "display_data"
    },
    {
     "data": {
      "text/html": [
       "<br>    <style><br>        .wandb-row {<br>            display: flex;<br>            flex-direction: row;<br>            flex-wrap: wrap;<br>            justify-content: flex-start;<br>            width: 100%;<br>        }<br>        .wandb-col {<br>            display: flex;<br>            flex-direction: column;<br>            flex-basis: 100%;<br>            flex: 1;<br>            padding: 10px;<br>        }<br>    </style><br><div class=\"wandb-row\"><div class=\"wandb-col\"><h3>Run history:</h3><br/><table class=\"wandb\"><tr><td>batch</td><td>▂▂▃▃▄▄▄▅▅▇█████▂▂▃▄▄▄▄▄▄▄▅▇▇▇█▁▂▂▃▃▆▆▇▇█</td></tr><tr><td>epoch</td><td>▁▁▁▁▁▁▁▁▁▁▁▅▅▅▅▅▅▅▅▅▅▅▅▅▅▅▅▅▅███████████</td></tr><tr><td>epoch_train_loss</td><td>█▄▁</td></tr><tr><td>epoch_val_loss</td><td>█▄▁</td></tr><tr><td>train_loss</td><td>▂▄▄▅▁█▅▅▃▆▅▆▆▆▆▅▆▇▆▄▅▄▆█▄▆▆▆▄▆▆▆▅▅▅▆▅▅▇▆</td></tr><tr><td>val_accuracy</td><td>▁▁██▇▇</td></tr><tr><td>val_loss</td><td>█▄▁</td></tr></table><br/></div><div class=\"wandb-col\"><h3>Run summary:</h3><br/><table class=\"wandb\"><tr><td>batch</td><td>249</td></tr><tr><td>epoch</td><td>3</td></tr><tr><td>epoch_train_loss</td><td>0.69122</td></tr><tr><td>epoch_val_loss</td><td>0.6919</td></tr><tr><td>train_loss</td><td>0.69547</td></tr><tr><td>val_accuracy</td><td>51.95</td></tr><tr><td>val_loss</td><td>0.6919</td></tr></table><br/></div></div>"
      ],
      "text/plain": [
       "<IPython.core.display.HTML object>"
      ]
     },
     "metadata": {},
     "output_type": "display_data"
    },
    {
     "data": {
      "text/html": [
       " View run <strong style=\"color:#cdcd00\">eternal-sweep-5</strong> at: <a href='https://wandb.ai/nilesh2797/hands_on_ml_demo/runs/25l6y941' target=\"_blank\">https://wandb.ai/nilesh2797/hands_on_ml_demo/runs/25l6y941</a><br> View project at: <a href='https://wandb.ai/nilesh2797/hands_on_ml_demo' target=\"_blank\">https://wandb.ai/nilesh2797/hands_on_ml_demo</a><br>Synced 5 W&B file(s), 96 media file(s), 0 artifact file(s) and 0 other file(s)"
      ],
      "text/plain": [
       "<IPython.core.display.HTML object>"
      ]
     },
     "metadata": {},
     "output_type": "display_data"
    },
    {
     "data": {
      "text/html": [
       "Find logs at: <code>./wandb/run-20250226_134146-25l6y941/logs</code>"
      ],
      "text/plain": [
       "<IPython.core.display.HTML object>"
      ]
     },
     "metadata": {},
     "output_type": "display_data"
    },
    {
     "name": "stderr",
     "output_type": "stream",
     "text": [
      "\u001b[34m\u001b[1mwandb\u001b[0m: Agent Starting Run: dj06tolz with config:\n",
      "\u001b[34m\u001b[1mwandb\u001b[0m: \tbatch_size: 32\n",
      "\u001b[34m\u001b[1mwandb\u001b[0m: \tepochs: 3\n",
      "\u001b[34m\u001b[1mwandb\u001b[0m: \thidden_size: 128\n",
      "\u001b[34m\u001b[1mwandb\u001b[0m: \tlearning_rate: 0.01\n"
     ]
    },
    {
     "data": {
      "text/html": [
       "Tracking run with wandb version 0.19.7"
      ],
      "text/plain": [
       "<IPython.core.display.HTML object>"
      ]
     },
     "metadata": {},
     "output_type": "display_data"
    },
    {
     "data": {
      "text/html": [
       "Run data is saved locally in <code>/Users/nileshgupta/Downloads/work/Spring25/CS391L/HandsOnML/wandb/run-20250226_134156-dj06tolz</code>"
      ],
      "text/plain": [
       "<IPython.core.display.HTML object>"
      ]
     },
     "metadata": {},
     "output_type": "display_data"
    },
    {
     "data": {
      "text/html": [
       "Syncing run <strong><a href='https://wandb.ai/nilesh2797/hands_on_ml_demo/runs/dj06tolz' target=\"_blank\">valiant-sweep-6</a></strong> to <a href='https://wandb.ai/nilesh2797/hands_on_ml_demo' target=\"_blank\">Weights & Biases</a> (<a href='https://wandb.me/developer-guide' target=\"_blank\">docs</a>)<br>Sweep page: <a href='https://wandb.ai/nilesh2797/hands_on_ml_demo/sweeps/1sn1nvxk' target=\"_blank\">https://wandb.ai/nilesh2797/hands_on_ml_demo/sweeps/1sn1nvxk</a>"
      ],
      "text/plain": [
       "<IPython.core.display.HTML object>"
      ]
     },
     "metadata": {},
     "output_type": "display_data"
    },
    {
     "data": {
      "text/html": [
       " View project at <a href='https://wandb.ai/nilesh2797/hands_on_ml_demo' target=\"_blank\">https://wandb.ai/nilesh2797/hands_on_ml_demo</a>"
      ],
      "text/plain": [
       "<IPython.core.display.HTML object>"
      ]
     },
     "metadata": {},
     "output_type": "display_data"
    },
    {
     "data": {
      "text/html": [
       " View sweep at <a href='https://wandb.ai/nilesh2797/hands_on_ml_demo/sweeps/1sn1nvxk' target=\"_blank\">https://wandb.ai/nilesh2797/hands_on_ml_demo/sweeps/1sn1nvxk</a>"
      ],
      "text/plain": [
       "<IPython.core.display.HTML object>"
      ]
     },
     "metadata": {},
     "output_type": "display_data"
    },
    {
     "data": {
      "text/html": [
       " View run at <a href='https://wandb.ai/nilesh2797/hands_on_ml_demo/runs/dj06tolz' target=\"_blank\">https://wandb.ai/nilesh2797/hands_on_ml_demo/runs/dj06tolz</a>"
      ],
      "text/plain": [
       "<IPython.core.display.HTML object>"
      ]
     },
     "metadata": {},
     "output_type": "display_data"
    },
    {
     "name": "stderr",
     "output_type": "stream",
     "text": [
      "Epoch 1: 100%|██████████| 250/250 [00:01<00:00, 220.67it/s, mean loss=0.68] \n"
     ]
    },
    {
     "name": "stdout",
     "output_type": "stream",
     "text": [
      "Average training loss for epoch 1: 0.680385\n",
      "\n",
      "Val set: Average loss: 0.6710, Accuracy: 59.30%\n",
      "\n"
     ]
    },
    {
     "name": "stderr",
     "output_type": "stream",
     "text": [
      "Epoch 2: 100%|██████████| 250/250 [00:00<00:00, 255.06it/s, mean loss=0.671]\n"
     ]
    },
    {
     "name": "stdout",
     "output_type": "stream",
     "text": [
      "Average training loss for epoch 2: 0.670618\n",
      "\n",
      "Val set: Average loss: 0.6655, Accuracy: 59.75%\n",
      "\n"
     ]
    },
    {
     "name": "stderr",
     "output_type": "stream",
     "text": [
      "Epoch 3: 100%|██████████| 250/250 [00:00<00:00, 282.68it/s, mean loss=0.667]\n"
     ]
    },
    {
     "name": "stdout",
     "output_type": "stream",
     "text": [
      "Average training loss for epoch 3: 0.666644\n",
      "\n",
      "Val set: Average loss: 0.6645, Accuracy: 60.60%\n",
      "\n"
     ]
    },
    {
     "data": {
      "text/html": [],
      "text/plain": [
       "<IPython.core.display.HTML object>"
      ]
     },
     "metadata": {},
     "output_type": "display_data"
    },
    {
     "data": {
      "text/html": [
       "<br>    <style><br>        .wandb-row {<br>            display: flex;<br>            flex-direction: row;<br>            flex-wrap: wrap;<br>            justify-content: flex-start;<br>            width: 100%;<br>        }<br>        .wandb-col {<br>            display: flex;<br>            flex-direction: column;<br>            flex-basis: 100%;<br>            flex: 1;<br>            padding: 10px;<br>        }<br>    </style><br><div class=\"wandb-row\"><div class=\"wandb-col\"><h3>Run history:</h3><br/><table class=\"wandb\"><tr><td>batch</td><td>▁▁▁▁▂▂▃▃▃▃▄▄▅▆▆▇▇▇█▁▂▂▂▃▃▃▄▅▅▆▇▇▇▇▇██▁▂█</td></tr><tr><td>epoch</td><td>▁▁▁▁▁▁▁▁▁▁▁▁▁▁▁▁▁▅▅▅▅▅▅▅▅▅▅▅████████████</td></tr><tr><td>epoch_train_loss</td><td>█▃▁</td></tr><tr><td>epoch_val_loss</td><td>█▂▁</td></tr><tr><td>train_loss</td><td>▅▆▇▆▇▄▃▅▅▅▄▅▄▇▁▆▅▃▃▄▅▁▇▄▃▄▅▄▆▄█▂▂▇▂▂▃▄█▄</td></tr><tr><td>val_accuracy</td><td>▁▁▃▃██</td></tr><tr><td>val_loss</td><td>█▂▁</td></tr></table><br/></div><div class=\"wandb-col\"><h3>Run summary:</h3><br/><table class=\"wandb\"><tr><td>batch</td><td>249</td></tr><tr><td>epoch</td><td>3</td></tr><tr><td>epoch_train_loss</td><td>0.66664</td></tr><tr><td>epoch_val_loss</td><td>0.66452</td></tr><tr><td>train_loss</td><td>0.70358</td></tr><tr><td>val_accuracy</td><td>60.6</td></tr><tr><td>val_loss</td><td>0.66452</td></tr></table><br/></div></div>"
      ],
      "text/plain": [
       "<IPython.core.display.HTML object>"
      ]
     },
     "metadata": {},
     "output_type": "display_data"
    },
    {
     "data": {
      "text/html": [
       " View run <strong style=\"color:#cdcd00\">valiant-sweep-6</strong> at: <a href='https://wandb.ai/nilesh2797/hands_on_ml_demo/runs/dj06tolz' target=\"_blank\">https://wandb.ai/nilesh2797/hands_on_ml_demo/runs/dj06tolz</a><br> View project at: <a href='https://wandb.ai/nilesh2797/hands_on_ml_demo' target=\"_blank\">https://wandb.ai/nilesh2797/hands_on_ml_demo</a><br>Synced 5 W&B file(s), 96 media file(s), 0 artifact file(s) and 0 other file(s)"
      ],
      "text/plain": [
       "<IPython.core.display.HTML object>"
      ]
     },
     "metadata": {},
     "output_type": "display_data"
    },
    {
     "data": {
      "text/html": [
       "Find logs at: <code>./wandb/run-20250226_134156-dj06tolz/logs</code>"
      ],
      "text/plain": [
       "<IPython.core.display.HTML object>"
      ]
     },
     "metadata": {},
     "output_type": "display_data"
    },
    {
     "name": "stderr",
     "output_type": "stream",
     "text": [
      "\u001b[34m\u001b[1mwandb\u001b[0m: Agent Starting Run: yhu2aq0f with config:\n",
      "\u001b[34m\u001b[1mwandb\u001b[0m: \tbatch_size: 32\n",
      "\u001b[34m\u001b[1mwandb\u001b[0m: \tepochs: 3\n",
      "\u001b[34m\u001b[1mwandb\u001b[0m: \thidden_size: 256\n",
      "\u001b[34m\u001b[1mwandb\u001b[0m: \tlearning_rate: 0.001\n"
     ]
    },
    {
     "data": {
      "text/html": [
       "Tracking run with wandb version 0.19.7"
      ],
      "text/plain": [
       "<IPython.core.display.HTML object>"
      ]
     },
     "metadata": {},
     "output_type": "display_data"
    },
    {
     "data": {
      "text/html": [
       "Run data is saved locally in <code>/Users/nileshgupta/Downloads/work/Spring25/CS391L/HandsOnML/wandb/run-20250226_134207-yhu2aq0f</code>"
      ],
      "text/plain": [
       "<IPython.core.display.HTML object>"
      ]
     },
     "metadata": {},
     "output_type": "display_data"
    },
    {
     "data": {
      "text/html": [
       "Syncing run <strong><a href='https://wandb.ai/nilesh2797/hands_on_ml_demo/runs/yhu2aq0f' target=\"_blank\">genial-sweep-7</a></strong> to <a href='https://wandb.ai/nilesh2797/hands_on_ml_demo' target=\"_blank\">Weights & Biases</a> (<a href='https://wandb.me/developer-guide' target=\"_blank\">docs</a>)<br>Sweep page: <a href='https://wandb.ai/nilesh2797/hands_on_ml_demo/sweeps/1sn1nvxk' target=\"_blank\">https://wandb.ai/nilesh2797/hands_on_ml_demo/sweeps/1sn1nvxk</a>"
      ],
      "text/plain": [
       "<IPython.core.display.HTML object>"
      ]
     },
     "metadata": {},
     "output_type": "display_data"
    },
    {
     "data": {
      "text/html": [
       " View project at <a href='https://wandb.ai/nilesh2797/hands_on_ml_demo' target=\"_blank\">https://wandb.ai/nilesh2797/hands_on_ml_demo</a>"
      ],
      "text/plain": [
       "<IPython.core.display.HTML object>"
      ]
     },
     "metadata": {},
     "output_type": "display_data"
    },
    {
     "data": {
      "text/html": [
       " View sweep at <a href='https://wandb.ai/nilesh2797/hands_on_ml_demo/sweeps/1sn1nvxk' target=\"_blank\">https://wandb.ai/nilesh2797/hands_on_ml_demo/sweeps/1sn1nvxk</a>"
      ],
      "text/plain": [
       "<IPython.core.display.HTML object>"
      ]
     },
     "metadata": {},
     "output_type": "display_data"
    },
    {
     "data": {
      "text/html": [
       " View run at <a href='https://wandb.ai/nilesh2797/hands_on_ml_demo/runs/yhu2aq0f' target=\"_blank\">https://wandb.ai/nilesh2797/hands_on_ml_demo/runs/yhu2aq0f</a>"
      ],
      "text/plain": [
       "<IPython.core.display.HTML object>"
      ]
     },
     "metadata": {},
     "output_type": "display_data"
    },
    {
     "name": "stderr",
     "output_type": "stream",
     "text": [
      "Epoch 1: 100%|██████████| 250/250 [00:01<00:00, 214.38it/s, mean loss=0.704]\n"
     ]
    },
    {
     "name": "stdout",
     "output_type": "stream",
     "text": [
      "Average training loss for epoch 1: 0.703914\n",
      "\n",
      "Val set: Average loss: 0.6900, Accuracy: 52.00%\n",
      "\n"
     ]
    },
    {
     "name": "stderr",
     "output_type": "stream",
     "text": [
      "Epoch 2: 100%|██████████| 250/250 [00:00<00:00, 269.49it/s, mean loss=0.687]\n"
     ]
    },
    {
     "name": "stdout",
     "output_type": "stream",
     "text": [
      "Average training loss for epoch 2: 0.687089\n",
      "\n",
      "Val set: Average loss: 0.6835, Accuracy: 55.95%\n",
      "\n"
     ]
    },
    {
     "name": "stderr",
     "output_type": "stream",
     "text": [
      "Epoch 3: 100%|██████████| 250/250 [00:00<00:00, 310.40it/s, mean loss=0.682]\n"
     ]
    },
    {
     "name": "stdout",
     "output_type": "stream",
     "text": [
      "Average training loss for epoch 3: 0.682307\n",
      "\n",
      "Val set: Average loss: 0.6793, Accuracy: 57.55%\n",
      "\n"
     ]
    },
    {
     "data": {
      "text/html": [],
      "text/plain": [
       "<IPython.core.display.HTML object>"
      ]
     },
     "metadata": {},
     "output_type": "display_data"
    },
    {
     "data": {
      "text/html": [
       "<br>    <style><br>        .wandb-row {<br>            display: flex;<br>            flex-direction: row;<br>            flex-wrap: wrap;<br>            justify-content: flex-start;<br>            width: 100%;<br>        }<br>        .wandb-col {<br>            display: flex;<br>            flex-direction: column;<br>            flex-basis: 100%;<br>            flex: 1;<br>            padding: 10px;<br>        }<br>    </style><br><div class=\"wandb-row\"><div class=\"wandb-col\"><h3>Run history:</h3><br/><table class=\"wandb\"><tr><td>batch</td><td>▁▂▂▃▄▅▅▅▆▇█▁▁▁▂▂▃▃▃▃▄▅▅▅▅▇▇█▁▁▄▅▅▆▇▇▇▇██</td></tr><tr><td>epoch</td><td>▁▁▁▁▁▁▁▁▁▁▁▁▁▁▁▅▅▅▅▅▅▅▅▅▅▅▅▅████████████</td></tr><tr><td>epoch_train_loss</td><td>█▃▁</td></tr><tr><td>epoch_val_loss</td><td>█▄▁</td></tr><tr><td>train_loss</td><td>█▄▄▅▃▃▄▃▄▃▃▄▂▄▂▂▃▂▃▄▃▂▃▃▁▂▂▃▃▄▂▃▃▂▃▃▅▄▄▁</td></tr><tr><td>val_accuracy</td><td>▁▁▆▆██</td></tr><tr><td>val_loss</td><td>█▄▁</td></tr></table><br/></div><div class=\"wandb-col\"><h3>Run summary:</h3><br/><table class=\"wandb\"><tr><td>batch</td><td>249</td></tr><tr><td>epoch</td><td>3</td></tr><tr><td>epoch_train_loss</td><td>0.68231</td></tr><tr><td>epoch_val_loss</td><td>0.67928</td></tr><tr><td>train_loss</td><td>0.67662</td></tr><tr><td>val_accuracy</td><td>57.55</td></tr><tr><td>val_loss</td><td>0.67928</td></tr></table><br/></div></div>"
      ],
      "text/plain": [
       "<IPython.core.display.HTML object>"
      ]
     },
     "metadata": {},
     "output_type": "display_data"
    },
    {
     "data": {
      "text/html": [
       " View run <strong style=\"color:#cdcd00\">genial-sweep-7</strong> at: <a href='https://wandb.ai/nilesh2797/hands_on_ml_demo/runs/yhu2aq0f' target=\"_blank\">https://wandb.ai/nilesh2797/hands_on_ml_demo/runs/yhu2aq0f</a><br> View project at: <a href='https://wandb.ai/nilesh2797/hands_on_ml_demo' target=\"_blank\">https://wandb.ai/nilesh2797/hands_on_ml_demo</a><br>Synced 5 W&B file(s), 96 media file(s), 0 artifact file(s) and 0 other file(s)"
      ],
      "text/plain": [
       "<IPython.core.display.HTML object>"
      ]
     },
     "metadata": {},
     "output_type": "display_data"
    },
    {
     "data": {
      "text/html": [
       "Find logs at: <code>./wandb/run-20250226_134207-yhu2aq0f/logs</code>"
      ],
      "text/plain": [
       "<IPython.core.display.HTML object>"
      ]
     },
     "metadata": {},
     "output_type": "display_data"
    },
    {
     "name": "stderr",
     "output_type": "stream",
     "text": [
      "\u001b[34m\u001b[1mwandb\u001b[0m: Agent Starting Run: 2g8ygd84 with config:\n",
      "\u001b[34m\u001b[1mwandb\u001b[0m: \tbatch_size: 32\n",
      "\u001b[34m\u001b[1mwandb\u001b[0m: \tepochs: 3\n",
      "\u001b[34m\u001b[1mwandb\u001b[0m: \thidden_size: 256\n",
      "\u001b[34m\u001b[1mwandb\u001b[0m: \tlearning_rate: 0.0001\n"
     ]
    },
    {
     "data": {
      "text/html": [
       "Tracking run with wandb version 0.19.7"
      ],
      "text/plain": [
       "<IPython.core.display.HTML object>"
      ]
     },
     "metadata": {},
     "output_type": "display_data"
    },
    {
     "data": {
      "text/html": [
       "Run data is saved locally in <code>/Users/nileshgupta/Downloads/work/Spring25/CS391L/HandsOnML/wandb/run-20250226_134217-2g8ygd84</code>"
      ],
      "text/plain": [
       "<IPython.core.display.HTML object>"
      ]
     },
     "metadata": {},
     "output_type": "display_data"
    },
    {
     "data": {
      "text/html": [
       "Syncing run <strong><a href='https://wandb.ai/nilesh2797/hands_on_ml_demo/runs/2g8ygd84' target=\"_blank\">dry-sweep-8</a></strong> to <a href='https://wandb.ai/nilesh2797/hands_on_ml_demo' target=\"_blank\">Weights & Biases</a> (<a href='https://wandb.me/developer-guide' target=\"_blank\">docs</a>)<br>Sweep page: <a href='https://wandb.ai/nilesh2797/hands_on_ml_demo/sweeps/1sn1nvxk' target=\"_blank\">https://wandb.ai/nilesh2797/hands_on_ml_demo/sweeps/1sn1nvxk</a>"
      ],
      "text/plain": [
       "<IPython.core.display.HTML object>"
      ]
     },
     "metadata": {},
     "output_type": "display_data"
    },
    {
     "data": {
      "text/html": [
       " View project at <a href='https://wandb.ai/nilesh2797/hands_on_ml_demo' target=\"_blank\">https://wandb.ai/nilesh2797/hands_on_ml_demo</a>"
      ],
      "text/plain": [
       "<IPython.core.display.HTML object>"
      ]
     },
     "metadata": {},
     "output_type": "display_data"
    },
    {
     "data": {
      "text/html": [
       " View sweep at <a href='https://wandb.ai/nilesh2797/hands_on_ml_demo/sweeps/1sn1nvxk' target=\"_blank\">https://wandb.ai/nilesh2797/hands_on_ml_demo/sweeps/1sn1nvxk</a>"
      ],
      "text/plain": [
       "<IPython.core.display.HTML object>"
      ]
     },
     "metadata": {},
     "output_type": "display_data"
    },
    {
     "data": {
      "text/html": [
       " View run at <a href='https://wandb.ai/nilesh2797/hands_on_ml_demo/runs/2g8ygd84' target=\"_blank\">https://wandb.ai/nilesh2797/hands_on_ml_demo/runs/2g8ygd84</a>"
      ],
      "text/plain": [
       "<IPython.core.display.HTML object>"
      ]
     },
     "metadata": {},
     "output_type": "display_data"
    },
    {
     "name": "stderr",
     "output_type": "stream",
     "text": [
      "Epoch 1: 100%|██████████| 250/250 [00:00<00:00, 267.85it/s, mean loss=0.706]\n"
     ]
    },
    {
     "name": "stdout",
     "output_type": "stream",
     "text": [
      "Average training loss for epoch 1: 0.705731\n",
      "\n",
      "Val set: Average loss: 0.7043, Accuracy: 49.20%\n",
      "\n"
     ]
    },
    {
     "name": "stderr",
     "output_type": "stream",
     "text": [
      "Epoch 2: 100%|██████████| 250/250 [00:00<00:00, 303.09it/s, mean loss=0.697]\n"
     ]
    },
    {
     "name": "stdout",
     "output_type": "stream",
     "text": [
      "Average training loss for epoch 2: 0.697079\n",
      "\n",
      "Val set: Average loss: 0.6973, Accuracy: 49.10%\n",
      "\n"
     ]
    },
    {
     "name": "stderr",
     "output_type": "stream",
     "text": [
      "Epoch 3: 100%|██████████| 250/250 [00:00<00:00, 299.53it/s, mean loss=0.693]\n"
     ]
    },
    {
     "name": "stdout",
     "output_type": "stream",
     "text": [
      "Average training loss for epoch 3: 0.692983\n",
      "\n",
      "Val set: Average loss: 0.6936, Accuracy: 51.10%\n",
      "\n"
     ]
    },
    {
     "data": {
      "text/html": [],
      "text/plain": [
       "<IPython.core.display.HTML object>"
      ]
     },
     "metadata": {},
     "output_type": "display_data"
    },
    {
     "data": {
      "text/html": [
       "<br>    <style><br>        .wandb-row {<br>            display: flex;<br>            flex-direction: row;<br>            flex-wrap: wrap;<br>            justify-content: flex-start;<br>            width: 100%;<br>        }<br>        .wandb-col {<br>            display: flex;<br>            flex-direction: column;<br>            flex-basis: 100%;<br>            flex: 1;<br>            padding: 10px;<br>        }<br>    </style><br><div class=\"wandb-row\"><div class=\"wandb-col\"><h3>Run history:</h3><br/><table class=\"wandb\"><tr><td>batch</td><td>▁▂▂▂▃▄▄▅▆▇▇▇▁▁▁▂▄▅▅▆▆▇▇▇▇▁▁▁▂▂▂▂▃▃▃▅▆▇▇█</td></tr><tr><td>epoch</td><td>▁▁▁▁▁▁▁▁▁▁▁▁▁▅▅▅▅▅▅▅▅▅▅▅▅▅██████████████</td></tr><tr><td>epoch_train_loss</td><td>█▃▁</td></tr><tr><td>epoch_val_loss</td><td>█▃▁</td></tr><tr><td>train_loss</td><td>▆▆▂▅▅▆▃▅▄▇▇▅▆▆▁▇▂█▅▆▆▆▆▃▆▄▃▅▆▄▅▄▅▃▄▂▆▃▅▄</td></tr><tr><td>val_accuracy</td><td>▁▁▁▁██</td></tr><tr><td>val_loss</td><td>█▃▁</td></tr></table><br/></div><div class=\"wandb-col\"><h3>Run summary:</h3><br/><table class=\"wandb\"><tr><td>batch</td><td>249</td></tr><tr><td>epoch</td><td>3</td></tr><tr><td>epoch_train_loss</td><td>0.69298</td></tr><tr><td>epoch_val_loss</td><td>0.69361</td></tr><tr><td>train_loss</td><td>0.68674</td></tr><tr><td>val_accuracy</td><td>51.1</td></tr><tr><td>val_loss</td><td>0.69361</td></tr></table><br/></div></div>"
      ],
      "text/plain": [
       "<IPython.core.display.HTML object>"
      ]
     },
     "metadata": {},
     "output_type": "display_data"
    },
    {
     "data": {
      "text/html": [
       " View run <strong style=\"color:#cdcd00\">dry-sweep-8</strong> at: <a href='https://wandb.ai/nilesh2797/hands_on_ml_demo/runs/2g8ygd84' target=\"_blank\">https://wandb.ai/nilesh2797/hands_on_ml_demo/runs/2g8ygd84</a><br> View project at: <a href='https://wandb.ai/nilesh2797/hands_on_ml_demo' target=\"_blank\">https://wandb.ai/nilesh2797/hands_on_ml_demo</a><br>Synced 5 W&B file(s), 96 media file(s), 0 artifact file(s) and 0 other file(s)"
      ],
      "text/plain": [
       "<IPython.core.display.HTML object>"
      ]
     },
     "metadata": {},
     "output_type": "display_data"
    },
    {
     "data": {
      "text/html": [
       "Find logs at: <code>./wandb/run-20250226_134217-2g8ygd84/logs</code>"
      ],
      "text/plain": [
       "<IPython.core.display.HTML object>"
      ]
     },
     "metadata": {},
     "output_type": "display_data"
    },
    {
     "name": "stderr",
     "output_type": "stream",
     "text": [
      "\u001b[34m\u001b[1mwandb\u001b[0m: Agent Starting Run: noft849u with config:\n",
      "\u001b[34m\u001b[1mwandb\u001b[0m: \tbatch_size: 32\n",
      "\u001b[34m\u001b[1mwandb\u001b[0m: \tepochs: 3\n",
      "\u001b[34m\u001b[1mwandb\u001b[0m: \thidden_size: 256\n",
      "\u001b[34m\u001b[1mwandb\u001b[0m: \tlearning_rate: 0.01\n"
     ]
    },
    {
     "data": {
      "text/html": [
       "Tracking run with wandb version 0.19.7"
      ],
      "text/plain": [
       "<IPython.core.display.HTML object>"
      ]
     },
     "metadata": {},
     "output_type": "display_data"
    },
    {
     "data": {
      "text/html": [
       "Run data is saved locally in <code>/Users/nileshgupta/Downloads/work/Spring25/CS391L/HandsOnML/wandb/run-20250226_134227-noft849u</code>"
      ],
      "text/plain": [
       "<IPython.core.display.HTML object>"
      ]
     },
     "metadata": {},
     "output_type": "display_data"
    },
    {
     "data": {
      "text/html": [
       "Syncing run <strong><a href='https://wandb.ai/nilesh2797/hands_on_ml_demo/runs/noft849u' target=\"_blank\">denim-sweep-9</a></strong> to <a href='https://wandb.ai/nilesh2797/hands_on_ml_demo' target=\"_blank\">Weights & Biases</a> (<a href='https://wandb.me/developer-guide' target=\"_blank\">docs</a>)<br>Sweep page: <a href='https://wandb.ai/nilesh2797/hands_on_ml_demo/sweeps/1sn1nvxk' target=\"_blank\">https://wandb.ai/nilesh2797/hands_on_ml_demo/sweeps/1sn1nvxk</a>"
      ],
      "text/plain": [
       "<IPython.core.display.HTML object>"
      ]
     },
     "metadata": {},
     "output_type": "display_data"
    },
    {
     "data": {
      "text/html": [
       " View project at <a href='https://wandb.ai/nilesh2797/hands_on_ml_demo' target=\"_blank\">https://wandb.ai/nilesh2797/hands_on_ml_demo</a>"
      ],
      "text/plain": [
       "<IPython.core.display.HTML object>"
      ]
     },
     "metadata": {},
     "output_type": "display_data"
    },
    {
     "data": {
      "text/html": [
       " View sweep at <a href='https://wandb.ai/nilesh2797/hands_on_ml_demo/sweeps/1sn1nvxk' target=\"_blank\">https://wandb.ai/nilesh2797/hands_on_ml_demo/sweeps/1sn1nvxk</a>"
      ],
      "text/plain": [
       "<IPython.core.display.HTML object>"
      ]
     },
     "metadata": {},
     "output_type": "display_data"
    },
    {
     "data": {
      "text/html": [
       " View run at <a href='https://wandb.ai/nilesh2797/hands_on_ml_demo/runs/noft849u' target=\"_blank\">https://wandb.ai/nilesh2797/hands_on_ml_demo/runs/noft849u</a>"
      ],
      "text/plain": [
       "<IPython.core.display.HTML object>"
      ]
     },
     "metadata": {},
     "output_type": "display_data"
    },
    {
     "name": "stderr",
     "output_type": "stream",
     "text": [
      "Epoch 1: 100%|██████████| 250/250 [00:00<00:00, 291.07it/s, mean loss=0.68] \n"
     ]
    },
    {
     "name": "stdout",
     "output_type": "stream",
     "text": [
      "Average training loss for epoch 1: 0.679796\n",
      "\n",
      "Val set: Average loss: 0.6701, Accuracy: 59.10%\n",
      "\n"
     ]
    },
    {
     "name": "stderr",
     "output_type": "stream",
     "text": [
      "Epoch 2: 100%|██████████| 250/250 [00:01<00:00, 212.66it/s, mean loss=0.669]\n"
     ]
    },
    {
     "name": "stdout",
     "output_type": "stream",
     "text": [
      "Average training loss for epoch 2: 0.668984\n",
      "\n",
      "Val set: Average loss: 0.6670, Accuracy: 59.15%\n",
      "\n"
     ]
    },
    {
     "name": "stderr",
     "output_type": "stream",
     "text": [
      "Epoch 3: 100%|██████████| 250/250 [00:00<00:00, 295.56it/s, mean loss=0.666]\n"
     ]
    },
    {
     "name": "stdout",
     "output_type": "stream",
     "text": [
      "Average training loss for epoch 3: 0.666017\n",
      "\n",
      "Val set: Average loss: 0.6623, Accuracy: 60.65%\n",
      "\n"
     ]
    },
    {
     "data": {
      "text/html": [],
      "text/plain": [
       "<IPython.core.display.HTML object>"
      ]
     },
     "metadata": {},
     "output_type": "display_data"
    },
    {
     "data": {
      "text/html": [
       "<br>    <style><br>        .wandb-row {<br>            display: flex;<br>            flex-direction: row;<br>            flex-wrap: wrap;<br>            justify-content: flex-start;<br>            width: 100%;<br>        }<br>        .wandb-col {<br>            display: flex;<br>            flex-direction: column;<br>            flex-basis: 100%;<br>            flex: 1;<br>            padding: 10px;<br>        }<br>    </style><br><div class=\"wandb-row\"><div class=\"wandb-col\"><h3>Run history:</h3><br/><table class=\"wandb\"><tr><td>batch</td><td>▁▁▂▂▃▃▃▃▄▄▅▅▆▆▆▁▂▂▃▃▄▆▆▆▇▇█▂▂▃▃▄▅▅▆▆▇▇▇█</td></tr><tr><td>epoch</td><td>▁▁▁▁▁▁▁▁▁▁▁▁▁▁▁▁▁▅▅▅▅▅▅▅▅▅▅▅▅▅██████████</td></tr><tr><td>epoch_train_loss</td><td>█▃▁</td></tr><tr><td>epoch_val_loss</td><td>█▅▁</td></tr><tr><td>train_loss</td><td>▆▄▅▅▃▃▄▁▆▇▇▅▆▄▇▁▃▁▅▅▂▄▅█▂▃▅▃▄▅▂▄▄▅▃▃▁▂▅▁</td></tr><tr><td>val_accuracy</td><td>▁▁▁▁██</td></tr><tr><td>val_loss</td><td>█▅▁</td></tr></table><br/></div><div class=\"wandb-col\"><h3>Run summary:</h3><br/><table class=\"wandb\"><tr><td>batch</td><td>249</td></tr><tr><td>epoch</td><td>3</td></tr><tr><td>epoch_train_loss</td><td>0.66602</td></tr><tr><td>epoch_val_loss</td><td>0.6623</td></tr><tr><td>train_loss</td><td>0.63128</td></tr><tr><td>val_accuracy</td><td>60.65</td></tr><tr><td>val_loss</td><td>0.6623</td></tr></table><br/></div></div>"
      ],
      "text/plain": [
       "<IPython.core.display.HTML object>"
      ]
     },
     "metadata": {},
     "output_type": "display_data"
    },
    {
     "data": {
      "text/html": [
       " View run <strong style=\"color:#cdcd00\">denim-sweep-9</strong> at: <a href='https://wandb.ai/nilesh2797/hands_on_ml_demo/runs/noft849u' target=\"_blank\">https://wandb.ai/nilesh2797/hands_on_ml_demo/runs/noft849u</a><br> View project at: <a href='https://wandb.ai/nilesh2797/hands_on_ml_demo' target=\"_blank\">https://wandb.ai/nilesh2797/hands_on_ml_demo</a><br>Synced 5 W&B file(s), 96 media file(s), 0 artifact file(s) and 0 other file(s)"
      ],
      "text/plain": [
       "<IPython.core.display.HTML object>"
      ]
     },
     "metadata": {},
     "output_type": "display_data"
    },
    {
     "data": {
      "text/html": [
       "Find logs at: <code>./wandb/run-20250226_134227-noft849u/logs</code>"
      ],
      "text/plain": [
       "<IPython.core.display.HTML object>"
      ]
     },
     "metadata": {},
     "output_type": "display_data"
    },
    {
     "name": "stderr",
     "output_type": "stream",
     "text": [
      "\u001b[34m\u001b[1mwandb\u001b[0m: Agent Starting Run: 8xilgzeo with config:\n",
      "\u001b[34m\u001b[1mwandb\u001b[0m: \tbatch_size: 64\n",
      "\u001b[34m\u001b[1mwandb\u001b[0m: \tepochs: 3\n",
      "\u001b[34m\u001b[1mwandb\u001b[0m: \thidden_size: 64\n",
      "\u001b[34m\u001b[1mwandb\u001b[0m: \tlearning_rate: 0.001\n"
     ]
    },
    {
     "data": {
      "text/html": [
       "Tracking run with wandb version 0.19.7"
      ],
      "text/plain": [
       "<IPython.core.display.HTML object>"
      ]
     },
     "metadata": {},
     "output_type": "display_data"
    },
    {
     "data": {
      "text/html": [
       "Run data is saved locally in <code>/Users/nileshgupta/Downloads/work/Spring25/CS391L/HandsOnML/wandb/run-20250226_134238-8xilgzeo</code>"
      ],
      "text/plain": [
       "<IPython.core.display.HTML object>"
      ]
     },
     "metadata": {},
     "output_type": "display_data"
    },
    {
     "data": {
      "text/html": [
       "Syncing run <strong><a href='https://wandb.ai/nilesh2797/hands_on_ml_demo/runs/8xilgzeo' target=\"_blank\">different-sweep-10</a></strong> to <a href='https://wandb.ai/nilesh2797/hands_on_ml_demo' target=\"_blank\">Weights & Biases</a> (<a href='https://wandb.me/developer-guide' target=\"_blank\">docs</a>)<br>Sweep page: <a href='https://wandb.ai/nilesh2797/hands_on_ml_demo/sweeps/1sn1nvxk' target=\"_blank\">https://wandb.ai/nilesh2797/hands_on_ml_demo/sweeps/1sn1nvxk</a>"
      ],
      "text/plain": [
       "<IPython.core.display.HTML object>"
      ]
     },
     "metadata": {},
     "output_type": "display_data"
    },
    {
     "data": {
      "text/html": [
       " View project at <a href='https://wandb.ai/nilesh2797/hands_on_ml_demo' target=\"_blank\">https://wandb.ai/nilesh2797/hands_on_ml_demo</a>"
      ],
      "text/plain": [
       "<IPython.core.display.HTML object>"
      ]
     },
     "metadata": {},
     "output_type": "display_data"
    },
    {
     "data": {
      "text/html": [
       " View sweep at <a href='https://wandb.ai/nilesh2797/hands_on_ml_demo/sweeps/1sn1nvxk' target=\"_blank\">https://wandb.ai/nilesh2797/hands_on_ml_demo/sweeps/1sn1nvxk</a>"
      ],
      "text/plain": [
       "<IPython.core.display.HTML object>"
      ]
     },
     "metadata": {},
     "output_type": "display_data"
    },
    {
     "data": {
      "text/html": [
       " View run at <a href='https://wandb.ai/nilesh2797/hands_on_ml_demo/runs/8xilgzeo' target=\"_blank\">https://wandb.ai/nilesh2797/hands_on_ml_demo/runs/8xilgzeo</a>"
      ],
      "text/plain": [
       "<IPython.core.display.HTML object>"
      ]
     },
     "metadata": {},
     "output_type": "display_data"
    },
    {
     "name": "stderr",
     "output_type": "stream",
     "text": [
      "Epoch 1: 100%|██████████| 125/125 [00:00<00:00, 148.54it/s, mean loss=0.755]\n"
     ]
    },
    {
     "name": "stdout",
     "output_type": "stream",
     "text": [
      "Average training loss for epoch 1: 0.754559\n",
      "\n",
      "Val set: Average loss: 0.7158, Accuracy: 50.85%\n",
      "\n"
     ]
    },
    {
     "name": "stderr",
     "output_type": "stream",
     "text": [
      "Epoch 2: 100%|██████████| 125/125 [00:00<00:00, 180.99it/s, mean loss=0.71] \n"
     ]
    },
    {
     "name": "stdout",
     "output_type": "stream",
     "text": [
      "Average training loss for epoch 2: 0.709623\n",
      "\n",
      "Val set: Average loss: 0.6937, Accuracy: 51.40%\n",
      "\n"
     ]
    },
    {
     "name": "stderr",
     "output_type": "stream",
     "text": [
      "Epoch 3: 100%|██████████| 125/125 [00:00<00:00, 159.29it/s, mean loss=0.694]\n"
     ]
    },
    {
     "name": "stdout",
     "output_type": "stream",
     "text": [
      "Average training loss for epoch 3: 0.693613\n",
      "\n",
      "Val set: Average loss: 0.6858, Accuracy: 53.50%\n",
      "\n"
     ]
    },
    {
     "data": {
      "text/html": [],
      "text/plain": [
       "<IPython.core.display.HTML object>"
      ]
     },
     "metadata": {},
     "output_type": "display_data"
    },
    {
     "data": {
      "text/html": [
       "<br>    <style><br>        .wandb-row {<br>            display: flex;<br>            flex-direction: row;<br>            flex-wrap: wrap;<br>            justify-content: flex-start;<br>            width: 100%;<br>        }<br>        .wandb-col {<br>            display: flex;<br>            flex-direction: column;<br>            flex-basis: 100%;<br>            flex: 1;<br>            padding: 10px;<br>        }<br>    </style><br><div class=\"wandb-row\"><div class=\"wandb-col\"><h3>Run history:</h3><br/><table class=\"wandb\"><tr><td>batch</td><td>▁▂▂▃▃▃▃▃▄▆▁▂▂▂▃▃▄▄▅▅▇▇▇▇██▁▁▂▂▅▅▅▅▆▇▇███</td></tr><tr><td>epoch</td><td>▁▁▁▁▁▁▁▁▁▁▁▁▁▁▁▁▅▅▅▅▅▅▅▅████████████████</td></tr><tr><td>epoch_train_loss</td><td>█▃▁</td></tr><tr><td>epoch_val_loss</td><td>█▃▁</td></tr><tr><td>train_loss</td><td>▄█▆▄▂▁▃▇▃▆▂▆▄▃▄▁▄▄▃▂▃▁▃▁▃▂▂▃▂▃▃▁▂▂▁▂▂▃▂▂</td></tr><tr><td>val_accuracy</td><td>▁▁▂▂██</td></tr><tr><td>val_loss</td><td>█▃▁</td></tr></table><br/></div><div class=\"wandb-col\"><h3>Run summary:</h3><br/><table class=\"wandb\"><tr><td>batch</td><td>124</td></tr><tr><td>epoch</td><td>3</td></tr><tr><td>epoch_train_loss</td><td>0.69361</td></tr><tr><td>epoch_val_loss</td><td>0.68583</td></tr><tr><td>train_loss</td><td>0.69094</td></tr><tr><td>val_accuracy</td><td>53.5</td></tr><tr><td>val_loss</td><td>0.68583</td></tr></table><br/></div></div>"
      ],
      "text/plain": [
       "<IPython.core.display.HTML object>"
      ]
     },
     "metadata": {},
     "output_type": "display_data"
    },
    {
     "data": {
      "text/html": [
       " View run <strong style=\"color:#cdcd00\">different-sweep-10</strong> at: <a href='https://wandb.ai/nilesh2797/hands_on_ml_demo/runs/8xilgzeo' target=\"_blank\">https://wandb.ai/nilesh2797/hands_on_ml_demo/runs/8xilgzeo</a><br> View project at: <a href='https://wandb.ai/nilesh2797/hands_on_ml_demo' target=\"_blank\">https://wandb.ai/nilesh2797/hands_on_ml_demo</a><br>Synced 5 W&B file(s), 192 media file(s), 0 artifact file(s) and 0 other file(s)"
      ],
      "text/plain": [
       "<IPython.core.display.HTML object>"
      ]
     },
     "metadata": {},
     "output_type": "display_data"
    },
    {
     "data": {
      "text/html": [
       "Find logs at: <code>./wandb/run-20250226_134238-8xilgzeo/logs</code>"
      ],
      "text/plain": [
       "<IPython.core.display.HTML object>"
      ]
     },
     "metadata": {},
     "output_type": "display_data"
    },
    {
     "name": "stderr",
     "output_type": "stream",
     "text": [
      "\u001b[34m\u001b[1mwandb\u001b[0m: Agent Starting Run: q9gjw0yy with config:\n",
      "\u001b[34m\u001b[1mwandb\u001b[0m: \tbatch_size: 64\n",
      "\u001b[34m\u001b[1mwandb\u001b[0m: \tepochs: 3\n",
      "\u001b[34m\u001b[1mwandb\u001b[0m: \thidden_size: 64\n",
      "\u001b[34m\u001b[1mwandb\u001b[0m: \tlearning_rate: 0.0001\n"
     ]
    },
    {
     "data": {
      "text/html": [
       "Tracking run with wandb version 0.19.7"
      ],
      "text/plain": [
       "<IPython.core.display.HTML object>"
      ]
     },
     "metadata": {},
     "output_type": "display_data"
    },
    {
     "data": {
      "text/html": [
       "Run data is saved locally in <code>/Users/nileshgupta/Downloads/work/Spring25/CS391L/HandsOnML/wandb/run-20250226_134248-q9gjw0yy</code>"
      ],
      "text/plain": [
       "<IPython.core.display.HTML object>"
      ]
     },
     "metadata": {},
     "output_type": "display_data"
    },
    {
     "data": {
      "text/html": [
       "Syncing run <strong><a href='https://wandb.ai/nilesh2797/hands_on_ml_demo/runs/q9gjw0yy' target=\"_blank\">dry-sweep-11</a></strong> to <a href='https://wandb.ai/nilesh2797/hands_on_ml_demo' target=\"_blank\">Weights & Biases</a> (<a href='https://wandb.me/developer-guide' target=\"_blank\">docs</a>)<br>Sweep page: <a href='https://wandb.ai/nilesh2797/hands_on_ml_demo/sweeps/1sn1nvxk' target=\"_blank\">https://wandb.ai/nilesh2797/hands_on_ml_demo/sweeps/1sn1nvxk</a>"
      ],
      "text/plain": [
       "<IPython.core.display.HTML object>"
      ]
     },
     "metadata": {},
     "output_type": "display_data"
    },
    {
     "data": {
      "text/html": [
       " View project at <a href='https://wandb.ai/nilesh2797/hands_on_ml_demo' target=\"_blank\">https://wandb.ai/nilesh2797/hands_on_ml_demo</a>"
      ],
      "text/plain": [
       "<IPython.core.display.HTML object>"
      ]
     },
     "metadata": {},
     "output_type": "display_data"
    },
    {
     "data": {
      "text/html": [
       " View sweep at <a href='https://wandb.ai/nilesh2797/hands_on_ml_demo/sweeps/1sn1nvxk' target=\"_blank\">https://wandb.ai/nilesh2797/hands_on_ml_demo/sweeps/1sn1nvxk</a>"
      ],
      "text/plain": [
       "<IPython.core.display.HTML object>"
      ]
     },
     "metadata": {},
     "output_type": "display_data"
    },
    {
     "data": {
      "text/html": [
       " View run at <a href='https://wandb.ai/nilesh2797/hands_on_ml_demo/runs/q9gjw0yy' target=\"_blank\">https://wandb.ai/nilesh2797/hands_on_ml_demo/runs/q9gjw0yy</a>"
      ],
      "text/plain": [
       "<IPython.core.display.HTML object>"
      ]
     },
     "metadata": {},
     "output_type": "display_data"
    },
    {
     "name": "stderr",
     "output_type": "stream",
     "text": [
      "Epoch 1: 100%|██████████| 125/125 [00:00<00:00, 211.51it/s, mean loss=0.751]\n"
     ]
    },
    {
     "name": "stdout",
     "output_type": "stream",
     "text": [
      "Average training loss for epoch 1: 0.751483\n",
      "\n",
      "Val set: Average loss: 0.7382, Accuracy: 50.85%\n",
      "\n"
     ]
    },
    {
     "name": "stderr",
     "output_type": "stream",
     "text": [
      "Epoch 2: 100%|██████████| 125/125 [00:00<00:00, 226.99it/s, mean loss=0.745]\n"
     ]
    },
    {
     "name": "stdout",
     "output_type": "stream",
     "text": [
      "Average training loss for epoch 2: 0.744822\n",
      "\n",
      "Val set: Average loss: 0.7323, Accuracy: 50.85%\n",
      "\n"
     ]
    },
    {
     "name": "stderr",
     "output_type": "stream",
     "text": [
      "Epoch 3: 100%|██████████| 125/125 [00:00<00:00, 212.04it/s, mean loss=0.739]\n"
     ]
    },
    {
     "name": "stdout",
     "output_type": "stream",
     "text": [
      "Average training loss for epoch 3: 0.738824\n",
      "\n",
      "Val set: Average loss: 0.7271, Accuracy: 50.85%\n",
      "\n"
     ]
    },
    {
     "data": {
      "text/html": [],
      "text/plain": [
       "<IPython.core.display.HTML object>"
      ]
     },
     "metadata": {},
     "output_type": "display_data"
    },
    {
     "data": {
      "text/html": [
       "<br>    <style><br>        .wandb-row {<br>            display: flex;<br>            flex-direction: row;<br>            flex-wrap: wrap;<br>            justify-content: flex-start;<br>            width: 100%;<br>        }<br>        .wandb-col {<br>            display: flex;<br>            flex-direction: column;<br>            flex-basis: 100%;<br>            flex: 1;<br>            padding: 10px;<br>        }<br>    </style><br><div class=\"wandb-row\"><div class=\"wandb-col\"><h3>Run history:</h3><br/><table class=\"wandb\"><tr><td>batch</td><td>▁▂▂▂▃▅▅▅▆▆▇▇▇▇█▃▃▄▄▄▅▅▆▆██▂▃▃▃▄▅▅▅▅▅▆███</td></tr><tr><td>epoch</td><td>▁▁▁▁▁▁▁▁▁▅▅▅▅▅▅▅▅▅▅▅▅▅▅▅████████████████</td></tr><tr><td>epoch_train_loss</td><td>█▄▁</td></tr><tr><td>epoch_val_loss</td><td>█▄▁</td></tr><tr><td>train_loss</td><td>█▄▇▅▆▅█▁▅▇▅▁▃▆▅▄▃▇▃█▃▇▆▅▅▁▅▇▅▅▆▄▆▄▄▆▅▄▄▁</td></tr><tr><td>val_accuracy</td><td>▁▁▁▁▁▁</td></tr><tr><td>val_loss</td><td>█▄▁</td></tr></table><br/></div><div class=\"wandb-col\"><h3>Run summary:</h3><br/><table class=\"wandb\"><tr><td>batch</td><td>124</td></tr><tr><td>epoch</td><td>3</td></tr><tr><td>epoch_train_loss</td><td>0.73882</td></tr><tr><td>epoch_val_loss</td><td>0.72708</td></tr><tr><td>train_loss</td><td>0.67614</td></tr><tr><td>val_accuracy</td><td>50.85</td></tr><tr><td>val_loss</td><td>0.72708</td></tr></table><br/></div></div>"
      ],
      "text/plain": [
       "<IPython.core.display.HTML object>"
      ]
     },
     "metadata": {},
     "output_type": "display_data"
    },
    {
     "data": {
      "text/html": [
       " View run <strong style=\"color:#cdcd00\">dry-sweep-11</strong> at: <a href='https://wandb.ai/nilesh2797/hands_on_ml_demo/runs/q9gjw0yy' target=\"_blank\">https://wandb.ai/nilesh2797/hands_on_ml_demo/runs/q9gjw0yy</a><br> View project at: <a href='https://wandb.ai/nilesh2797/hands_on_ml_demo' target=\"_blank\">https://wandb.ai/nilesh2797/hands_on_ml_demo</a><br>Synced 5 W&B file(s), 192 media file(s), 0 artifact file(s) and 0 other file(s)"
      ],
      "text/plain": [
       "<IPython.core.display.HTML object>"
      ]
     },
     "metadata": {},
     "output_type": "display_data"
    },
    {
     "data": {
      "text/html": [
       "Find logs at: <code>./wandb/run-20250226_134248-q9gjw0yy/logs</code>"
      ],
      "text/plain": [
       "<IPython.core.display.HTML object>"
      ]
     },
     "metadata": {},
     "output_type": "display_data"
    },
    {
     "name": "stderr",
     "output_type": "stream",
     "text": [
      "\u001b[34m\u001b[1mwandb\u001b[0m: Agent Starting Run: 8qs4z78v with config:\n",
      "\u001b[34m\u001b[1mwandb\u001b[0m: \tbatch_size: 64\n",
      "\u001b[34m\u001b[1mwandb\u001b[0m: \tepochs: 3\n",
      "\u001b[34m\u001b[1mwandb\u001b[0m: \thidden_size: 64\n",
      "\u001b[34m\u001b[1mwandb\u001b[0m: \tlearning_rate: 0.01\n"
     ]
    },
    {
     "data": {
      "text/html": [
       "Tracking run with wandb version 0.19.7"
      ],
      "text/plain": [
       "<IPython.core.display.HTML object>"
      ]
     },
     "metadata": {},
     "output_type": "display_data"
    },
    {
     "data": {
      "text/html": [
       "Run data is saved locally in <code>/Users/nileshgupta/Downloads/work/Spring25/CS391L/HandsOnML/wandb/run-20250226_134253-8qs4z78v</code>"
      ],
      "text/plain": [
       "<IPython.core.display.HTML object>"
      ]
     },
     "metadata": {},
     "output_type": "display_data"
    },
    {
     "data": {
      "text/html": [
       "Syncing run <strong><a href='https://wandb.ai/nilesh2797/hands_on_ml_demo/runs/8qs4z78v' target=\"_blank\">cosmic-sweep-12</a></strong> to <a href='https://wandb.ai/nilesh2797/hands_on_ml_demo' target=\"_blank\">Weights & Biases</a> (<a href='https://wandb.me/developer-guide' target=\"_blank\">docs</a>)<br>Sweep page: <a href='https://wandb.ai/nilesh2797/hands_on_ml_demo/sweeps/1sn1nvxk' target=\"_blank\">https://wandb.ai/nilesh2797/hands_on_ml_demo/sweeps/1sn1nvxk</a>"
      ],
      "text/plain": [
       "<IPython.core.display.HTML object>"
      ]
     },
     "metadata": {},
     "output_type": "display_data"
    },
    {
     "data": {
      "text/html": [
       " View project at <a href='https://wandb.ai/nilesh2797/hands_on_ml_demo' target=\"_blank\">https://wandb.ai/nilesh2797/hands_on_ml_demo</a>"
      ],
      "text/plain": [
       "<IPython.core.display.HTML object>"
      ]
     },
     "metadata": {},
     "output_type": "display_data"
    },
    {
     "data": {
      "text/html": [
       " View sweep at <a href='https://wandb.ai/nilesh2797/hands_on_ml_demo/sweeps/1sn1nvxk' target=\"_blank\">https://wandb.ai/nilesh2797/hands_on_ml_demo/sweeps/1sn1nvxk</a>"
      ],
      "text/plain": [
       "<IPython.core.display.HTML object>"
      ]
     },
     "metadata": {},
     "output_type": "display_data"
    },
    {
     "data": {
      "text/html": [
       " View run at <a href='https://wandb.ai/nilesh2797/hands_on_ml_demo/runs/8qs4z78v' target=\"_blank\">https://wandb.ai/nilesh2797/hands_on_ml_demo/runs/8qs4z78v</a>"
      ],
      "text/plain": [
       "<IPython.core.display.HTML object>"
      ]
     },
     "metadata": {},
     "output_type": "display_data"
    },
    {
     "name": "stderr",
     "output_type": "stream",
     "text": [
      "Epoch 1: 100%|██████████| 125/125 [00:00<00:00, 164.58it/s, mean loss=0.69] \n"
     ]
    },
    {
     "name": "stdout",
     "output_type": "stream",
     "text": [
      "Average training loss for epoch 1: 0.689676\n",
      "\n",
      "Val set: Average loss: 0.6750, Accuracy: 57.70%\n",
      "\n"
     ]
    },
    {
     "name": "stderr",
     "output_type": "stream",
     "text": [
      "Epoch 2: 100%|██████████| 125/125 [00:00<00:00, 204.79it/s, mean loss=0.674]\n"
     ]
    },
    {
     "name": "stdout",
     "output_type": "stream",
     "text": [
      "Average training loss for epoch 2: 0.673630\n",
      "\n",
      "Val set: Average loss: 0.6710, Accuracy: 58.75%\n",
      "\n"
     ]
    },
    {
     "name": "stderr",
     "output_type": "stream",
     "text": [
      "Epoch 3: 100%|██████████| 125/125 [00:01<00:00, 120.30it/s, mean loss=0.67] \n"
     ]
    },
    {
     "name": "stdout",
     "output_type": "stream",
     "text": [
      "Average training loss for epoch 3: 0.670178\n",
      "\n",
      "Val set: Average loss: 0.6666, Accuracy: 58.85%\n",
      "\n"
     ]
    },
    {
     "data": {
      "text/html": [],
      "text/plain": [
       "<IPython.core.display.HTML object>"
      ]
     },
     "metadata": {},
     "output_type": "display_data"
    },
    {
     "data": {
      "text/html": [
       "<br>    <style><br>        .wandb-row {<br>            display: flex;<br>            flex-direction: row;<br>            flex-wrap: wrap;<br>            justify-content: flex-start;<br>            width: 100%;<br>        }<br>        .wandb-col {<br>            display: flex;<br>            flex-direction: column;<br>            flex-basis: 100%;<br>            flex: 1;<br>            padding: 10px;<br>        }<br>    </style><br><div class=\"wandb-row\"><div class=\"wandb-col\"><h3>Run history:</h3><br/><table class=\"wandb\"><tr><td>batch</td><td>▁▁▂▃▃▄▄▆▇▇██▁▂▂▃▃▃▃▃▄▄▅▆▇▇▇█▁▁▂▃▃▃▄▄▄▆▇█</td></tr><tr><td>epoch</td><td>▁▁▁▁▁▁▁▁▁▁▁▁▁▁▁▅▅▅▅▅▅▅▅▅▅▅▅█████████████</td></tr><tr><td>epoch_train_loss</td><td>█▂▁</td></tr><tr><td>epoch_val_loss</td><td>█▅▁</td></tr><tr><td>train_loss</td><td>▇█▄▄▃▃▃▃▃▃▂▃▃▂▄▂▃▁▂▂▂▃▃▄▃▁▁▅▂▂▂▄▁▄▄▁▂▂▁▁</td></tr><tr><td>val_accuracy</td><td>▁▁▇▇██</td></tr><tr><td>val_loss</td><td>█▅▁</td></tr></table><br/></div><div class=\"wandb-col\"><h3>Run summary:</h3><br/><table class=\"wandb\"><tr><td>batch</td><td>124</td></tr><tr><td>epoch</td><td>3</td></tr><tr><td>epoch_train_loss</td><td>0.67018</td></tr><tr><td>epoch_val_loss</td><td>0.66656</td></tr><tr><td>train_loss</td><td>0.70653</td></tr><tr><td>val_accuracy</td><td>58.85</td></tr><tr><td>val_loss</td><td>0.66656</td></tr></table><br/></div></div>"
      ],
      "text/plain": [
       "<IPython.core.display.HTML object>"
      ]
     },
     "metadata": {},
     "output_type": "display_data"
    },
    {
     "data": {
      "text/html": [
       " View run <strong style=\"color:#cdcd00\">cosmic-sweep-12</strong> at: <a href='https://wandb.ai/nilesh2797/hands_on_ml_demo/runs/8qs4z78v' target=\"_blank\">https://wandb.ai/nilesh2797/hands_on_ml_demo/runs/8qs4z78v</a><br> View project at: <a href='https://wandb.ai/nilesh2797/hands_on_ml_demo' target=\"_blank\">https://wandb.ai/nilesh2797/hands_on_ml_demo</a><br>Synced 5 W&B file(s), 192 media file(s), 0 artifact file(s) and 0 other file(s)"
      ],
      "text/plain": [
       "<IPython.core.display.HTML object>"
      ]
     },
     "metadata": {},
     "output_type": "display_data"
    },
    {
     "data": {
      "text/html": [
       "Find logs at: <code>./wandb/run-20250226_134253-8qs4z78v/logs</code>"
      ],
      "text/plain": [
       "<IPython.core.display.HTML object>"
      ]
     },
     "metadata": {},
     "output_type": "display_data"
    },
    {
     "name": "stderr",
     "output_type": "stream",
     "text": [
      "\u001b[34m\u001b[1mwandb\u001b[0m: Agent Starting Run: e94baf7i with config:\n",
      "\u001b[34m\u001b[1mwandb\u001b[0m: \tbatch_size: 64\n",
      "\u001b[34m\u001b[1mwandb\u001b[0m: \tepochs: 3\n",
      "\u001b[34m\u001b[1mwandb\u001b[0m: \thidden_size: 128\n",
      "\u001b[34m\u001b[1mwandb\u001b[0m: \tlearning_rate: 0.001\n"
     ]
    },
    {
     "data": {
      "text/html": [
       "Tracking run with wandb version 0.19.7"
      ],
      "text/plain": [
       "<IPython.core.display.HTML object>"
      ]
     },
     "metadata": {},
     "output_type": "display_data"
    },
    {
     "data": {
      "text/html": [
       "Run data is saved locally in <code>/Users/nileshgupta/Downloads/work/Spring25/CS391L/HandsOnML/wandb/run-20250226_134304-e94baf7i</code>"
      ],
      "text/plain": [
       "<IPython.core.display.HTML object>"
      ]
     },
     "metadata": {},
     "output_type": "display_data"
    },
    {
     "data": {
      "text/html": [
       "Syncing run <strong><a href='https://wandb.ai/nilesh2797/hands_on_ml_demo/runs/e94baf7i' target=\"_blank\">likely-sweep-13</a></strong> to <a href='https://wandb.ai/nilesh2797/hands_on_ml_demo' target=\"_blank\">Weights & Biases</a> (<a href='https://wandb.me/developer-guide' target=\"_blank\">docs</a>)<br>Sweep page: <a href='https://wandb.ai/nilesh2797/hands_on_ml_demo/sweeps/1sn1nvxk' target=\"_blank\">https://wandb.ai/nilesh2797/hands_on_ml_demo/sweeps/1sn1nvxk</a>"
      ],
      "text/plain": [
       "<IPython.core.display.HTML object>"
      ]
     },
     "metadata": {},
     "output_type": "display_data"
    },
    {
     "data": {
      "text/html": [
       " View project at <a href='https://wandb.ai/nilesh2797/hands_on_ml_demo' target=\"_blank\">https://wandb.ai/nilesh2797/hands_on_ml_demo</a>"
      ],
      "text/plain": [
       "<IPython.core.display.HTML object>"
      ]
     },
     "metadata": {},
     "output_type": "display_data"
    },
    {
     "data": {
      "text/html": [
       " View sweep at <a href='https://wandb.ai/nilesh2797/hands_on_ml_demo/sweeps/1sn1nvxk' target=\"_blank\">https://wandb.ai/nilesh2797/hands_on_ml_demo/sweeps/1sn1nvxk</a>"
      ],
      "text/plain": [
       "<IPython.core.display.HTML object>"
      ]
     },
     "metadata": {},
     "output_type": "display_data"
    },
    {
     "data": {
      "text/html": [
       " View run at <a href='https://wandb.ai/nilesh2797/hands_on_ml_demo/runs/e94baf7i' target=\"_blank\">https://wandb.ai/nilesh2797/hands_on_ml_demo/runs/e94baf7i</a>"
      ],
      "text/plain": [
       "<IPython.core.display.HTML object>"
      ]
     },
     "metadata": {},
     "output_type": "display_data"
    },
    {
     "name": "stderr",
     "output_type": "stream",
     "text": [
      "Epoch 1: 100%|██████████| 125/125 [00:00<00:00, 164.77it/s, mean loss=0.728]\n"
     ]
    },
    {
     "name": "stdout",
     "output_type": "stream",
     "text": [
      "Average training loss for epoch 1: 0.727522\n",
      "\n",
      "Val set: Average loss: 0.7044, Accuracy: 49.55%\n",
      "\n"
     ]
    },
    {
     "name": "stderr",
     "output_type": "stream",
     "text": [
      "Epoch 2: 100%|██████████| 125/125 [00:00<00:00, 162.12it/s, mean loss=0.692]\n"
     ]
    },
    {
     "name": "stdout",
     "output_type": "stream",
     "text": [
      "Average training loss for epoch 2: 0.692493\n",
      "\n",
      "Val set: Average loss: 0.6897, Accuracy: 52.10%\n",
      "\n"
     ]
    },
    {
     "name": "stderr",
     "output_type": "stream",
     "text": [
      "Epoch 3: 100%|██████████| 125/125 [00:00<00:00, 183.99it/s, mean loss=0.686]\n"
     ]
    },
    {
     "name": "stdout",
     "output_type": "stream",
     "text": [
      "Average training loss for epoch 3: 0.686100\n",
      "\n",
      "Val set: Average loss: 0.6852, Accuracy: 54.80%\n",
      "\n"
     ]
    },
    {
     "data": {
      "text/html": [],
      "text/plain": [
       "<IPython.core.display.HTML object>"
      ]
     },
     "metadata": {},
     "output_type": "display_data"
    },
    {
     "data": {
      "text/html": [
       "<br>    <style><br>        .wandb-row {<br>            display: flex;<br>            flex-direction: row;<br>            flex-wrap: wrap;<br>            justify-content: flex-start;<br>            width: 100%;<br>        }<br>        .wandb-col {<br>            display: flex;<br>            flex-direction: column;<br>            flex-basis: 100%;<br>            flex: 1;<br>            padding: 10px;<br>        }<br>    </style><br><div class=\"wandb-row\"><div class=\"wandb-col\"><h3>Run history:</h3><br/><table class=\"wandb\"><tr><td>batch</td><td>▁▂▃▃▄▅▅▅▆▆▆▆██▁▂▂▃▄▅▅▆▆▆▆▁▂▂▂▃▄▅▅▅▅▆▆▆▆█</td></tr><tr><td>epoch</td><td>▁▁▁▁▁▁▁▁▁▁▁▁▁▅▅▅▅▅▅▅▅▅▅▅▅███████████████</td></tr><tr><td>epoch_train_loss</td><td>█▂▁</td></tr><tr><td>epoch_val_loss</td><td>█▃▁</td></tr><tr><td>train_loss</td><td>▅█▃▄▂▂▆▂▄▃▂▁▂▃▃▂▂▁▃▂▁▂▃▂▁▂▂▂▂▂▁▂▂▁▂▂▁▂▁▂</td></tr><tr><td>val_accuracy</td><td>▁▁▄▄██</td></tr><tr><td>val_loss</td><td>█▃▁</td></tr></table><br/></div><div class=\"wandb-col\"><h3>Run summary:</h3><br/><table class=\"wandb\"><tr><td>batch</td><td>124</td></tr><tr><td>epoch</td><td>3</td></tr><tr><td>epoch_train_loss</td><td>0.6861</td></tr><tr><td>epoch_val_loss</td><td>0.68516</td></tr><tr><td>train_loss</td><td>0.69044</td></tr><tr><td>val_accuracy</td><td>54.8</td></tr><tr><td>val_loss</td><td>0.68516</td></tr></table><br/></div></div>"
      ],
      "text/plain": [
       "<IPython.core.display.HTML object>"
      ]
     },
     "metadata": {},
     "output_type": "display_data"
    },
    {
     "data": {
      "text/html": [
       " View run <strong style=\"color:#cdcd00\">likely-sweep-13</strong> at: <a href='https://wandb.ai/nilesh2797/hands_on_ml_demo/runs/e94baf7i' target=\"_blank\">https://wandb.ai/nilesh2797/hands_on_ml_demo/runs/e94baf7i</a><br> View project at: <a href='https://wandb.ai/nilesh2797/hands_on_ml_demo' target=\"_blank\">https://wandb.ai/nilesh2797/hands_on_ml_demo</a><br>Synced 5 W&B file(s), 192 media file(s), 0 artifact file(s) and 0 other file(s)"
      ],
      "text/plain": [
       "<IPython.core.display.HTML object>"
      ]
     },
     "metadata": {},
     "output_type": "display_data"
    },
    {
     "data": {
      "text/html": [
       "Find logs at: <code>./wandb/run-20250226_134304-e94baf7i/logs</code>"
      ],
      "text/plain": [
       "<IPython.core.display.HTML object>"
      ]
     },
     "metadata": {},
     "output_type": "display_data"
    },
    {
     "name": "stderr",
     "output_type": "stream",
     "text": [
      "\u001b[34m\u001b[1mwandb\u001b[0m: Agent Starting Run: 1zhy8bue with config:\n",
      "\u001b[34m\u001b[1mwandb\u001b[0m: \tbatch_size: 64\n",
      "\u001b[34m\u001b[1mwandb\u001b[0m: \tepochs: 3\n",
      "\u001b[34m\u001b[1mwandb\u001b[0m: \thidden_size: 128\n",
      "\u001b[34m\u001b[1mwandb\u001b[0m: \tlearning_rate: 0.0001\n"
     ]
    },
    {
     "data": {
      "text/html": [
       "Tracking run with wandb version 0.19.7"
      ],
      "text/plain": [
       "<IPython.core.display.HTML object>"
      ]
     },
     "metadata": {},
     "output_type": "display_data"
    },
    {
     "data": {
      "text/html": [
       "Run data is saved locally in <code>/Users/nileshgupta/Downloads/work/Spring25/CS391L/HandsOnML/wandb/run-20250226_134314-1zhy8bue</code>"
      ],
      "text/plain": [
       "<IPython.core.display.HTML object>"
      ]
     },
     "metadata": {},
     "output_type": "display_data"
    },
    {
     "data": {
      "text/html": [
       "Syncing run <strong><a href='https://wandb.ai/nilesh2797/hands_on_ml_demo/runs/1zhy8bue' target=\"_blank\">rosy-sweep-14</a></strong> to <a href='https://wandb.ai/nilesh2797/hands_on_ml_demo' target=\"_blank\">Weights & Biases</a> (<a href='https://wandb.me/developer-guide' target=\"_blank\">docs</a>)<br>Sweep page: <a href='https://wandb.ai/nilesh2797/hands_on_ml_demo/sweeps/1sn1nvxk' target=\"_blank\">https://wandb.ai/nilesh2797/hands_on_ml_demo/sweeps/1sn1nvxk</a>"
      ],
      "text/plain": [
       "<IPython.core.display.HTML object>"
      ]
     },
     "metadata": {},
     "output_type": "display_data"
    },
    {
     "data": {
      "text/html": [
       " View project at <a href='https://wandb.ai/nilesh2797/hands_on_ml_demo' target=\"_blank\">https://wandb.ai/nilesh2797/hands_on_ml_demo</a>"
      ],
      "text/plain": [
       "<IPython.core.display.HTML object>"
      ]
     },
     "metadata": {},
     "output_type": "display_data"
    },
    {
     "data": {
      "text/html": [
       " View sweep at <a href='https://wandb.ai/nilesh2797/hands_on_ml_demo/sweeps/1sn1nvxk' target=\"_blank\">https://wandb.ai/nilesh2797/hands_on_ml_demo/sweeps/1sn1nvxk</a>"
      ],
      "text/plain": [
       "<IPython.core.display.HTML object>"
      ]
     },
     "metadata": {},
     "output_type": "display_data"
    },
    {
     "data": {
      "text/html": [
       " View run at <a href='https://wandb.ai/nilesh2797/hands_on_ml_demo/runs/1zhy8bue' target=\"_blank\">https://wandb.ai/nilesh2797/hands_on_ml_demo/runs/1zhy8bue</a>"
      ],
      "text/plain": [
       "<IPython.core.display.HTML object>"
      ]
     },
     "metadata": {},
     "output_type": "display_data"
    },
    {
     "name": "stderr",
     "output_type": "stream",
     "text": [
      "Epoch 1: 100%|██████████| 125/125 [00:00<00:00, 170.18it/s, mean loss=0.766]\n"
     ]
    },
    {
     "name": "stdout",
     "output_type": "stream",
     "text": [
      "Average training loss for epoch 1: 0.766400\n",
      "\n",
      "Val set: Average loss: 0.7680, Accuracy: 49.15%\n",
      "\n"
     ]
    },
    {
     "name": "stderr",
     "output_type": "stream",
     "text": [
      "Epoch 2: 100%|██████████| 125/125 [00:00<00:00, 170.85it/s, mean loss=0.752]\n"
     ]
    },
    {
     "name": "stdout",
     "output_type": "stream",
     "text": [
      "Average training loss for epoch 2: 0.751676\n",
      "\n",
      "Val set: Average loss: 0.7535, Accuracy: 49.15%\n",
      "\n"
     ]
    },
    {
     "name": "stderr",
     "output_type": "stream",
     "text": [
      "Epoch 3: 100%|██████████| 125/125 [00:00<00:00, 213.51it/s, mean loss=0.74] \n"
     ]
    },
    {
     "name": "stdout",
     "output_type": "stream",
     "text": [
      "Average training loss for epoch 3: 0.739530\n",
      "\n",
      "Val set: Average loss: 0.7415, Accuracy: 49.15%\n",
      "\n"
     ]
    },
    {
     "data": {
      "text/html": [],
      "text/plain": [
       "<IPython.core.display.HTML object>"
      ]
     },
     "metadata": {},
     "output_type": "display_data"
    },
    {
     "data": {
      "text/html": [
       "<br>    <style><br>        .wandb-row {<br>            display: flex;<br>            flex-direction: row;<br>            flex-wrap: wrap;<br>            justify-content: flex-start;<br>            width: 100%;<br>        }<br>        .wandb-col {<br>            display: flex;<br>            flex-direction: column;<br>            flex-basis: 100%;<br>            flex: 1;<br>            padding: 10px;<br>        }<br>    </style><br><div class=\"wandb-row\"><div class=\"wandb-col\"><h3>Run history:</h3><br/><table class=\"wandb\"><tr><td>batch</td><td>▁▂▂▂▃▃▃▃▄▄▄▅▆▆▆███▁▁▂▄▅▅▅▆▆▆▇▇▂▂▂▃▃▅▅▆▆█</td></tr><tr><td>epoch</td><td>▁▁▁▁▁▁▁▁▁▁▁▁▁▁▁▁▅▅▅▅▅▅▅▅▅▅▅▅▅▅██████████</td></tr><tr><td>epoch_train_loss</td><td>█▄▁</td></tr><tr><td>epoch_val_loss</td><td>█▄▁</td></tr><tr><td>train_loss</td><td>▅▅▇▆▆▆▅▄▄▃▅█▅▃▂▃▅▅▅▂▆▆▅▃▂▅▇▅▅▃▃▃▄▄▄▄▄▄▁▅</td></tr><tr><td>val_accuracy</td><td>▁▁▁▁▁▁</td></tr><tr><td>val_loss</td><td>█▄▁</td></tr></table><br/></div><div class=\"wandb-col\"><h3>Run summary:</h3><br/><table class=\"wandb\"><tr><td>batch</td><td>124</td></tr><tr><td>epoch</td><td>3</td></tr><tr><td>epoch_train_loss</td><td>0.73953</td></tr><tr><td>epoch_val_loss</td><td>0.7415</td></tr><tr><td>train_loss</td><td>0.73429</td></tr><tr><td>val_accuracy</td><td>49.15</td></tr><tr><td>val_loss</td><td>0.7415</td></tr></table><br/></div></div>"
      ],
      "text/plain": [
       "<IPython.core.display.HTML object>"
      ]
     },
     "metadata": {},
     "output_type": "display_data"
    },
    {
     "data": {
      "text/html": [
       " View run <strong style=\"color:#cdcd00\">rosy-sweep-14</strong> at: <a href='https://wandb.ai/nilesh2797/hands_on_ml_demo/runs/1zhy8bue' target=\"_blank\">https://wandb.ai/nilesh2797/hands_on_ml_demo/runs/1zhy8bue</a><br> View project at: <a href='https://wandb.ai/nilesh2797/hands_on_ml_demo' target=\"_blank\">https://wandb.ai/nilesh2797/hands_on_ml_demo</a><br>Synced 5 W&B file(s), 192 media file(s), 0 artifact file(s) and 0 other file(s)"
      ],
      "text/plain": [
       "<IPython.core.display.HTML object>"
      ]
     },
     "metadata": {},
     "output_type": "display_data"
    },
    {
     "data": {
      "text/html": [
       "Find logs at: <code>./wandb/run-20250226_134314-1zhy8bue/logs</code>"
      ],
      "text/plain": [
       "<IPython.core.display.HTML object>"
      ]
     },
     "metadata": {},
     "output_type": "display_data"
    },
    {
     "name": "stderr",
     "output_type": "stream",
     "text": [
      "\u001b[34m\u001b[1mwandb\u001b[0m: Sweep Agent: Waiting for job.\n",
      "\u001b[34m\u001b[1mwandb\u001b[0m: Job received.\n",
      "\u001b[34m\u001b[1mwandb\u001b[0m: Agent Starting Run: vbbsyxnn with config:\n",
      "\u001b[34m\u001b[1mwandb\u001b[0m: \tbatch_size: 64\n",
      "\u001b[34m\u001b[1mwandb\u001b[0m: \tepochs: 3\n",
      "\u001b[34m\u001b[1mwandb\u001b[0m: \thidden_size: 128\n",
      "\u001b[34m\u001b[1mwandb\u001b[0m: \tlearning_rate: 0.01\n"
     ]
    },
    {
     "data": {
      "text/html": [
       "Tracking run with wandb version 0.19.7"
      ],
      "text/plain": [
       "<IPython.core.display.HTML object>"
      ]
     },
     "metadata": {},
     "output_type": "display_data"
    },
    {
     "data": {
      "text/html": [
       "Run data is saved locally in <code>/Users/nileshgupta/Downloads/work/Spring25/CS391L/HandsOnML/wandb/run-20250226_134329-vbbsyxnn</code>"
      ],
      "text/plain": [
       "<IPython.core.display.HTML object>"
      ]
     },
     "metadata": {},
     "output_type": "display_data"
    },
    {
     "data": {
      "text/html": [
       "Syncing run <strong><a href='https://wandb.ai/nilesh2797/hands_on_ml_demo/runs/vbbsyxnn' target=\"_blank\">stellar-sweep-15</a></strong> to <a href='https://wandb.ai/nilesh2797/hands_on_ml_demo' target=\"_blank\">Weights & Biases</a> (<a href='https://wandb.me/developer-guide' target=\"_blank\">docs</a>)<br>Sweep page: <a href='https://wandb.ai/nilesh2797/hands_on_ml_demo/sweeps/1sn1nvxk' target=\"_blank\">https://wandb.ai/nilesh2797/hands_on_ml_demo/sweeps/1sn1nvxk</a>"
      ],
      "text/plain": [
       "<IPython.core.display.HTML object>"
      ]
     },
     "metadata": {},
     "output_type": "display_data"
    },
    {
     "data": {
      "text/html": [
       " View project at <a href='https://wandb.ai/nilesh2797/hands_on_ml_demo' target=\"_blank\">https://wandb.ai/nilesh2797/hands_on_ml_demo</a>"
      ],
      "text/plain": [
       "<IPython.core.display.HTML object>"
      ]
     },
     "metadata": {},
     "output_type": "display_data"
    },
    {
     "data": {
      "text/html": [
       " View sweep at <a href='https://wandb.ai/nilesh2797/hands_on_ml_demo/sweeps/1sn1nvxk' target=\"_blank\">https://wandb.ai/nilesh2797/hands_on_ml_demo/sweeps/1sn1nvxk</a>"
      ],
      "text/plain": [
       "<IPython.core.display.HTML object>"
      ]
     },
     "metadata": {},
     "output_type": "display_data"
    },
    {
     "data": {
      "text/html": [
       " View run at <a href='https://wandb.ai/nilesh2797/hands_on_ml_demo/runs/vbbsyxnn' target=\"_blank\">https://wandb.ai/nilesh2797/hands_on_ml_demo/runs/vbbsyxnn</a>"
      ],
      "text/plain": [
       "<IPython.core.display.HTML object>"
      ]
     },
     "metadata": {},
     "output_type": "display_data"
    },
    {
     "name": "stderr",
     "output_type": "stream",
     "text": [
      "Epoch 1: 100%|██████████| 125/125 [00:00<00:00, 159.82it/s, mean loss=0.687]\n"
     ]
    },
    {
     "name": "stdout",
     "output_type": "stream",
     "text": [
      "Average training loss for epoch 1: 0.687135\n",
      "\n",
      "Val set: Average loss: 0.6741, Accuracy: 59.40%\n",
      "\n"
     ]
    },
    {
     "name": "stderr",
     "output_type": "stream",
     "text": [
      "Epoch 2: 100%|██████████| 125/125 [00:00<00:00, 200.16it/s, mean loss=0.673]\n"
     ]
    },
    {
     "name": "stdout",
     "output_type": "stream",
     "text": [
      "Average training loss for epoch 2: 0.673439\n",
      "\n",
      "Val set: Average loss: 0.6690, Accuracy: 59.75%\n",
      "\n"
     ]
    },
    {
     "name": "stderr",
     "output_type": "stream",
     "text": [
      "Epoch 3: 100%|██████████| 125/125 [00:00<00:00, 187.83it/s, mean loss=0.67] \n"
     ]
    },
    {
     "name": "stdout",
     "output_type": "stream",
     "text": [
      "Average training loss for epoch 3: 0.669716\n",
      "\n",
      "Val set: Average loss: 0.6666, Accuracy: 59.90%\n",
      "\n"
     ]
    },
    {
     "data": {
      "text/html": [],
      "text/plain": [
       "<IPython.core.display.HTML object>"
      ]
     },
     "metadata": {},
     "output_type": "display_data"
    },
    {
     "data": {
      "text/html": [
       "<br>    <style><br>        .wandb-row {<br>            display: flex;<br>            flex-direction: row;<br>            flex-wrap: wrap;<br>            justify-content: flex-start;<br>            width: 100%;<br>        }<br>        .wandb-col {<br>            display: flex;<br>            flex-direction: column;<br>            flex-basis: 100%;<br>            flex: 1;<br>            padding: 10px;<br>        }<br>    </style><br><div class=\"wandb-row\"><div class=\"wandb-col\"><h3>Run history:</h3><br/><table class=\"wandb\"><tr><td>batch</td><td>▁▂▃▃▄▆▇███▁▁▂▂▃▃▄▄▄▄▅▅▅▅▆▆▇▇███▁▂▃▃▄▅▆▆▇</td></tr><tr><td>epoch</td><td>▁▁▁▁▁▁▁▁▁▅▅▅▅▅▅▅▅▅▅▅▅▅▅▅▅███████████████</td></tr><tr><td>epoch_train_loss</td><td>█▂▁</td></tr><tr><td>epoch_val_loss</td><td>█▃▁</td></tr><tr><td>train_loss</td><td>█▃▆▃▄▄▃▄▅▆▃▄▄▃▅▅▄▅▅▄▆▃▄▄▃▂▃▄▃▃▃▄▃▃▁▅▂▄▄▃</td></tr><tr><td>val_accuracy</td><td>▁▁▆▆██</td></tr><tr><td>val_loss</td><td>█▃▁</td></tr></table><br/></div><div class=\"wandb-col\"><h3>Run summary:</h3><br/><table class=\"wandb\"><tr><td>batch</td><td>124</td></tr><tr><td>epoch</td><td>3</td></tr><tr><td>epoch_train_loss</td><td>0.66972</td></tr><tr><td>epoch_val_loss</td><td>0.66657</td></tr><tr><td>train_loss</td><td>0.62394</td></tr><tr><td>val_accuracy</td><td>59.9</td></tr><tr><td>val_loss</td><td>0.66657</td></tr></table><br/></div></div>"
      ],
      "text/plain": [
       "<IPython.core.display.HTML object>"
      ]
     },
     "metadata": {},
     "output_type": "display_data"
    },
    {
     "data": {
      "text/html": [
       " View run <strong style=\"color:#cdcd00\">stellar-sweep-15</strong> at: <a href='https://wandb.ai/nilesh2797/hands_on_ml_demo/runs/vbbsyxnn' target=\"_blank\">https://wandb.ai/nilesh2797/hands_on_ml_demo/runs/vbbsyxnn</a><br> View project at: <a href='https://wandb.ai/nilesh2797/hands_on_ml_demo' target=\"_blank\">https://wandb.ai/nilesh2797/hands_on_ml_demo</a><br>Synced 5 W&B file(s), 192 media file(s), 0 artifact file(s) and 0 other file(s)"
      ],
      "text/plain": [
       "<IPython.core.display.HTML object>"
      ]
     },
     "metadata": {},
     "output_type": "display_data"
    },
    {
     "data": {
      "text/html": [
       "Find logs at: <code>./wandb/run-20250226_134329-vbbsyxnn/logs</code>"
      ],
      "text/plain": [
       "<IPython.core.display.HTML object>"
      ]
     },
     "metadata": {},
     "output_type": "display_data"
    },
    {
     "name": "stderr",
     "output_type": "stream",
     "text": [
      "\u001b[34m\u001b[1mwandb\u001b[0m: Agent Starting Run: g527a0ji with config:\n",
      "\u001b[34m\u001b[1mwandb\u001b[0m: \tbatch_size: 64\n",
      "\u001b[34m\u001b[1mwandb\u001b[0m: \tepochs: 3\n",
      "\u001b[34m\u001b[1mwandb\u001b[0m: \thidden_size: 256\n",
      "\u001b[34m\u001b[1mwandb\u001b[0m: \tlearning_rate: 0.001\n"
     ]
    },
    {
     "data": {
      "text/html": [
       "Tracking run with wandb version 0.19.7"
      ],
      "text/plain": [
       "<IPython.core.display.HTML object>"
      ]
     },
     "metadata": {},
     "output_type": "display_data"
    },
    {
     "data": {
      "text/html": [
       "Run data is saved locally in <code>/Users/nileshgupta/Downloads/work/Spring25/CS391L/HandsOnML/wandb/run-20250226_134335-g527a0ji</code>"
      ],
      "text/plain": [
       "<IPython.core.display.HTML object>"
      ]
     },
     "metadata": {},
     "output_type": "display_data"
    },
    {
     "data": {
      "text/html": [
       "Syncing run <strong><a href='https://wandb.ai/nilesh2797/hands_on_ml_demo/runs/g527a0ji' target=\"_blank\">restful-sweep-16</a></strong> to <a href='https://wandb.ai/nilesh2797/hands_on_ml_demo' target=\"_blank\">Weights & Biases</a> (<a href='https://wandb.me/developer-guide' target=\"_blank\">docs</a>)<br>Sweep page: <a href='https://wandb.ai/nilesh2797/hands_on_ml_demo/sweeps/1sn1nvxk' target=\"_blank\">https://wandb.ai/nilesh2797/hands_on_ml_demo/sweeps/1sn1nvxk</a>"
      ],
      "text/plain": [
       "<IPython.core.display.HTML object>"
      ]
     },
     "metadata": {},
     "output_type": "display_data"
    },
    {
     "data": {
      "text/html": [
       " View project at <a href='https://wandb.ai/nilesh2797/hands_on_ml_demo' target=\"_blank\">https://wandb.ai/nilesh2797/hands_on_ml_demo</a>"
      ],
      "text/plain": [
       "<IPython.core.display.HTML object>"
      ]
     },
     "metadata": {},
     "output_type": "display_data"
    },
    {
     "data": {
      "text/html": [
       " View sweep at <a href='https://wandb.ai/nilesh2797/hands_on_ml_demo/sweeps/1sn1nvxk' target=\"_blank\">https://wandb.ai/nilesh2797/hands_on_ml_demo/sweeps/1sn1nvxk</a>"
      ],
      "text/plain": [
       "<IPython.core.display.HTML object>"
      ]
     },
     "metadata": {},
     "output_type": "display_data"
    },
    {
     "data": {
      "text/html": [
       " View run at <a href='https://wandb.ai/nilesh2797/hands_on_ml_demo/runs/g527a0ji' target=\"_blank\">https://wandb.ai/nilesh2797/hands_on_ml_demo/runs/g527a0ji</a>"
      ],
      "text/plain": [
       "<IPython.core.display.HTML object>"
      ]
     },
     "metadata": {},
     "output_type": "display_data"
    },
    {
     "name": "stderr",
     "output_type": "stream",
     "text": [
      "Epoch 1: 100%|██████████| 125/125 [00:00<00:00, 177.77it/s, mean loss=0.708]\n"
     ]
    },
    {
     "name": "stdout",
     "output_type": "stream",
     "text": [
      "Average training loss for epoch 1: 0.708367\n",
      "\n",
      "Val set: Average loss: 0.6948, Accuracy: 51.15%\n",
      "\n"
     ]
    },
    {
     "name": "stderr",
     "output_type": "stream",
     "text": [
      "Epoch 2: 100%|██████████| 125/125 [00:00<00:00, 161.74it/s, mean loss=0.693]\n"
     ]
    },
    {
     "name": "stdout",
     "output_type": "stream",
     "text": [
      "Average training loss for epoch 2: 0.692513\n",
      "\n",
      "Val set: Average loss: 0.6902, Accuracy: 54.05%\n",
      "\n"
     ]
    },
    {
     "name": "stderr",
     "output_type": "stream",
     "text": [
      "Epoch 3: 100%|██████████| 125/125 [00:00<00:00, 162.21it/s, mean loss=0.689]\n"
     ]
    },
    {
     "name": "stdout",
     "output_type": "stream",
     "text": [
      "Average training loss for epoch 3: 0.688524\n",
      "\n",
      "Val set: Average loss: 0.6867, Accuracy: 55.85%\n",
      "\n"
     ]
    },
    {
     "data": {
      "text/html": [],
      "text/plain": [
       "<IPython.core.display.HTML object>"
      ]
     },
     "metadata": {},
     "output_type": "display_data"
    },
    {
     "data": {
      "text/html": [
       "<br>    <style><br>        .wandb-row {<br>            display: flex;<br>            flex-direction: row;<br>            flex-wrap: wrap;<br>            justify-content: flex-start;<br>            width: 100%;<br>        }<br>        .wandb-col {<br>            display: flex;<br>            flex-direction: column;<br>            flex-basis: 100%;<br>            flex: 1;<br>            padding: 10px;<br>        }<br>    </style><br><div class=\"wandb-row\"><div class=\"wandb-col\"><h3>Run history:</h3><br/><table class=\"wandb\"><tr><td>batch</td><td>▁▁▁▂▃▄▄▄▅▅▇▇▇▇▇▇██▂▂▃▃▃▄▄▅▆▆▆▆▇▇▇█▂▅▆▆▆█</td></tr><tr><td>epoch</td><td>▁▁▁▁▁▁▁▁▁▁▁▁▁▅▅▅▅▅▅▅▅▅▅▅▅▅▅▅████████████</td></tr><tr><td>epoch_train_loss</td><td>█▂▁</td></tr><tr><td>epoch_val_loss</td><td>█▄▁</td></tr><tr><td>train_loss</td><td>▅██▁▃▄▄▄▁▂▄▃▂▂▂▃▂▃▂▃▂▁▂▂▁▂▁▃▂▂▂▃▃▁▃▁▂▂▂▃</td></tr><tr><td>val_accuracy</td><td>▁▁▅▅██</td></tr><tr><td>val_loss</td><td>█▄▁</td></tr></table><br/></div><div class=\"wandb-col\"><h3>Run summary:</h3><br/><table class=\"wandb\"><tr><td>batch</td><td>124</td></tr><tr><td>epoch</td><td>3</td></tr><tr><td>epoch_train_loss</td><td>0.68852</td></tr><tr><td>epoch_val_loss</td><td>0.68668</td></tr><tr><td>train_loss</td><td>0.69947</td></tr><tr><td>val_accuracy</td><td>55.85</td></tr><tr><td>val_loss</td><td>0.68668</td></tr></table><br/></div></div>"
      ],
      "text/plain": [
       "<IPython.core.display.HTML object>"
      ]
     },
     "metadata": {},
     "output_type": "display_data"
    },
    {
     "data": {
      "text/html": [
       " View run <strong style=\"color:#cdcd00\">restful-sweep-16</strong> at: <a href='https://wandb.ai/nilesh2797/hands_on_ml_demo/runs/g527a0ji' target=\"_blank\">https://wandb.ai/nilesh2797/hands_on_ml_demo/runs/g527a0ji</a><br> View project at: <a href='https://wandb.ai/nilesh2797/hands_on_ml_demo' target=\"_blank\">https://wandb.ai/nilesh2797/hands_on_ml_demo</a><br>Synced 5 W&B file(s), 192 media file(s), 0 artifact file(s) and 0 other file(s)"
      ],
      "text/plain": [
       "<IPython.core.display.HTML object>"
      ]
     },
     "metadata": {},
     "output_type": "display_data"
    },
    {
     "data": {
      "text/html": [
       "Find logs at: <code>./wandb/run-20250226_134335-g527a0ji/logs</code>"
      ],
      "text/plain": [
       "<IPython.core.display.HTML object>"
      ]
     },
     "metadata": {},
     "output_type": "display_data"
    },
    {
     "name": "stderr",
     "output_type": "stream",
     "text": [
      "\u001b[34m\u001b[1mwandb\u001b[0m: Sweep Agent: Waiting for job.\n",
      "\u001b[34m\u001b[1mwandb\u001b[0m: Job received.\n",
      "\u001b[34m\u001b[1mwandb\u001b[0m: Agent Starting Run: 2bre31fc with config:\n",
      "\u001b[34m\u001b[1mwandb\u001b[0m: \tbatch_size: 64\n",
      "\u001b[34m\u001b[1mwandb\u001b[0m: \tepochs: 3\n",
      "\u001b[34m\u001b[1mwandb\u001b[0m: \thidden_size: 256\n",
      "\u001b[34m\u001b[1mwandb\u001b[0m: \tlearning_rate: 0.0001\n"
     ]
    },
    {
     "data": {
      "text/html": [
       "Tracking run with wandb version 0.19.7"
      ],
      "text/plain": [
       "<IPython.core.display.HTML object>"
      ]
     },
     "metadata": {},
     "output_type": "display_data"
    },
    {
     "data": {
      "text/html": [
       "Run data is saved locally in <code>/Users/nileshgupta/Downloads/work/Spring25/CS391L/HandsOnML/wandb/run-20250226_134350-2bre31fc</code>"
      ],
      "text/plain": [
       "<IPython.core.display.HTML object>"
      ]
     },
     "metadata": {},
     "output_type": "display_data"
    },
    {
     "data": {
      "text/html": [
       "Syncing run <strong><a href='https://wandb.ai/nilesh2797/hands_on_ml_demo/runs/2bre31fc' target=\"_blank\">jolly-sweep-17</a></strong> to <a href='https://wandb.ai/nilesh2797/hands_on_ml_demo' target=\"_blank\">Weights & Biases</a> (<a href='https://wandb.me/developer-guide' target=\"_blank\">docs</a>)<br>Sweep page: <a href='https://wandb.ai/nilesh2797/hands_on_ml_demo/sweeps/1sn1nvxk' target=\"_blank\">https://wandb.ai/nilesh2797/hands_on_ml_demo/sweeps/1sn1nvxk</a>"
      ],
      "text/plain": [
       "<IPython.core.display.HTML object>"
      ]
     },
     "metadata": {},
     "output_type": "display_data"
    },
    {
     "data": {
      "text/html": [
       " View project at <a href='https://wandb.ai/nilesh2797/hands_on_ml_demo' target=\"_blank\">https://wandb.ai/nilesh2797/hands_on_ml_demo</a>"
      ],
      "text/plain": [
       "<IPython.core.display.HTML object>"
      ]
     },
     "metadata": {},
     "output_type": "display_data"
    },
    {
     "data": {
      "text/html": [
       " View sweep at <a href='https://wandb.ai/nilesh2797/hands_on_ml_demo/sweeps/1sn1nvxk' target=\"_blank\">https://wandb.ai/nilesh2797/hands_on_ml_demo/sweeps/1sn1nvxk</a>"
      ],
      "text/plain": [
       "<IPython.core.display.HTML object>"
      ]
     },
     "metadata": {},
     "output_type": "display_data"
    },
    {
     "data": {
      "text/html": [
       " View run at <a href='https://wandb.ai/nilesh2797/hands_on_ml_demo/runs/2bre31fc' target=\"_blank\">https://wandb.ai/nilesh2797/hands_on_ml_demo/runs/2bre31fc</a>"
      ],
      "text/plain": [
       "<IPython.core.display.HTML object>"
      ]
     },
     "metadata": {},
     "output_type": "display_data"
    },
    {
     "name": "stderr",
     "output_type": "stream",
     "text": [
      "Epoch 1: 100%|██████████| 125/125 [00:00<00:00, 170.30it/s, mean loss=0.696]\n"
     ]
    },
    {
     "name": "stdout",
     "output_type": "stream",
     "text": [
      "Average training loss for epoch 1: 0.696188\n",
      "\n",
      "Val set: Average loss: 0.6986, Accuracy: 49.20%\n",
      "\n"
     ]
    },
    {
     "name": "stderr",
     "output_type": "stream",
     "text": [
      "Epoch 2: 100%|██████████| 125/125 [00:01<00:00, 99.87it/s, mean loss=0.695] \n"
     ]
    },
    {
     "name": "stdout",
     "output_type": "stream",
     "text": [
      "Average training loss for epoch 2: 0.695279\n",
      "\n",
      "Val set: Average loss: 0.6975, Accuracy: 49.85%\n",
      "\n"
     ]
    },
    {
     "name": "stderr",
     "output_type": "stream",
     "text": [
      "Epoch 3: 100%|██████████| 125/125 [00:00<00:00, 165.05it/s, mean loss=0.695]\n"
     ]
    },
    {
     "name": "stdout",
     "output_type": "stream",
     "text": [
      "Average training loss for epoch 3: 0.694525\n",
      "\n",
      "Val set: Average loss: 0.6966, Accuracy: 50.15%\n",
      "\n"
     ]
    },
    {
     "data": {
      "text/html": [],
      "text/plain": [
       "<IPython.core.display.HTML object>"
      ]
     },
     "metadata": {},
     "output_type": "display_data"
    },
    {
     "data": {
      "text/html": [
       "<br>    <style><br>        .wandb-row {<br>            display: flex;<br>            flex-direction: row;<br>            flex-wrap: wrap;<br>            justify-content: flex-start;<br>            width: 100%;<br>        }<br>        .wandb-col {<br>            display: flex;<br>            flex-direction: column;<br>            flex-basis: 100%;<br>            flex: 1;<br>            padding: 10px;<br>        }<br>    </style><br><div class=\"wandb-row\"><div class=\"wandb-col\"><h3>Run history:</h3><br/><table class=\"wandb\"><tr><td>batch</td><td>▂▂▂▃▃▃▃▄▄▅▆▇███▂▃▃▃▄▄▄▅▆▆▇▇█▁▁▂▂▃▃▃▅▆▆▆▇</td></tr><tr><td>epoch</td><td>▁▁▁▁▁▁▁▁▁▁▁▁▁▁▅▅▅▅▅▅▅▅▅▅▅▅▅▅▅▅██████████</td></tr><tr><td>epoch_train_loss</td><td>█▄▁</td></tr><tr><td>epoch_val_loss</td><td>█▄▁</td></tr><tr><td>train_loss</td><td>▂▇▆▅█▆▅▇▆█▅▁▅▅▄▅▇▄▇▆▄▃▇▅▆▂▅▅▄▆▂▆▇▅▆▅▅▆▃▂</td></tr><tr><td>val_accuracy</td><td>▁▁▆▆██</td></tr><tr><td>val_loss</td><td>█▄▁</td></tr></table><br/></div><div class=\"wandb-col\"><h3>Run summary:</h3><br/><table class=\"wandb\"><tr><td>batch</td><td>124</td></tr><tr><td>epoch</td><td>3</td></tr><tr><td>epoch_train_loss</td><td>0.69452</td></tr><tr><td>epoch_val_loss</td><td>0.69658</td></tr><tr><td>train_loss</td><td>0.68896</td></tr><tr><td>val_accuracy</td><td>50.15</td></tr><tr><td>val_loss</td><td>0.69658</td></tr></table><br/></div></div>"
      ],
      "text/plain": [
       "<IPython.core.display.HTML object>"
      ]
     },
     "metadata": {},
     "output_type": "display_data"
    },
    {
     "data": {
      "text/html": [
       " View run <strong style=\"color:#cdcd00\">jolly-sweep-17</strong> at: <a href='https://wandb.ai/nilesh2797/hands_on_ml_demo/runs/2bre31fc' target=\"_blank\">https://wandb.ai/nilesh2797/hands_on_ml_demo/runs/2bre31fc</a><br> View project at: <a href='https://wandb.ai/nilesh2797/hands_on_ml_demo' target=\"_blank\">https://wandb.ai/nilesh2797/hands_on_ml_demo</a><br>Synced 5 W&B file(s), 192 media file(s), 0 artifact file(s) and 0 other file(s)"
      ],
      "text/plain": [
       "<IPython.core.display.HTML object>"
      ]
     },
     "metadata": {},
     "output_type": "display_data"
    },
    {
     "data": {
      "text/html": [
       "Find logs at: <code>./wandb/run-20250226_134350-2bre31fc/logs</code>"
      ],
      "text/plain": [
       "<IPython.core.display.HTML object>"
      ]
     },
     "metadata": {},
     "output_type": "display_data"
    },
    {
     "name": "stderr",
     "output_type": "stream",
     "text": [
      "\u001b[34m\u001b[1mwandb\u001b[0m: Agent Starting Run: 43u8ob9f with config:\n",
      "\u001b[34m\u001b[1mwandb\u001b[0m: \tbatch_size: 64\n",
      "\u001b[34m\u001b[1mwandb\u001b[0m: \tepochs: 3\n",
      "\u001b[34m\u001b[1mwandb\u001b[0m: \thidden_size: 256\n",
      "\u001b[34m\u001b[1mwandb\u001b[0m: \tlearning_rate: 0.01\n"
     ]
    },
    {
     "data": {
      "text/html": [
       "Tracking run with wandb version 0.19.7"
      ],
      "text/plain": [
       "<IPython.core.display.HTML object>"
      ]
     },
     "metadata": {},
     "output_type": "display_data"
    },
    {
     "data": {
      "text/html": [
       "Run data is saved locally in <code>/Users/nileshgupta/Downloads/work/Spring25/CS391L/HandsOnML/wandb/run-20250226_134401-43u8ob9f</code>"
      ],
      "text/plain": [
       "<IPython.core.display.HTML object>"
      ]
     },
     "metadata": {},
     "output_type": "display_data"
    },
    {
     "data": {
      "text/html": [
       "Syncing run <strong><a href='https://wandb.ai/nilesh2797/hands_on_ml_demo/runs/43u8ob9f' target=\"_blank\">ethereal-sweep-18</a></strong> to <a href='https://wandb.ai/nilesh2797/hands_on_ml_demo' target=\"_blank\">Weights & Biases</a> (<a href='https://wandb.me/developer-guide' target=\"_blank\">docs</a>)<br>Sweep page: <a href='https://wandb.ai/nilesh2797/hands_on_ml_demo/sweeps/1sn1nvxk' target=\"_blank\">https://wandb.ai/nilesh2797/hands_on_ml_demo/sweeps/1sn1nvxk</a>"
      ],
      "text/plain": [
       "<IPython.core.display.HTML object>"
      ]
     },
     "metadata": {},
     "output_type": "display_data"
    },
    {
     "data": {
      "text/html": [
       " View project at <a href='https://wandb.ai/nilesh2797/hands_on_ml_demo' target=\"_blank\">https://wandb.ai/nilesh2797/hands_on_ml_demo</a>"
      ],
      "text/plain": [
       "<IPython.core.display.HTML object>"
      ]
     },
     "metadata": {},
     "output_type": "display_data"
    },
    {
     "data": {
      "text/html": [
       " View sweep at <a href='https://wandb.ai/nilesh2797/hands_on_ml_demo/sweeps/1sn1nvxk' target=\"_blank\">https://wandb.ai/nilesh2797/hands_on_ml_demo/sweeps/1sn1nvxk</a>"
      ],
      "text/plain": [
       "<IPython.core.display.HTML object>"
      ]
     },
     "metadata": {},
     "output_type": "display_data"
    },
    {
     "data": {
      "text/html": [
       " View run at <a href='https://wandb.ai/nilesh2797/hands_on_ml_demo/runs/43u8ob9f' target=\"_blank\">https://wandb.ai/nilesh2797/hands_on_ml_demo/runs/43u8ob9f</a>"
      ],
      "text/plain": [
       "<IPython.core.display.HTML object>"
      ]
     },
     "metadata": {},
     "output_type": "display_data"
    },
    {
     "name": "stderr",
     "output_type": "stream",
     "text": [
      "Epoch 1: 100%|██████████| 125/125 [00:00<00:00, 180.70it/s, mean loss=0.684]\n"
     ]
    },
    {
     "name": "stdout",
     "output_type": "stream",
     "text": [
      "Average training loss for epoch 1: 0.684060\n",
      "\n",
      "Val set: Average loss: 0.6749, Accuracy: 59.05%\n",
      "\n"
     ]
    },
    {
     "name": "stderr",
     "output_type": "stream",
     "text": [
      "Epoch 2: 100%|██████████| 125/125 [00:00<00:00, 166.60it/s, mean loss=0.674]\n"
     ]
    },
    {
     "name": "stdout",
     "output_type": "stream",
     "text": [
      "Average training loss for epoch 2: 0.674402\n",
      "\n",
      "Val set: Average loss: 0.6721, Accuracy: 58.95%\n",
      "\n"
     ]
    },
    {
     "name": "stderr",
     "output_type": "stream",
     "text": [
      "Epoch 3: 100%|██████████| 125/125 [00:00<00:00, 190.73it/s, mean loss=0.67] \n"
     ]
    },
    {
     "name": "stdout",
     "output_type": "stream",
     "text": [
      "Average training loss for epoch 3: 0.670307\n",
      "\n",
      "Val set: Average loss: 0.6664, Accuracy: 59.95%\n",
      "\n"
     ]
    },
    {
     "data": {
      "text/html": [],
      "text/plain": [
       "<IPython.core.display.HTML object>"
      ]
     },
     "metadata": {},
     "output_type": "display_data"
    },
    {
     "data": {
      "text/html": [
       "<br>    <style><br>        .wandb-row {<br>            display: flex;<br>            flex-direction: row;<br>            flex-wrap: wrap;<br>            justify-content: flex-start;<br>            width: 100%;<br>        }<br>        .wandb-col {<br>            display: flex;<br>            flex-direction: column;<br>            flex-basis: 100%;<br>            flex: 1;<br>            padding: 10px;<br>        }<br>    </style><br><div class=\"wandb-row\"><div class=\"wandb-col\"><h3>Run history:</h3><br/><table class=\"wandb\"><tr><td>batch</td><td>▁▁▁▂▂▃▃▄▄▄▆▇███▂▂▂▂▃▃▄▄▄▅▆▇█▁▂▂▂▃▄▄▅▅▆▆█</td></tr><tr><td>epoch</td><td>▁▁▁▁▁▁▁▁▁▁▁▁▁▁▁▅▅▅▅▅▅▅▅▅▅▅██████████████</td></tr><tr><td>epoch_train_loss</td><td>█▃▁</td></tr><tr><td>epoch_val_loss</td><td>█▆▁</td></tr><tr><td>train_loss</td><td>▄▆▇▆▆▆▆▄▇▄▇▅▆▅▅▅▆▄▆▇▅▅▂▄▅▆▅▄▅▃▆▅▄█▄▃▁█▃▁</td></tr><tr><td>val_accuracy</td><td>▂▂▁▁██</td></tr><tr><td>val_loss</td><td>█▆▁</td></tr></table><br/></div><div class=\"wandb-col\"><h3>Run summary:</h3><br/><table class=\"wandb\"><tr><td>batch</td><td>124</td></tr><tr><td>epoch</td><td>3</td></tr><tr><td>epoch_train_loss</td><td>0.67031</td></tr><tr><td>epoch_val_loss</td><td>0.6664</td></tr><tr><td>train_loss</td><td>0.65954</td></tr><tr><td>val_accuracy</td><td>59.95</td></tr><tr><td>val_loss</td><td>0.6664</td></tr></table><br/></div></div>"
      ],
      "text/plain": [
       "<IPython.core.display.HTML object>"
      ]
     },
     "metadata": {},
     "output_type": "display_data"
    },
    {
     "data": {
      "text/html": [
       " View run <strong style=\"color:#cdcd00\">ethereal-sweep-18</strong> at: <a href='https://wandb.ai/nilesh2797/hands_on_ml_demo/runs/43u8ob9f' target=\"_blank\">https://wandb.ai/nilesh2797/hands_on_ml_demo/runs/43u8ob9f</a><br> View project at: <a href='https://wandb.ai/nilesh2797/hands_on_ml_demo' target=\"_blank\">https://wandb.ai/nilesh2797/hands_on_ml_demo</a><br>Synced 5 W&B file(s), 192 media file(s), 0 artifact file(s) and 0 other file(s)"
      ],
      "text/plain": [
       "<IPython.core.display.HTML object>"
      ]
     },
     "metadata": {},
     "output_type": "display_data"
    },
    {
     "data": {
      "text/html": [
       "Find logs at: <code>./wandb/run-20250226_134401-43u8ob9f/logs</code>"
      ],
      "text/plain": [
       "<IPython.core.display.HTML object>"
      ]
     },
     "metadata": {},
     "output_type": "display_data"
    },
    {
     "name": "stderr",
     "output_type": "stream",
     "text": [
      "\u001b[34m\u001b[1mwandb\u001b[0m: Sweep Agent: Waiting for job.\n",
      "\u001b[34m\u001b[1mwandb\u001b[0m: Job received.\n",
      "\u001b[34m\u001b[1mwandb\u001b[0m: Agent Starting Run: 5b3dgkfh with config:\n",
      "\u001b[34m\u001b[1mwandb\u001b[0m: \tbatch_size: 128\n",
      "\u001b[34m\u001b[1mwandb\u001b[0m: \tepochs: 3\n",
      "\u001b[34m\u001b[1mwandb\u001b[0m: \thidden_size: 64\n",
      "\u001b[34m\u001b[1mwandb\u001b[0m: \tlearning_rate: 0.001\n"
     ]
    },
    {
     "data": {
      "text/html": [
       "Tracking run with wandb version 0.19.7"
      ],
      "text/plain": [
       "<IPython.core.display.HTML object>"
      ]
     },
     "metadata": {},
     "output_type": "display_data"
    },
    {
     "data": {
      "text/html": [
       "Run data is saved locally in <code>/Users/nileshgupta/Downloads/work/Spring25/CS391L/HandsOnML/wandb/run-20250226_134416-5b3dgkfh</code>"
      ],
      "text/plain": [
       "<IPython.core.display.HTML object>"
      ]
     },
     "metadata": {},
     "output_type": "display_data"
    },
    {
     "data": {
      "text/html": [
       "Syncing run <strong><a href='https://wandb.ai/nilesh2797/hands_on_ml_demo/runs/5b3dgkfh' target=\"_blank\">autumn-sweep-19</a></strong> to <a href='https://wandb.ai/nilesh2797/hands_on_ml_demo' target=\"_blank\">Weights & Biases</a> (<a href='https://wandb.me/developer-guide' target=\"_blank\">docs</a>)<br>Sweep page: <a href='https://wandb.ai/nilesh2797/hands_on_ml_demo/sweeps/1sn1nvxk' target=\"_blank\">https://wandb.ai/nilesh2797/hands_on_ml_demo/sweeps/1sn1nvxk</a>"
      ],
      "text/plain": [
       "<IPython.core.display.HTML object>"
      ]
     },
     "metadata": {},
     "output_type": "display_data"
    },
    {
     "data": {
      "text/html": [
       " View project at <a href='https://wandb.ai/nilesh2797/hands_on_ml_demo' target=\"_blank\">https://wandb.ai/nilesh2797/hands_on_ml_demo</a>"
      ],
      "text/plain": [
       "<IPython.core.display.HTML object>"
      ]
     },
     "metadata": {},
     "output_type": "display_data"
    },
    {
     "data": {
      "text/html": [
       " View sweep at <a href='https://wandb.ai/nilesh2797/hands_on_ml_demo/sweeps/1sn1nvxk' target=\"_blank\">https://wandb.ai/nilesh2797/hands_on_ml_demo/sweeps/1sn1nvxk</a>"
      ],
      "text/plain": [
       "<IPython.core.display.HTML object>"
      ]
     },
     "metadata": {},
     "output_type": "display_data"
    },
    {
     "data": {
      "text/html": [
       " View run at <a href='https://wandb.ai/nilesh2797/hands_on_ml_demo/runs/5b3dgkfh' target=\"_blank\">https://wandb.ai/nilesh2797/hands_on_ml_demo/runs/5b3dgkfh</a>"
      ],
      "text/plain": [
       "<IPython.core.display.HTML object>"
      ]
     },
     "metadata": {},
     "output_type": "display_data"
    },
    {
     "name": "stderr",
     "output_type": "stream",
     "text": [
      "Epoch 1: 100%|██████████| 63/63 [00:00<00:00, 103.76it/s, mean loss=0.781]\n",
      "WARNING:root:Only 108 Image will be uploaded.\n"
     ]
    },
    {
     "name": "stdout",
     "output_type": "stream",
     "text": [
      "Average training loss for epoch 1: 0.780697\n",
      "\n",
      "Val set: Average loss: 0.7490, Accuracy: 50.85%\n",
      "\n"
     ]
    },
    {
     "name": "stderr",
     "output_type": "stream",
     "text": [
      "Epoch 2: 100%|██████████| 63/63 [00:00<00:00, 128.28it/s, mean loss=0.74] \n",
      "WARNING:root:Only 108 Image will be uploaded.\n"
     ]
    },
    {
     "name": "stdout",
     "output_type": "stream",
     "text": [
      "Average training loss for epoch 2: 0.740295\n",
      "\n",
      "Val set: Average loss: 0.7209, Accuracy: 50.85%\n",
      "\n"
     ]
    },
    {
     "name": "stderr",
     "output_type": "stream",
     "text": [
      "Epoch 3: 100%|██████████| 63/63 [00:00<00:00, 92.86it/s, mean loss=0.717] \n",
      "WARNING:root:Only 108 Image will be uploaded.\n"
     ]
    },
    {
     "name": "stdout",
     "output_type": "stream",
     "text": [
      "Average training loss for epoch 3: 0.717317\n",
      "\n",
      "Val set: Average loss: 0.7052, Accuracy: 50.95%\n",
      "\n"
     ]
    },
    {
     "data": {
      "text/html": [],
      "text/plain": [
       "<IPython.core.display.HTML object>"
      ]
     },
     "metadata": {},
     "output_type": "display_data"
    },
    {
     "data": {
      "text/html": [
       "<br>    <style><br>        .wandb-row {<br>            display: flex;<br>            flex-direction: row;<br>            flex-wrap: wrap;<br>            justify-content: flex-start;<br>            width: 100%;<br>        }<br>        .wandb-col {<br>            display: flex;<br>            flex-direction: column;<br>            flex-basis: 100%;<br>            flex: 1;<br>            padding: 10px;<br>        }<br>    </style><br><div class=\"wandb-row\"><div class=\"wandb-col\"><h3>Run history:</h3><br/><table class=\"wandb\"><tr><td>batch</td><td>▁▁▂▂▂▃▄▄▆▇▇▁▁▂▂▂▂▃▃▃▃▄▄▄▄▅▆▆▆▇▂▃▃▃▄▅▅▇▇█</td></tr><tr><td>epoch</td><td>▁▁▁▁▁▁▁▁▁▁▁▅▅▅▅▅▅▅▅▅▅▅▅▅▅▅▅▅▅███████████</td></tr><tr><td>epoch_train_loss</td><td>█▄▁</td></tr><tr><td>epoch_val_loss</td><td>█▄▁</td></tr><tr><td>train_loss</td><td>▅█▇▇▄▆▃█▄▇▅▁▄▃▅▄▃▅▆▂▃▄▅▃▄▂▄▃▂▂▂▃▁▃▃▂▂▂▂▃</td></tr><tr><td>val_accuracy</td><td>▁▁▁▁██</td></tr><tr><td>val_loss</td><td>█▄▁</td></tr></table><br/></div><div class=\"wandb-col\"><h3>Run summary:</h3><br/><table class=\"wandb\"><tr><td>batch</td><td>62</td></tr><tr><td>epoch</td><td>3</td></tr><tr><td>epoch_train_loss</td><td>0.71732</td></tr><tr><td>epoch_val_loss</td><td>0.70518</td></tr><tr><td>train_loss</td><td>0.7403</td></tr><tr><td>val_accuracy</td><td>50.95</td></tr><tr><td>val_loss</td><td>0.70518</td></tr></table><br/></div></div>"
      ],
      "text/plain": [
       "<IPython.core.display.HTML object>"
      ]
     },
     "metadata": {},
     "output_type": "display_data"
    },
    {
     "data": {
      "text/html": [
       " View run <strong style=\"color:#cdcd00\">autumn-sweep-19</strong> at: <a href='https://wandb.ai/nilesh2797/hands_on_ml_demo/runs/5b3dgkfh' target=\"_blank\">https://wandb.ai/nilesh2797/hands_on_ml_demo/runs/5b3dgkfh</a><br> View project at: <a href='https://wandb.ai/nilesh2797/hands_on_ml_demo' target=\"_blank\">https://wandb.ai/nilesh2797/hands_on_ml_demo</a><br>Synced 5 W&B file(s), 324 media file(s), 0 artifact file(s) and 0 other file(s)"
      ],
      "text/plain": [
       "<IPython.core.display.HTML object>"
      ]
     },
     "metadata": {},
     "output_type": "display_data"
    },
    {
     "data": {
      "text/html": [
       "Find logs at: <code>./wandb/run-20250226_134416-5b3dgkfh/logs</code>"
      ],
      "text/plain": [
       "<IPython.core.display.HTML object>"
      ]
     },
     "metadata": {},
     "output_type": "display_data"
    },
    {
     "name": "stderr",
     "output_type": "stream",
     "text": [
      "\u001b[34m\u001b[1mwandb\u001b[0m: Agent Starting Run: rojkcdam with config:\n",
      "\u001b[34m\u001b[1mwandb\u001b[0m: \tbatch_size: 128\n",
      "\u001b[34m\u001b[1mwandb\u001b[0m: \tepochs: 3\n",
      "\u001b[34m\u001b[1mwandb\u001b[0m: \thidden_size: 64\n",
      "\u001b[34m\u001b[1mwandb\u001b[0m: \tlearning_rate: 0.0001\n"
     ]
    },
    {
     "data": {
      "text/html": [
       "Tracking run with wandb version 0.19.7"
      ],
      "text/plain": [
       "<IPython.core.display.HTML object>"
      ]
     },
     "metadata": {},
     "output_type": "display_data"
    },
    {
     "data": {
      "text/html": [
       "Run data is saved locally in <code>/Users/nileshgupta/Downloads/work/Spring25/CS391L/HandsOnML/wandb/run-20250226_134421-rojkcdam</code>"
      ],
      "text/plain": [
       "<IPython.core.display.HTML object>"
      ]
     },
     "metadata": {},
     "output_type": "display_data"
    },
    {
     "data": {
      "text/html": [
       "Syncing run <strong><a href='https://wandb.ai/nilesh2797/hands_on_ml_demo/runs/rojkcdam' target=\"_blank\">clean-sweep-20</a></strong> to <a href='https://wandb.ai/nilesh2797/hands_on_ml_demo' target=\"_blank\">Weights & Biases</a> (<a href='https://wandb.me/developer-guide' target=\"_blank\">docs</a>)<br>Sweep page: <a href='https://wandb.ai/nilesh2797/hands_on_ml_demo/sweeps/1sn1nvxk' target=\"_blank\">https://wandb.ai/nilesh2797/hands_on_ml_demo/sweeps/1sn1nvxk</a>"
      ],
      "text/plain": [
       "<IPython.core.display.HTML object>"
      ]
     },
     "metadata": {},
     "output_type": "display_data"
    },
    {
     "data": {
      "text/html": [
       " View project at <a href='https://wandb.ai/nilesh2797/hands_on_ml_demo' target=\"_blank\">https://wandb.ai/nilesh2797/hands_on_ml_demo</a>"
      ],
      "text/plain": [
       "<IPython.core.display.HTML object>"
      ]
     },
     "metadata": {},
     "output_type": "display_data"
    },
    {
     "data": {
      "text/html": [
       " View sweep at <a href='https://wandb.ai/nilesh2797/hands_on_ml_demo/sweeps/1sn1nvxk' target=\"_blank\">https://wandb.ai/nilesh2797/hands_on_ml_demo/sweeps/1sn1nvxk</a>"
      ],
      "text/plain": [
       "<IPython.core.display.HTML object>"
      ]
     },
     "metadata": {},
     "output_type": "display_data"
    },
    {
     "data": {
      "text/html": [
       " View run at <a href='https://wandb.ai/nilesh2797/hands_on_ml_demo/runs/rojkcdam' target=\"_blank\">https://wandb.ai/nilesh2797/hands_on_ml_demo/runs/rojkcdam</a>"
      ],
      "text/plain": [
       "<IPython.core.display.HTML object>"
      ]
     },
     "metadata": {},
     "output_type": "display_data"
    },
    {
     "name": "stderr",
     "output_type": "stream",
     "text": [
      "Epoch 1: 100%|██████████| 63/63 [00:00<00:00, 91.44it/s, mean loss=0.711] \n",
      "WARNING:root:Only 108 Image will be uploaded.\n"
     ]
    },
    {
     "name": "stdout",
     "output_type": "stream",
     "text": [
      "Average training loss for epoch 1: 0.710936\n",
      "\n",
      "Val set: Average loss: 0.7153, Accuracy: 49.25%\n",
      "\n"
     ]
    },
    {
     "name": "stderr",
     "output_type": "stream",
     "text": [
      "Epoch 2: 100%|██████████| 63/63 [00:00<00:00, 118.12it/s, mean loss=0.709]\n",
      "WARNING:root:Only 108 Image will be uploaded.\n"
     ]
    },
    {
     "name": "stdout",
     "output_type": "stream",
     "text": [
      "Average training loss for epoch 2: 0.709387\n",
      "\n",
      "Val set: Average loss: 0.7139, Accuracy: 49.30%\n",
      "\n"
     ]
    },
    {
     "name": "stderr",
     "output_type": "stream",
     "text": [
      "Epoch 3: 100%|██████████| 63/63 [00:00<00:00, 127.82it/s, mean loss=0.709]\n",
      "WARNING:root:Only 108 Image will be uploaded.\n"
     ]
    },
    {
     "name": "stdout",
     "output_type": "stream",
     "text": [
      "Average training loss for epoch 3: 0.708667\n",
      "\n",
      "Val set: Average loss: 0.7126, Accuracy: 49.35%\n",
      "\n"
     ]
    },
    {
     "data": {
      "text/html": [],
      "text/plain": [
       "<IPython.core.display.HTML object>"
      ]
     },
     "metadata": {},
     "output_type": "display_data"
    },
    {
     "data": {
      "text/html": [
       "<br>    <style><br>        .wandb-row {<br>            display: flex;<br>            flex-direction: row;<br>            flex-wrap: wrap;<br>            justify-content: flex-start;<br>            width: 100%;<br>        }<br>        .wandb-col {<br>            display: flex;<br>            flex-direction: column;<br>            flex-basis: 100%;<br>            flex: 1;<br>            padding: 10px;<br>        }<br>    </style><br><div class=\"wandb-row\"><div class=\"wandb-col\"><h3>Run history:</h3><br/><table class=\"wandb\"><tr><td>batch</td><td>▁▁▁▂▂▃▄▄▆▇█▁▁▁▂▂▂▃▃▄▄▅▆▆▇▇▂▂▂▂▃▃▃▃▄▆▆▆▇▇</td></tr><tr><td>epoch</td><td>▁▁▁▁▁▁▁▁▁▁▁▁▁▁▁▁▅▅▅▅▅▅▅▅▅▅▅▅▅▅▅▅████████</td></tr><tr><td>epoch_train_loss</td><td>█▃▁</td></tr><tr><td>epoch_val_loss</td><td>█▄▁</td></tr><tr><td>train_loss</td><td>▅▃▃▄▇▆▅▅▅▆▆▆▅▄▇▆▄▅▅▄▅█▅▃▅▂▃▃▅▅▂▅▃▆▅▁▄▄▃▇</td></tr><tr><td>val_accuracy</td><td>▁▁▅▅██</td></tr><tr><td>val_loss</td><td>█▄▁</td></tr></table><br/></div><div class=\"wandb-col\"><h3>Run summary:</h3><br/><table class=\"wandb\"><tr><td>batch</td><td>62</td></tr><tr><td>epoch</td><td>3</td></tr><tr><td>epoch_train_loss</td><td>0.70867</td></tr><tr><td>epoch_val_loss</td><td>0.71261</td></tr><tr><td>train_loss</td><td>0.74076</td></tr><tr><td>val_accuracy</td><td>49.35</td></tr><tr><td>val_loss</td><td>0.71261</td></tr></table><br/></div></div>"
      ],
      "text/plain": [
       "<IPython.core.display.HTML object>"
      ]
     },
     "metadata": {},
     "output_type": "display_data"
    },
    {
     "data": {
      "text/html": [
       " View run <strong style=\"color:#cdcd00\">clean-sweep-20</strong> at: <a href='https://wandb.ai/nilesh2797/hands_on_ml_demo/runs/rojkcdam' target=\"_blank\">https://wandb.ai/nilesh2797/hands_on_ml_demo/runs/rojkcdam</a><br> View project at: <a href='https://wandb.ai/nilesh2797/hands_on_ml_demo' target=\"_blank\">https://wandb.ai/nilesh2797/hands_on_ml_demo</a><br>Synced 5 W&B file(s), 324 media file(s), 0 artifact file(s) and 0 other file(s)"
      ],
      "text/plain": [
       "<IPython.core.display.HTML object>"
      ]
     },
     "metadata": {},
     "output_type": "display_data"
    },
    {
     "data": {
      "text/html": [
       "Find logs at: <code>./wandb/run-20250226_134421-rojkcdam/logs</code>"
      ],
      "text/plain": [
       "<IPython.core.display.HTML object>"
      ]
     },
     "metadata": {},
     "output_type": "display_data"
    },
    {
     "name": "stderr",
     "output_type": "stream",
     "text": [
      "\u001b[34m\u001b[1mwandb\u001b[0m: Agent Starting Run: 7ojbpeoh with config:\n",
      "\u001b[34m\u001b[1mwandb\u001b[0m: \tbatch_size: 128\n",
      "\u001b[34m\u001b[1mwandb\u001b[0m: \tepochs: 3\n",
      "\u001b[34m\u001b[1mwandb\u001b[0m: \thidden_size: 64\n",
      "\u001b[34m\u001b[1mwandb\u001b[0m: \tlearning_rate: 0.01\n"
     ]
    },
    {
     "data": {
      "text/html": [
       "Tracking run with wandb version 0.19.7"
      ],
      "text/plain": [
       "<IPython.core.display.HTML object>"
      ]
     },
     "metadata": {},
     "output_type": "display_data"
    },
    {
     "data": {
      "text/html": [
       "Run data is saved locally in <code>/Users/nileshgupta/Downloads/work/Spring25/CS391L/HandsOnML/wandb/run-20250226_134427-7ojbpeoh</code>"
      ],
      "text/plain": [
       "<IPython.core.display.HTML object>"
      ]
     },
     "metadata": {},
     "output_type": "display_data"
    },
    {
     "data": {
      "text/html": [
       "Syncing run <strong><a href='https://wandb.ai/nilesh2797/hands_on_ml_demo/runs/7ojbpeoh' target=\"_blank\">smooth-sweep-21</a></strong> to <a href='https://wandb.ai/nilesh2797/hands_on_ml_demo' target=\"_blank\">Weights & Biases</a> (<a href='https://wandb.me/developer-guide' target=\"_blank\">docs</a>)<br>Sweep page: <a href='https://wandb.ai/nilesh2797/hands_on_ml_demo/sweeps/1sn1nvxk' target=\"_blank\">https://wandb.ai/nilesh2797/hands_on_ml_demo/sweeps/1sn1nvxk</a>"
      ],
      "text/plain": [
       "<IPython.core.display.HTML object>"
      ]
     },
     "metadata": {},
     "output_type": "display_data"
    },
    {
     "data": {
      "text/html": [
       " View project at <a href='https://wandb.ai/nilesh2797/hands_on_ml_demo' target=\"_blank\">https://wandb.ai/nilesh2797/hands_on_ml_demo</a>"
      ],
      "text/plain": [
       "<IPython.core.display.HTML object>"
      ]
     },
     "metadata": {},
     "output_type": "display_data"
    },
    {
     "data": {
      "text/html": [
       " View sweep at <a href='https://wandb.ai/nilesh2797/hands_on_ml_demo/sweeps/1sn1nvxk' target=\"_blank\">https://wandb.ai/nilesh2797/hands_on_ml_demo/sweeps/1sn1nvxk</a>"
      ],
      "text/plain": [
       "<IPython.core.display.HTML object>"
      ]
     },
     "metadata": {},
     "output_type": "display_data"
    },
    {
     "data": {
      "text/html": [
       " View run at <a href='https://wandb.ai/nilesh2797/hands_on_ml_demo/runs/7ojbpeoh' target=\"_blank\">https://wandb.ai/nilesh2797/hands_on_ml_demo/runs/7ojbpeoh</a>"
      ],
      "text/plain": [
       "<IPython.core.display.HTML object>"
      ]
     },
     "metadata": {},
     "output_type": "display_data"
    },
    {
     "name": "stderr",
     "output_type": "stream",
     "text": [
      "Epoch 1: 100%|██████████| 63/63 [00:00<00:00, 91.10it/s, mean loss=0.687] \n",
      "WARNING:root:Only 108 Image will be uploaded.\n"
     ]
    },
    {
     "name": "stdout",
     "output_type": "stream",
     "text": [
      "Average training loss for epoch 1: 0.686800\n",
      "\n",
      "Val set: Average loss: 0.6829, Accuracy: 57.05%\n",
      "\n"
     ]
    },
    {
     "name": "stderr",
     "output_type": "stream",
     "text": [
      "Epoch 2: 100%|██████████| 63/63 [00:00<00:00, 115.70it/s, mean loss=0.679]\n"
     ]
    },
    {
     "name": "stdout",
     "output_type": "stream",
     "text": [
      "Average training loss for epoch 2: 0.679163\n",
      "\n",
      "Val set: Average loss: 0.6779, Accuracy: 58.45%\n",
      "\n"
     ]
    },
    {
     "name": "stderr",
     "output_type": "stream",
     "text": [
      "WARNING:root:Only 108 Image will be uploaded.\n",
      "Epoch 3: 100%|██████████| 63/63 [00:00<00:00, 125.05it/s, mean loss=0.675]\n",
      "WARNING:root:Only 108 Image will be uploaded.\n"
     ]
    },
    {
     "name": "stdout",
     "output_type": "stream",
     "text": [
      "Average training loss for epoch 3: 0.674996\n",
      "\n",
      "Val set: Average loss: 0.6745, Accuracy: 59.50%\n",
      "\n"
     ]
    },
    {
     "data": {
      "text/html": [],
      "text/plain": [
       "<IPython.core.display.HTML object>"
      ]
     },
     "metadata": {},
     "output_type": "display_data"
    },
    {
     "data": {
      "text/html": [
       "<br>    <style><br>        .wandb-row {<br>            display: flex;<br>            flex-direction: row;<br>            flex-wrap: wrap;<br>            justify-content: flex-start;<br>            width: 100%;<br>        }<br>        .wandb-col {<br>            display: flex;<br>            flex-direction: column;<br>            flex-basis: 100%;<br>            flex: 1;<br>            padding: 10px;<br>        }<br>    </style><br><div class=\"wandb-row\"><div class=\"wandb-col\"><h3>Run history:</h3><br/><table class=\"wandb\"><tr><td>batch</td><td>▁▂▂▃▃▃▃▃▃▅▅▅▅▆▆▆▇▇█▁▃▃▃▃▄▆▆▇▇▁▂▂▄▄▄▆▆▇▇█</td></tr><tr><td>epoch</td><td>▁▁▁▁▁▁▁▁▁▁▁▁▁▁▅▅▅▅▅▅▅▅▅▅▅▅▅▅▅▅██████████</td></tr><tr><td>epoch_train_loss</td><td>█▃▁</td></tr><tr><td>epoch_val_loss</td><td>█▄▁</td></tr><tr><td>train_loss</td><td>▅▅▆▆█▆▆▄▅▅▄▃▇▄▄▆▂▅▆▄▆▃▄▇█▄▄▄▄█▆▅▂▆▆▃▅▁▅▅</td></tr><tr><td>val_accuracy</td><td>▁▁▅▅██</td></tr><tr><td>val_loss</td><td>█▄▁</td></tr></table><br/></div><div class=\"wandb-col\"><h3>Run summary:</h3><br/><table class=\"wandb\"><tr><td>batch</td><td>62</td></tr><tr><td>epoch</td><td>3</td></tr><tr><td>epoch_train_loss</td><td>0.675</td></tr><tr><td>epoch_val_loss</td><td>0.67446</td></tr><tr><td>train_loss</td><td>0.66199</td></tr><tr><td>val_accuracy</td><td>59.5</td></tr><tr><td>val_loss</td><td>0.67446</td></tr></table><br/></div></div>"
      ],
      "text/plain": [
       "<IPython.core.display.HTML object>"
      ]
     },
     "metadata": {},
     "output_type": "display_data"
    },
    {
     "data": {
      "text/html": [
       " View run <strong style=\"color:#cdcd00\">smooth-sweep-21</strong> at: <a href='https://wandb.ai/nilesh2797/hands_on_ml_demo/runs/7ojbpeoh' target=\"_blank\">https://wandb.ai/nilesh2797/hands_on_ml_demo/runs/7ojbpeoh</a><br> View project at: <a href='https://wandb.ai/nilesh2797/hands_on_ml_demo' target=\"_blank\">https://wandb.ai/nilesh2797/hands_on_ml_demo</a><br>Synced 5 W&B file(s), 324 media file(s), 0 artifact file(s) and 0 other file(s)"
      ],
      "text/plain": [
       "<IPython.core.display.HTML object>"
      ]
     },
     "metadata": {},
     "output_type": "display_data"
    },
    {
     "data": {
      "text/html": [
       "Find logs at: <code>./wandb/run-20250226_134427-7ojbpeoh/logs</code>"
      ],
      "text/plain": [
       "<IPython.core.display.HTML object>"
      ]
     },
     "metadata": {},
     "output_type": "display_data"
    },
    {
     "name": "stderr",
     "output_type": "stream",
     "text": [
      "\u001b[34m\u001b[1mwandb\u001b[0m: Sweep Agent: Waiting for job.\n",
      "\u001b[34m\u001b[1mwandb\u001b[0m: Job received.\n",
      "\u001b[34m\u001b[1mwandb\u001b[0m: Agent Starting Run: 2witricv with config:\n",
      "\u001b[34m\u001b[1mwandb\u001b[0m: \tbatch_size: 128\n",
      "\u001b[34m\u001b[1mwandb\u001b[0m: \tepochs: 3\n",
      "\u001b[34m\u001b[1mwandb\u001b[0m: \thidden_size: 128\n",
      "\u001b[34m\u001b[1mwandb\u001b[0m: \tlearning_rate: 0.001\n"
     ]
    },
    {
     "data": {
      "text/html": [
       "Tracking run with wandb version 0.19.7"
      ],
      "text/plain": [
       "<IPython.core.display.HTML object>"
      ]
     },
     "metadata": {},
     "output_type": "display_data"
    },
    {
     "data": {
      "text/html": [
       "Run data is saved locally in <code>/Users/nileshgupta/Downloads/work/Spring25/CS391L/HandsOnML/wandb/run-20250226_134442-2witricv</code>"
      ],
      "text/plain": [
       "<IPython.core.display.HTML object>"
      ]
     },
     "metadata": {},
     "output_type": "display_data"
    },
    {
     "data": {
      "text/html": [
       "Syncing run <strong><a href='https://wandb.ai/nilesh2797/hands_on_ml_demo/runs/2witricv' target=\"_blank\">lively-sweep-22</a></strong> to <a href='https://wandb.ai/nilesh2797/hands_on_ml_demo' target=\"_blank\">Weights & Biases</a> (<a href='https://wandb.me/developer-guide' target=\"_blank\">docs</a>)<br>Sweep page: <a href='https://wandb.ai/nilesh2797/hands_on_ml_demo/sweeps/1sn1nvxk' target=\"_blank\">https://wandb.ai/nilesh2797/hands_on_ml_demo/sweeps/1sn1nvxk</a>"
      ],
      "text/plain": [
       "<IPython.core.display.HTML object>"
      ]
     },
     "metadata": {},
     "output_type": "display_data"
    },
    {
     "data": {
      "text/html": [
       " View project at <a href='https://wandb.ai/nilesh2797/hands_on_ml_demo' target=\"_blank\">https://wandb.ai/nilesh2797/hands_on_ml_demo</a>"
      ],
      "text/plain": [
       "<IPython.core.display.HTML object>"
      ]
     },
     "metadata": {},
     "output_type": "display_data"
    },
    {
     "data": {
      "text/html": [
       " View sweep at <a href='https://wandb.ai/nilesh2797/hands_on_ml_demo/sweeps/1sn1nvxk' target=\"_blank\">https://wandb.ai/nilesh2797/hands_on_ml_demo/sweeps/1sn1nvxk</a>"
      ],
      "text/plain": [
       "<IPython.core.display.HTML object>"
      ]
     },
     "metadata": {},
     "output_type": "display_data"
    },
    {
     "data": {
      "text/html": [
       " View run at <a href='https://wandb.ai/nilesh2797/hands_on_ml_demo/runs/2witricv' target=\"_blank\">https://wandb.ai/nilesh2797/hands_on_ml_demo/runs/2witricv</a>"
      ],
      "text/plain": [
       "<IPython.core.display.HTML object>"
      ]
     },
     "metadata": {},
     "output_type": "display_data"
    },
    {
     "name": "stderr",
     "output_type": "stream",
     "text": [
      "Epoch 1: 100%|██████████| 63/63 [00:00<00:00, 64.98it/s, mean loss=0.692] \n",
      "WARNING:root:Only 108 Image will be uploaded.\n"
     ]
    },
    {
     "name": "stdout",
     "output_type": "stream",
     "text": [
      "Average training loss for epoch 1: 0.692417\n",
      "\n",
      "Val set: Average loss: 0.6930, Accuracy: 51.35%\n",
      "\n"
     ]
    },
    {
     "name": "stderr",
     "output_type": "stream",
     "text": [
      "Epoch 2: 100%|██████████| 63/63 [00:00<00:00, 97.58it/s, mean loss=0.691] \n",
      "WARNING:root:Only 108 Image will be uploaded.\n"
     ]
    },
    {
     "name": "stdout",
     "output_type": "stream",
     "text": [
      "Average training loss for epoch 2: 0.690614\n",
      "\n",
      "Val set: Average loss: 0.6912, Accuracy: 52.65%\n",
      "\n"
     ]
    },
    {
     "name": "stderr",
     "output_type": "stream",
     "text": [
      "Epoch 3: 100%|██████████| 63/63 [00:00<00:00, 107.85it/s, mean loss=0.689]\n"
     ]
    },
    {
     "name": "stdout",
     "output_type": "stream",
     "text": [
      "Average training loss for epoch 3: 0.689081\n",
      "\n",
      "Val set: Average loss: 0.6897, Accuracy: 52.85%\n",
      "\n"
     ]
    },
    {
     "name": "stderr",
     "output_type": "stream",
     "text": [
      "WARNING:root:Only 108 Image will be uploaded.\n"
     ]
    },
    {
     "data": {
      "text/html": [],
      "text/plain": [
       "<IPython.core.display.HTML object>"
      ]
     },
     "metadata": {},
     "output_type": "display_data"
    },
    {
     "data": {
      "text/html": [
       "<br>    <style><br>        .wandb-row {<br>            display: flex;<br>            flex-direction: row;<br>            flex-wrap: wrap;<br>            justify-content: flex-start;<br>            width: 100%;<br>        }<br>        .wandb-col {<br>            display: flex;<br>            flex-direction: column;<br>            flex-basis: 100%;<br>            flex: 1;<br>            padding: 10px;<br>        }<br>    </style><br><div class=\"wandb-row\"><div class=\"wandb-col\"><h3>Run history:</h3><br/><table class=\"wandb\"><tr><td>batch</td><td>▁▂▂▃▄▄▅▅▆▆▇▇▇██▂▃▃▃▄▅▅▆▆▇▁▁▂▃▃▅▅▅▆▆▇▇▇██</td></tr><tr><td>epoch</td><td>▁▁▁▁▁▁▁▁▁▁▁▁▁▁▁▁▅▅▅▅▅▅▅▅▅▅▅█████████████</td></tr><tr><td>epoch_train_loss</td><td>█▄▁</td></tr><tr><td>epoch_val_loss</td><td>█▄▁</td></tr><tr><td>train_loss</td><td>▃▆▆▆▄▄█▃▅▄▂▅▅▆▃▄▆▅█▃▄▅▂▆▃▄▃▃▃▆▇▅▃▁▄▃▄▇▂▃</td></tr><tr><td>val_accuracy</td><td>▁▁▇▇██</td></tr><tr><td>val_loss</td><td>█▄▁</td></tr></table><br/></div><div class=\"wandb-col\"><h3>Run summary:</h3><br/><table class=\"wandb\"><tr><td>batch</td><td>62</td></tr><tr><td>epoch</td><td>3</td></tr><tr><td>epoch_train_loss</td><td>0.68908</td></tr><tr><td>epoch_val_loss</td><td>0.68966</td></tr><tr><td>train_loss</td><td>0.69171</td></tr><tr><td>val_accuracy</td><td>52.85</td></tr><tr><td>val_loss</td><td>0.68966</td></tr></table><br/></div></div>"
      ],
      "text/plain": [
       "<IPython.core.display.HTML object>"
      ]
     },
     "metadata": {},
     "output_type": "display_data"
    },
    {
     "data": {
      "text/html": [
       " View run <strong style=\"color:#cdcd00\">lively-sweep-22</strong> at: <a href='https://wandb.ai/nilesh2797/hands_on_ml_demo/runs/2witricv' target=\"_blank\">https://wandb.ai/nilesh2797/hands_on_ml_demo/runs/2witricv</a><br> View project at: <a href='https://wandb.ai/nilesh2797/hands_on_ml_demo' target=\"_blank\">https://wandb.ai/nilesh2797/hands_on_ml_demo</a><br>Synced 5 W&B file(s), 324 media file(s), 0 artifact file(s) and 0 other file(s)"
      ],
      "text/plain": [
       "<IPython.core.display.HTML object>"
      ]
     },
     "metadata": {},
     "output_type": "display_data"
    },
    {
     "data": {
      "text/html": [
       "Find logs at: <code>./wandb/run-20250226_134442-2witricv/logs</code>"
      ],
      "text/plain": [
       "<IPython.core.display.HTML object>"
      ]
     },
     "metadata": {},
     "output_type": "display_data"
    },
    {
     "name": "stderr",
     "output_type": "stream",
     "text": [
      "\u001b[34m\u001b[1mwandb\u001b[0m: Sweep Agent: Waiting for job.\n",
      "\u001b[34m\u001b[1mwandb\u001b[0m: Job received.\n",
      "\u001b[34m\u001b[1mwandb\u001b[0m: Agent Starting Run: 9gell266 with config:\n",
      "\u001b[34m\u001b[1mwandb\u001b[0m: \tbatch_size: 128\n",
      "\u001b[34m\u001b[1mwandb\u001b[0m: \tepochs: 3\n",
      "\u001b[34m\u001b[1mwandb\u001b[0m: \thidden_size: 128\n",
      "\u001b[34m\u001b[1mwandb\u001b[0m: \tlearning_rate: 0.0001\n"
     ]
    },
    {
     "data": {
      "text/html": [
       "Tracking run with wandb version 0.19.7"
      ],
      "text/plain": [
       "<IPython.core.display.HTML object>"
      ]
     },
     "metadata": {},
     "output_type": "display_data"
    },
    {
     "data": {
      "text/html": [
       "Run data is saved locally in <code>/Users/nileshgupta/Downloads/work/Spring25/CS391L/HandsOnML/wandb/run-20250226_134457-9gell266</code>"
      ],
      "text/plain": [
       "<IPython.core.display.HTML object>"
      ]
     },
     "metadata": {},
     "output_type": "display_data"
    },
    {
     "data": {
      "text/html": [
       "Syncing run <strong><a href='https://wandb.ai/nilesh2797/hands_on_ml_demo/runs/9gell266' target=\"_blank\">denim-sweep-23</a></strong> to <a href='https://wandb.ai/nilesh2797/hands_on_ml_demo' target=\"_blank\">Weights & Biases</a> (<a href='https://wandb.me/developer-guide' target=\"_blank\">docs</a>)<br>Sweep page: <a href='https://wandb.ai/nilesh2797/hands_on_ml_demo/sweeps/1sn1nvxk' target=\"_blank\">https://wandb.ai/nilesh2797/hands_on_ml_demo/sweeps/1sn1nvxk</a>"
      ],
      "text/plain": [
       "<IPython.core.display.HTML object>"
      ]
     },
     "metadata": {},
     "output_type": "display_data"
    },
    {
     "data": {
      "text/html": [
       " View project at <a href='https://wandb.ai/nilesh2797/hands_on_ml_demo' target=\"_blank\">https://wandb.ai/nilesh2797/hands_on_ml_demo</a>"
      ],
      "text/plain": [
       "<IPython.core.display.HTML object>"
      ]
     },
     "metadata": {},
     "output_type": "display_data"
    },
    {
     "data": {
      "text/html": [
       " View sweep at <a href='https://wandb.ai/nilesh2797/hands_on_ml_demo/sweeps/1sn1nvxk' target=\"_blank\">https://wandb.ai/nilesh2797/hands_on_ml_demo/sweeps/1sn1nvxk</a>"
      ],
      "text/plain": [
       "<IPython.core.display.HTML object>"
      ]
     },
     "metadata": {},
     "output_type": "display_data"
    },
    {
     "data": {
      "text/html": [
       " View run at <a href='https://wandb.ai/nilesh2797/hands_on_ml_demo/runs/9gell266' target=\"_blank\">https://wandb.ai/nilesh2797/hands_on_ml_demo/runs/9gell266</a>"
      ],
      "text/plain": [
       "<IPython.core.display.HTML object>"
      ]
     },
     "metadata": {},
     "output_type": "display_data"
    },
    {
     "name": "stderr",
     "output_type": "stream",
     "text": [
      "Epoch 1: 100%|██████████| 63/63 [00:00<00:00, 115.67it/s, mean loss=0.739]\n",
      "WARNING:root:Only 108 Image will be uploaded.\n"
     ]
    },
    {
     "name": "stdout",
     "output_type": "stream",
     "text": [
      "Average training loss for epoch 1: 0.739491\n",
      "\n",
      "Val set: Average loss: 0.7273, Accuracy: 50.85%\n",
      "\n"
     ]
    },
    {
     "name": "stderr",
     "output_type": "stream",
     "text": [
      "Epoch 2: 100%|██████████| 63/63 [00:00<00:00, 113.91it/s, mean loss=0.734]\n"
     ]
    },
    {
     "name": "stdout",
     "output_type": "stream",
     "text": [
      "Average training loss for epoch 2: 0.733902\n",
      "\n",
      "Val set: Average loss: 0.7225, Accuracy: 50.85%\n",
      "\n"
     ]
    },
    {
     "name": "stderr",
     "output_type": "stream",
     "text": [
      "WARNING:root:Only 108 Image will be uploaded.\n",
      "Epoch 3: 100%|██████████| 63/63 [00:00<00:00, 120.72it/s, mean loss=0.729]\n",
      "WARNING:root:Only 108 Image will be uploaded.\n"
     ]
    },
    {
     "name": "stdout",
     "output_type": "stream",
     "text": [
      "Average training loss for epoch 3: 0.729304\n",
      "\n",
      "Val set: Average loss: 0.7181, Accuracy: 50.85%\n",
      "\n"
     ]
    },
    {
     "data": {
      "text/html": [],
      "text/plain": [
       "<IPython.core.display.HTML object>"
      ]
     },
     "metadata": {},
     "output_type": "display_data"
    },
    {
     "data": {
      "text/html": [
       "<br>    <style><br>        .wandb-row {<br>            display: flex;<br>            flex-direction: row;<br>            flex-wrap: wrap;<br>            justify-content: flex-start;<br>            width: 100%;<br>        }<br>        .wandb-col {<br>            display: flex;<br>            flex-direction: column;<br>            flex-basis: 100%;<br>            flex: 1;<br>            padding: 10px;<br>        }<br>    </style><br><div class=\"wandb-row\"><div class=\"wandb-col\"><h3>Run history:</h3><br/><table class=\"wandb\"><tr><td>batch</td><td>▁▂▂▃▃▄▄▄▅▅▅▆▇██▂▂▂▂▃▃▄▄▄▆▇▇██▁▂▂▂▂▃▄▄▄▅▇</td></tr><tr><td>epoch</td><td>▁▁▁▁▁▁▁▁▁▁▁▁▁▁▁▅▅▅▅▅▅▅▅▅▅▅▅█████████████</td></tr><tr><td>epoch_train_loss</td><td>█▄▁</td></tr><tr><td>epoch_val_loss</td><td>█▄▁</td></tr><tr><td>train_loss</td><td>▃▇▅█▅▂▁▃▂▃▅▃▅▅▆▆▆▅▅▅▃▁▆▅▄▃▄▄▆▃▂▅▇▃▆▃▅▆▅▆</td></tr><tr><td>val_accuracy</td><td>▁▁▁▁▁▁</td></tr><tr><td>val_loss</td><td>█▄▁</td></tr></table><br/></div><div class=\"wandb-col\"><h3>Run summary:</h3><br/><table class=\"wandb\"><tr><td>batch</td><td>62</td></tr><tr><td>epoch</td><td>3</td></tr><tr><td>epoch_train_loss</td><td>0.7293</td></tr><tr><td>epoch_val_loss</td><td>0.71809</td></tr><tr><td>train_loss</td><td>0.75928</td></tr><tr><td>val_accuracy</td><td>50.85</td></tr><tr><td>val_loss</td><td>0.71809</td></tr></table><br/></div></div>"
      ],
      "text/plain": [
       "<IPython.core.display.HTML object>"
      ]
     },
     "metadata": {},
     "output_type": "display_data"
    },
    {
     "data": {
      "text/html": [
       " View run <strong style=\"color:#cdcd00\">denim-sweep-23</strong> at: <a href='https://wandb.ai/nilesh2797/hands_on_ml_demo/runs/9gell266' target=\"_blank\">https://wandb.ai/nilesh2797/hands_on_ml_demo/runs/9gell266</a><br> View project at: <a href='https://wandb.ai/nilesh2797/hands_on_ml_demo' target=\"_blank\">https://wandb.ai/nilesh2797/hands_on_ml_demo</a><br>Synced 5 W&B file(s), 324 media file(s), 0 artifact file(s) and 0 other file(s)"
      ],
      "text/plain": [
       "<IPython.core.display.HTML object>"
      ]
     },
     "metadata": {},
     "output_type": "display_data"
    },
    {
     "data": {
      "text/html": [
       "Find logs at: <code>./wandb/run-20250226_134457-9gell266/logs</code>"
      ],
      "text/plain": [
       "<IPython.core.display.HTML object>"
      ]
     },
     "metadata": {},
     "output_type": "display_data"
    },
    {
     "name": "stderr",
     "output_type": "stream",
     "text": [
      "\u001b[34m\u001b[1mwandb\u001b[0m: Agent Starting Run: 2tdo4gzd with config:\n",
      "\u001b[34m\u001b[1mwandb\u001b[0m: \tbatch_size: 128\n",
      "\u001b[34m\u001b[1mwandb\u001b[0m: \tepochs: 3\n",
      "\u001b[34m\u001b[1mwandb\u001b[0m: \thidden_size: 128\n",
      "\u001b[34m\u001b[1mwandb\u001b[0m: \tlearning_rate: 0.01\n"
     ]
    },
    {
     "data": {
      "text/html": [
       "Tracking run with wandb version 0.19.7"
      ],
      "text/plain": [
       "<IPython.core.display.HTML object>"
      ]
     },
     "metadata": {},
     "output_type": "display_data"
    },
    {
     "data": {
      "text/html": [
       "Run data is saved locally in <code>/Users/nileshgupta/Downloads/work/Spring25/CS391L/HandsOnML/wandb/run-20250226_134503-2tdo4gzd</code>"
      ],
      "text/plain": [
       "<IPython.core.display.HTML object>"
      ]
     },
     "metadata": {},
     "output_type": "display_data"
    },
    {
     "data": {
      "text/html": [
       "Syncing run <strong><a href='https://wandb.ai/nilesh2797/hands_on_ml_demo/runs/2tdo4gzd' target=\"_blank\">light-sweep-24</a></strong> to <a href='https://wandb.ai/nilesh2797/hands_on_ml_demo' target=\"_blank\">Weights & Biases</a> (<a href='https://wandb.me/developer-guide' target=\"_blank\">docs</a>)<br>Sweep page: <a href='https://wandb.ai/nilesh2797/hands_on_ml_demo/sweeps/1sn1nvxk' target=\"_blank\">https://wandb.ai/nilesh2797/hands_on_ml_demo/sweeps/1sn1nvxk</a>"
      ],
      "text/plain": [
       "<IPython.core.display.HTML object>"
      ]
     },
     "metadata": {},
     "output_type": "display_data"
    },
    {
     "data": {
      "text/html": [
       " View project at <a href='https://wandb.ai/nilesh2797/hands_on_ml_demo' target=\"_blank\">https://wandb.ai/nilesh2797/hands_on_ml_demo</a>"
      ],
      "text/plain": [
       "<IPython.core.display.HTML object>"
      ]
     },
     "metadata": {},
     "output_type": "display_data"
    },
    {
     "data": {
      "text/html": [
       " View sweep at <a href='https://wandb.ai/nilesh2797/hands_on_ml_demo/sweeps/1sn1nvxk' target=\"_blank\">https://wandb.ai/nilesh2797/hands_on_ml_demo/sweeps/1sn1nvxk</a>"
      ],
      "text/plain": [
       "<IPython.core.display.HTML object>"
      ]
     },
     "metadata": {},
     "output_type": "display_data"
    },
    {
     "data": {
      "text/html": [
       " View run at <a href='https://wandb.ai/nilesh2797/hands_on_ml_demo/runs/2tdo4gzd' target=\"_blank\">https://wandb.ai/nilesh2797/hands_on_ml_demo/runs/2tdo4gzd</a>"
      ],
      "text/plain": [
       "<IPython.core.display.HTML object>"
      ]
     },
     "metadata": {},
     "output_type": "display_data"
    },
    {
     "name": "stderr",
     "output_type": "stream",
     "text": [
      "Epoch 1: 100%|██████████| 63/63 [00:00<00:00, 102.15it/s, mean loss=0.687]\n",
      "WARNING:root:Only 108 Image will be uploaded.\n"
     ]
    },
    {
     "name": "stdout",
     "output_type": "stream",
     "text": [
      "Average training loss for epoch 1: 0.687019\n",
      "\n",
      "Val set: Average loss: 0.6806, Accuracy: 58.15%\n",
      "\n"
     ]
    },
    {
     "name": "stderr",
     "output_type": "stream",
     "text": [
      "Epoch 2: 100%|██████████| 63/63 [00:00<00:00, 111.31it/s, mean loss=0.678]\n",
      "WARNING:root:Only 108 Image will be uploaded.\n"
     ]
    },
    {
     "name": "stdout",
     "output_type": "stream",
     "text": [
      "Average training loss for epoch 2: 0.678201\n",
      "\n",
      "Val set: Average loss: 0.6754, Accuracy: 59.35%\n",
      "\n"
     ]
    },
    {
     "name": "stderr",
     "output_type": "stream",
     "text": [
      "Epoch 3: 100%|██████████| 63/63 [00:00<00:00, 111.20it/s, mean loss=0.674]\n",
      "WARNING:root:Only 108 Image will be uploaded.\n"
     ]
    },
    {
     "name": "stdout",
     "output_type": "stream",
     "text": [
      "Average training loss for epoch 3: 0.674119\n",
      "\n",
      "Val set: Average loss: 0.6728, Accuracy: 59.35%\n",
      "\n"
     ]
    },
    {
     "data": {
      "text/html": [],
      "text/plain": [
       "<IPython.core.display.HTML object>"
      ]
     },
     "metadata": {},
     "output_type": "display_data"
    },
    {
     "data": {
      "text/html": [
       "<br>    <style><br>        .wandb-row {<br>            display: flex;<br>            flex-direction: row;<br>            flex-wrap: wrap;<br>            justify-content: flex-start;<br>            width: 100%;<br>        }<br>        .wandb-col {<br>            display: flex;<br>            flex-direction: column;<br>            flex-basis: 100%;<br>            flex: 1;<br>            padding: 10px;<br>        }<br>    </style><br><div class=\"wandb-row\"><div class=\"wandb-col\"><h3>Run history:</h3><br/><table class=\"wandb\"><tr><td>batch</td><td>▁▁▂▂▃▅▅▆▆▆▇██▁▂▃▃▄▄▅▇▇██▁▁▂▂▂▃▄▄▅▅▅▆▆▇▇█</td></tr><tr><td>epoch</td><td>▁▁▁▁▁▁▁▁▁▁▁▁▁▁▁▅▅▅▅▅▅▅▅▅▅▅▅▅████████████</td></tr><tr><td>epoch_train_loss</td><td>█▃▁</td></tr><tr><td>epoch_val_loss</td><td>█▃▁</td></tr><tr><td>train_loss</td><td>▆▆▅▅▅▅▆▇▅▃▄▄▄▄▅▄▄▆█▂▅▅▅▄▄▄▅▅▂▄▁▅▂▁▂▃▄▁▃▅</td></tr><tr><td>val_accuracy</td><td>▁▁████</td></tr><tr><td>val_loss</td><td>█▃▁</td></tr></table><br/></div><div class=\"wandb-col\"><h3>Run summary:</h3><br/><table class=\"wandb\"><tr><td>batch</td><td>62</td></tr><tr><td>epoch</td><td>3</td></tr><tr><td>epoch_train_loss</td><td>0.67412</td></tr><tr><td>epoch_val_loss</td><td>0.67276</td></tr><tr><td>train_loss</td><td>0.66953</td></tr><tr><td>val_accuracy</td><td>59.35</td></tr><tr><td>val_loss</td><td>0.67276</td></tr></table><br/></div></div>"
      ],
      "text/plain": [
       "<IPython.core.display.HTML object>"
      ]
     },
     "metadata": {},
     "output_type": "display_data"
    },
    {
     "data": {
      "text/html": [
       " View run <strong style=\"color:#cdcd00\">light-sweep-24</strong> at: <a href='https://wandb.ai/nilesh2797/hands_on_ml_demo/runs/2tdo4gzd' target=\"_blank\">https://wandb.ai/nilesh2797/hands_on_ml_demo/runs/2tdo4gzd</a><br> View project at: <a href='https://wandb.ai/nilesh2797/hands_on_ml_demo' target=\"_blank\">https://wandb.ai/nilesh2797/hands_on_ml_demo</a><br>Synced 5 W&B file(s), 324 media file(s), 0 artifact file(s) and 0 other file(s)"
      ],
      "text/plain": [
       "<IPython.core.display.HTML object>"
      ]
     },
     "metadata": {},
     "output_type": "display_data"
    },
    {
     "data": {
      "text/html": [
       "Find logs at: <code>./wandb/run-20250226_134503-2tdo4gzd/logs</code>"
      ],
      "text/plain": [
       "<IPython.core.display.HTML object>"
      ]
     },
     "metadata": {},
     "output_type": "display_data"
    },
    {
     "name": "stderr",
     "output_type": "stream",
     "text": [
      "\u001b[34m\u001b[1mwandb\u001b[0m: Sweep Agent: Waiting for job.\n",
      "\u001b[34m\u001b[1mwandb\u001b[0m: Job received.\n",
      "\u001b[34m\u001b[1mwandb\u001b[0m: Agent Starting Run: v1oz8xzc with config:\n",
      "\u001b[34m\u001b[1mwandb\u001b[0m: \tbatch_size: 128\n",
      "\u001b[34m\u001b[1mwandb\u001b[0m: \tepochs: 3\n",
      "\u001b[34m\u001b[1mwandb\u001b[0m: \thidden_size: 256\n",
      "\u001b[34m\u001b[1mwandb\u001b[0m: \tlearning_rate: 0.001\n"
     ]
    },
    {
     "data": {
      "text/html": [
       "Tracking run with wandb version 0.19.7"
      ],
      "text/plain": [
       "<IPython.core.display.HTML object>"
      ]
     },
     "metadata": {},
     "output_type": "display_data"
    },
    {
     "data": {
      "text/html": [
       "Run data is saved locally in <code>/Users/nileshgupta/Downloads/work/Spring25/CS391L/HandsOnML/wandb/run-20250226_134518-v1oz8xzc</code>"
      ],
      "text/plain": [
       "<IPython.core.display.HTML object>"
      ]
     },
     "metadata": {},
     "output_type": "display_data"
    },
    {
     "data": {
      "text/html": [
       "Syncing run <strong><a href='https://wandb.ai/nilesh2797/hands_on_ml_demo/runs/v1oz8xzc' target=\"_blank\">fresh-sweep-25</a></strong> to <a href='https://wandb.ai/nilesh2797/hands_on_ml_demo' target=\"_blank\">Weights & Biases</a> (<a href='https://wandb.me/developer-guide' target=\"_blank\">docs</a>)<br>Sweep page: <a href='https://wandb.ai/nilesh2797/hands_on_ml_demo/sweeps/1sn1nvxk' target=\"_blank\">https://wandb.ai/nilesh2797/hands_on_ml_demo/sweeps/1sn1nvxk</a>"
      ],
      "text/plain": [
       "<IPython.core.display.HTML object>"
      ]
     },
     "metadata": {},
     "output_type": "display_data"
    },
    {
     "data": {
      "text/html": [
       " View project at <a href='https://wandb.ai/nilesh2797/hands_on_ml_demo' target=\"_blank\">https://wandb.ai/nilesh2797/hands_on_ml_demo</a>"
      ],
      "text/plain": [
       "<IPython.core.display.HTML object>"
      ]
     },
     "metadata": {},
     "output_type": "display_data"
    },
    {
     "data": {
      "text/html": [
       " View sweep at <a href='https://wandb.ai/nilesh2797/hands_on_ml_demo/sweeps/1sn1nvxk' target=\"_blank\">https://wandb.ai/nilesh2797/hands_on_ml_demo/sweeps/1sn1nvxk</a>"
      ],
      "text/plain": [
       "<IPython.core.display.HTML object>"
      ]
     },
     "metadata": {},
     "output_type": "display_data"
    },
    {
     "data": {
      "text/html": [
       " View run at <a href='https://wandb.ai/nilesh2797/hands_on_ml_demo/runs/v1oz8xzc' target=\"_blank\">https://wandb.ai/nilesh2797/hands_on_ml_demo/runs/v1oz8xzc</a>"
      ],
      "text/plain": [
       "<IPython.core.display.HTML object>"
      ]
     },
     "metadata": {},
     "output_type": "display_data"
    },
    {
     "name": "stderr",
     "output_type": "stream",
     "text": [
      "Epoch 1: 100%|██████████| 63/63 [00:00<00:00, 101.50it/s, mean loss=0.697]\n",
      "WARNING:root:Only 108 Image will be uploaded.\n"
     ]
    },
    {
     "name": "stdout",
     "output_type": "stream",
     "text": [
      "Average training loss for epoch 1: 0.696679\n",
      "\n",
      "Val set: Average loss: 0.6913, Accuracy: 52.70%\n",
      "\n"
     ]
    },
    {
     "name": "stderr",
     "output_type": "stream",
     "text": [
      "Epoch 2: 100%|██████████| 63/63 [00:00<00:00, 98.77it/s, mean loss=0.69]  \n",
      "WARNING:root:Only 108 Image will be uploaded.\n"
     ]
    },
    {
     "name": "stdout",
     "output_type": "stream",
     "text": [
      "Average training loss for epoch 2: 0.689895\n",
      "\n",
      "Val set: Average loss: 0.6891, Accuracy: 55.15%\n",
      "\n"
     ]
    },
    {
     "name": "stderr",
     "output_type": "stream",
     "text": [
      "Epoch 3: 100%|██████████| 63/63 [00:00<00:00, 96.86it/s, mean loss=0.688] \n"
     ]
    },
    {
     "name": "stdout",
     "output_type": "stream",
     "text": [
      "Average training loss for epoch 3: 0.687731\n",
      "\n",
      "Val set: Average loss: 0.6874, Accuracy: 56.05%\n",
      "\n"
     ]
    },
    {
     "name": "stderr",
     "output_type": "stream",
     "text": [
      "WARNING:root:Only 108 Image will be uploaded.\n"
     ]
    },
    {
     "data": {
      "text/html": [],
      "text/plain": [
       "<IPython.core.display.HTML object>"
      ]
     },
     "metadata": {},
     "output_type": "display_data"
    },
    {
     "data": {
      "text/html": [
       "<br>    <style><br>        .wandb-row {<br>            display: flex;<br>            flex-direction: row;<br>            flex-wrap: wrap;<br>            justify-content: flex-start;<br>            width: 100%;<br>        }<br>        .wandb-col {<br>            display: flex;<br>            flex-direction: column;<br>            flex-basis: 100%;<br>            flex: 1;<br>            padding: 10px;<br>        }<br>    </style><br><div class=\"wandb-row\"><div class=\"wandb-col\"><h3>Run history:</h3><br/><table class=\"wandb\"><tr><td>batch</td><td>▁▁▁▂▃▃▄▄▄▅▆▆▇▇▇▁▂▂▂▃▄▅▅▆▆▆▇▇██▂▃▅▅▅▆▆▆▇█</td></tr><tr><td>epoch</td><td>▁▁▁▁▁▁▁▁▁▁▁▁▁▁▁▁▁▅▅▅▅▅▅▅▅▅▅█████████████</td></tr><tr><td>epoch_train_loss</td><td>█▃▁</td></tr><tr><td>epoch_val_loss</td><td>█▄▁</td></tr><tr><td>train_loss</td><td>▃▅▄▆▅▄▄▅▅▅▅▁▃▃▄█▃▄▄▄▅▄▃▄▄▄▃▄▃▃▃▃▃▃▂▃▂▃▂▄</td></tr><tr><td>val_accuracy</td><td>▁▁▆▆██</td></tr><tr><td>val_loss</td><td>█▄▁</td></tr></table><br/></div><div class=\"wandb-col\"><h3>Run summary:</h3><br/><table class=\"wandb\"><tr><td>batch</td><td>62</td></tr><tr><td>epoch</td><td>3</td></tr><tr><td>epoch_train_loss</td><td>0.68773</td></tr><tr><td>epoch_val_loss</td><td>0.68743</td></tr><tr><td>train_loss</td><td>0.6929</td></tr><tr><td>val_accuracy</td><td>56.05</td></tr><tr><td>val_loss</td><td>0.68743</td></tr></table><br/></div></div>"
      ],
      "text/plain": [
       "<IPython.core.display.HTML object>"
      ]
     },
     "metadata": {},
     "output_type": "display_data"
    },
    {
     "data": {
      "text/html": [
       " View run <strong style=\"color:#cdcd00\">fresh-sweep-25</strong> at: <a href='https://wandb.ai/nilesh2797/hands_on_ml_demo/runs/v1oz8xzc' target=\"_blank\">https://wandb.ai/nilesh2797/hands_on_ml_demo/runs/v1oz8xzc</a><br> View project at: <a href='https://wandb.ai/nilesh2797/hands_on_ml_demo' target=\"_blank\">https://wandb.ai/nilesh2797/hands_on_ml_demo</a><br>Synced 5 W&B file(s), 324 media file(s), 0 artifact file(s) and 0 other file(s)"
      ],
      "text/plain": [
       "<IPython.core.display.HTML object>"
      ]
     },
     "metadata": {},
     "output_type": "display_data"
    },
    {
     "data": {
      "text/html": [
       "Find logs at: <code>./wandb/run-20250226_134518-v1oz8xzc/logs</code>"
      ],
      "text/plain": [
       "<IPython.core.display.HTML object>"
      ]
     },
     "metadata": {},
     "output_type": "display_data"
    },
    {
     "name": "stderr",
     "output_type": "stream",
     "text": [
      "\u001b[34m\u001b[1mwandb\u001b[0m: Agent Starting Run: yfirxtau with config:\n",
      "\u001b[34m\u001b[1mwandb\u001b[0m: \tbatch_size: 128\n",
      "\u001b[34m\u001b[1mwandb\u001b[0m: \tepochs: 3\n",
      "\u001b[34m\u001b[1mwandb\u001b[0m: \thidden_size: 256\n",
      "\u001b[34m\u001b[1mwandb\u001b[0m: \tlearning_rate: 0.0001\n"
     ]
    },
    {
     "data": {
      "text/html": [
       "Tracking run with wandb version 0.19.7"
      ],
      "text/plain": [
       "<IPython.core.display.HTML object>"
      ]
     },
     "metadata": {},
     "output_type": "display_data"
    },
    {
     "data": {
      "text/html": [
       "Run data is saved locally in <code>/Users/nileshgupta/Downloads/work/Spring25/CS391L/HandsOnML/wandb/run-20250226_134523-yfirxtau</code>"
      ],
      "text/plain": [
       "<IPython.core.display.HTML object>"
      ]
     },
     "metadata": {},
     "output_type": "display_data"
    },
    {
     "data": {
      "text/html": [
       "Syncing run <strong><a href='https://wandb.ai/nilesh2797/hands_on_ml_demo/runs/yfirxtau' target=\"_blank\">bright-sweep-26</a></strong> to <a href='https://wandb.ai/nilesh2797/hands_on_ml_demo' target=\"_blank\">Weights & Biases</a> (<a href='https://wandb.me/developer-guide' target=\"_blank\">docs</a>)<br>Sweep page: <a href='https://wandb.ai/nilesh2797/hands_on_ml_demo/sweeps/1sn1nvxk' target=\"_blank\">https://wandb.ai/nilesh2797/hands_on_ml_demo/sweeps/1sn1nvxk</a>"
      ],
      "text/plain": [
       "<IPython.core.display.HTML object>"
      ]
     },
     "metadata": {},
     "output_type": "display_data"
    },
    {
     "data": {
      "text/html": [
       " View project at <a href='https://wandb.ai/nilesh2797/hands_on_ml_demo' target=\"_blank\">https://wandb.ai/nilesh2797/hands_on_ml_demo</a>"
      ],
      "text/plain": [
       "<IPython.core.display.HTML object>"
      ]
     },
     "metadata": {},
     "output_type": "display_data"
    },
    {
     "data": {
      "text/html": [
       " View sweep at <a href='https://wandb.ai/nilesh2797/hands_on_ml_demo/sweeps/1sn1nvxk' target=\"_blank\">https://wandb.ai/nilesh2797/hands_on_ml_demo/sweeps/1sn1nvxk</a>"
      ],
      "text/plain": [
       "<IPython.core.display.HTML object>"
      ]
     },
     "metadata": {},
     "output_type": "display_data"
    },
    {
     "data": {
      "text/html": [
       " View run at <a href='https://wandb.ai/nilesh2797/hands_on_ml_demo/runs/yfirxtau' target=\"_blank\">https://wandb.ai/nilesh2797/hands_on_ml_demo/runs/yfirxtau</a>"
      ],
      "text/plain": [
       "<IPython.core.display.HTML object>"
      ]
     },
     "metadata": {},
     "output_type": "display_data"
    },
    {
     "name": "stderr",
     "output_type": "stream",
     "text": [
      "Epoch 1: 100%|██████████| 63/63 [00:00<00:00, 106.18it/s, mean loss=0.719]\n",
      "WARNING:root:Only 108 Image will be uploaded.\n"
     ]
    },
    {
     "name": "stdout",
     "output_type": "stream",
     "text": [
      "Average training loss for epoch 1: 0.718968\n",
      "\n",
      "Val set: Average loss: 0.7123, Accuracy: 50.85%\n",
      "\n"
     ]
    },
    {
     "name": "stderr",
     "output_type": "stream",
     "text": [
      "Epoch 2: 100%|██████████| 63/63 [00:00<00:00, 95.19it/s, mean loss=0.714] \n",
      "WARNING:root:Only 108 Image will be uploaded.\n"
     ]
    },
    {
     "name": "stdout",
     "output_type": "stream",
     "text": [
      "Average training loss for epoch 2: 0.713748\n",
      "\n",
      "Val set: Average loss: 0.7082, Accuracy: 50.90%\n",
      "\n"
     ]
    },
    {
     "name": "stderr",
     "output_type": "stream",
     "text": [
      "Epoch 3: 100%|██████████| 63/63 [00:00<00:00, 112.09it/s, mean loss=0.709]\n",
      "WARNING:root:Only 108 Image will be uploaded.\n"
     ]
    },
    {
     "name": "stdout",
     "output_type": "stream",
     "text": [
      "Average training loss for epoch 3: 0.709374\n",
      "\n",
      "Val set: Average loss: 0.7050, Accuracy: 50.95%\n",
      "\n"
     ]
    },
    {
     "data": {
      "text/html": [],
      "text/plain": [
       "<IPython.core.display.HTML object>"
      ]
     },
     "metadata": {},
     "output_type": "display_data"
    },
    {
     "data": {
      "text/html": [
       "<br>    <style><br>        .wandb-row {<br>            display: flex;<br>            flex-direction: row;<br>            flex-wrap: wrap;<br>            justify-content: flex-start;<br>            width: 100%;<br>        }<br>        .wandb-col {<br>            display: flex;<br>            flex-direction: column;<br>            flex-basis: 100%;<br>            flex: 1;<br>            padding: 10px;<br>        }<br>    </style><br><div class=\"wandb-row\"><div class=\"wandb-col\"><h3>Run history:</h3><br/><table class=\"wandb\"><tr><td>batch</td><td>▁▂▂▃▃▃▃▃▄▆▆▇▇▇▁▂▃▃▃▄▆▇██▁▂▂▃▃▃▅▅▆▆▆▇▇▇▇█</td></tr><tr><td>epoch</td><td>▁▁▁▁▁▁▁▁▁▁▁▁▁▁▅▅▅▅▅▅▅▅▅▅▅▅▅▅▅▅██████████</td></tr><tr><td>epoch_train_loss</td><td>█▄▁</td></tr><tr><td>epoch_val_loss</td><td>█▄▁</td></tr><tr><td>train_loss</td><td>▄█▅▄▃▅▄▅▃▂▃▆▃▅▇▄▄▄▄▁▄▂▂▅▃▄▃▅▂▃▂▃▅▅▅▃▃▅▇▂</td></tr><tr><td>val_accuracy</td><td>▁▁▅▅██</td></tr><tr><td>val_loss</td><td>█▄▁</td></tr></table><br/></div><div class=\"wandb-col\"><h3>Run summary:</h3><br/><table class=\"wandb\"><tr><td>batch</td><td>62</td></tr><tr><td>epoch</td><td>3</td></tr><tr><td>epoch_train_loss</td><td>0.70937</td></tr><tr><td>epoch_val_loss</td><td>0.70496</td></tr><tr><td>train_loss</td><td>0.68824</td></tr><tr><td>val_accuracy</td><td>50.95</td></tr><tr><td>val_loss</td><td>0.70496</td></tr></table><br/></div></div>"
      ],
      "text/plain": [
       "<IPython.core.display.HTML object>"
      ]
     },
     "metadata": {},
     "output_type": "display_data"
    },
    {
     "data": {
      "text/html": [
       " View run <strong style=\"color:#cdcd00\">bright-sweep-26</strong> at: <a href='https://wandb.ai/nilesh2797/hands_on_ml_demo/runs/yfirxtau' target=\"_blank\">https://wandb.ai/nilesh2797/hands_on_ml_demo/runs/yfirxtau</a><br> View project at: <a href='https://wandb.ai/nilesh2797/hands_on_ml_demo' target=\"_blank\">https://wandb.ai/nilesh2797/hands_on_ml_demo</a><br>Synced 5 W&B file(s), 324 media file(s), 0 artifact file(s) and 0 other file(s)"
      ],
      "text/plain": [
       "<IPython.core.display.HTML object>"
      ]
     },
     "metadata": {},
     "output_type": "display_data"
    },
    {
     "data": {
      "text/html": [
       "Find logs at: <code>./wandb/run-20250226_134523-yfirxtau/logs</code>"
      ],
      "text/plain": [
       "<IPython.core.display.HTML object>"
      ]
     },
     "metadata": {},
     "output_type": "display_data"
    },
    {
     "name": "stderr",
     "output_type": "stream",
     "text": [
      "\u001b[34m\u001b[1mwandb\u001b[0m: Sweep Agent: Waiting for job.\n",
      "\u001b[34m\u001b[1mwandb\u001b[0m: Job received.\n",
      "\u001b[34m\u001b[1mwandb\u001b[0m: Agent Starting Run: q9fjdtk2 with config:\n",
      "\u001b[34m\u001b[1mwandb\u001b[0m: \tbatch_size: 128\n",
      "\u001b[34m\u001b[1mwandb\u001b[0m: \tepochs: 3\n",
      "\u001b[34m\u001b[1mwandb\u001b[0m: \thidden_size: 256\n",
      "\u001b[34m\u001b[1mwandb\u001b[0m: \tlearning_rate: 0.01\n"
     ]
    },
    {
     "data": {
      "text/html": [
       "Tracking run with wandb version 0.19.7"
      ],
      "text/plain": [
       "<IPython.core.display.HTML object>"
      ]
     },
     "metadata": {},
     "output_type": "display_data"
    },
    {
     "data": {
      "text/html": [
       "Run data is saved locally in <code>/Users/nileshgupta/Downloads/work/Spring25/CS391L/HandsOnML/wandb/run-20250226_134538-q9fjdtk2</code>"
      ],
      "text/plain": [
       "<IPython.core.display.HTML object>"
      ]
     },
     "metadata": {},
     "output_type": "display_data"
    },
    {
     "data": {
      "text/html": [
       "Syncing run <strong><a href='https://wandb.ai/nilesh2797/hands_on_ml_demo/runs/q9fjdtk2' target=\"_blank\">scarlet-sweep-27</a></strong> to <a href='https://wandb.ai/nilesh2797/hands_on_ml_demo' target=\"_blank\">Weights & Biases</a> (<a href='https://wandb.me/developer-guide' target=\"_blank\">docs</a>)<br>Sweep page: <a href='https://wandb.ai/nilesh2797/hands_on_ml_demo/sweeps/1sn1nvxk' target=\"_blank\">https://wandb.ai/nilesh2797/hands_on_ml_demo/sweeps/1sn1nvxk</a>"
      ],
      "text/plain": [
       "<IPython.core.display.HTML object>"
      ]
     },
     "metadata": {},
     "output_type": "display_data"
    },
    {
     "data": {
      "text/html": [
       " View project at <a href='https://wandb.ai/nilesh2797/hands_on_ml_demo' target=\"_blank\">https://wandb.ai/nilesh2797/hands_on_ml_demo</a>"
      ],
      "text/plain": [
       "<IPython.core.display.HTML object>"
      ]
     },
     "metadata": {},
     "output_type": "display_data"
    },
    {
     "data": {
      "text/html": [
       " View sweep at <a href='https://wandb.ai/nilesh2797/hands_on_ml_demo/sweeps/1sn1nvxk' target=\"_blank\">https://wandb.ai/nilesh2797/hands_on_ml_demo/sweeps/1sn1nvxk</a>"
      ],
      "text/plain": [
       "<IPython.core.display.HTML object>"
      ]
     },
     "metadata": {},
     "output_type": "display_data"
    },
    {
     "data": {
      "text/html": [
       " View run at <a href='https://wandb.ai/nilesh2797/hands_on_ml_demo/runs/q9fjdtk2' target=\"_blank\">https://wandb.ai/nilesh2797/hands_on_ml_demo/runs/q9fjdtk2</a>"
      ],
      "text/plain": [
       "<IPython.core.display.HTML object>"
      ]
     },
     "metadata": {},
     "output_type": "display_data"
    },
    {
     "name": "stderr",
     "output_type": "stream",
     "text": [
      "Epoch 1: 100%|██████████| 63/63 [00:00<00:00, 105.06it/s, mean loss=0.692]\n",
      "WARNING:root:Only 108 Image will be uploaded.\n"
     ]
    },
    {
     "name": "stdout",
     "output_type": "stream",
     "text": [
      "Average training loss for epoch 1: 0.692448\n",
      "\n",
      "Val set: Average loss: 0.6810, Accuracy: 57.90%\n",
      "\n"
     ]
    },
    {
     "name": "stderr",
     "output_type": "stream",
     "text": [
      "Epoch 2: 100%|██████████| 63/63 [00:00<00:00, 112.83it/s, mean loss=0.679]\n",
      "WARNING:root:Only 108 Image will be uploaded.\n"
     ]
    },
    {
     "name": "stdout",
     "output_type": "stream",
     "text": [
      "Average training loss for epoch 2: 0.678632\n",
      "\n",
      "Val set: Average loss: 0.6747, Accuracy: 59.35%\n",
      "\n"
     ]
    },
    {
     "name": "stderr",
     "output_type": "stream",
     "text": [
      "Epoch 3: 100%|██████████| 63/63 [00:00<00:00, 101.84it/s, mean loss=0.674]\n",
      "WARNING:root:Only 108 Image will be uploaded.\n"
     ]
    },
    {
     "name": "stdout",
     "output_type": "stream",
     "text": [
      "Average training loss for epoch 3: 0.674382\n",
      "\n",
      "Val set: Average loss: 0.6720, Accuracy: 59.20%\n",
      "\n"
     ]
    },
    {
     "data": {
      "text/html": [],
      "text/plain": [
       "<IPython.core.display.HTML object>"
      ]
     },
     "metadata": {},
     "output_type": "display_data"
    },
    {
     "data": {
      "text/html": [
       "<br>    <style><br>        .wandb-row {<br>            display: flex;<br>            flex-direction: row;<br>            flex-wrap: wrap;<br>            justify-content: flex-start;<br>            width: 100%;<br>        }<br>        .wandb-col {<br>            display: flex;<br>            flex-direction: column;<br>            flex-basis: 100%;<br>            flex: 1;<br>            padding: 10px;<br>        }<br>    </style><br><div class=\"wandb-row\"><div class=\"wandb-col\"><h3>Run history:</h3><br/><table class=\"wandb\"><tr><td>batch</td><td>▁▁▂▂▃▃▄▄▆▇██▁▁▁▂▃▅▅▅▆▆▁▂▂▃▃▃▃▄▆▆▆▆▆▇▇▇██</td></tr><tr><td>epoch</td><td>▁▁▁▁▁▁▁▁▁▁▅▅▅▅▅▅▅▅▅▅▅▅▅▅▅▅▅█████████████</td></tr><tr><td>epoch_train_loss</td><td>█▃▁</td></tr><tr><td>epoch_val_loss</td><td>█▃▁</td></tr><tr><td>train_loss</td><td>█▅▄▄▅▃▃▃▅▃▄▄▄▄▂▃▃▂▂▂▃▄▄▂▂▃▃▃▃▄▂▃▂▁▃▃▃▂▂▂</td></tr><tr><td>val_accuracy</td><td>▁▁██▇▇</td></tr><tr><td>val_loss</td><td>█▃▁</td></tr></table><br/></div><div class=\"wandb-col\"><h3>Run summary:</h3><br/><table class=\"wandb\"><tr><td>batch</td><td>62</td></tr><tr><td>epoch</td><td>3</td></tr><tr><td>epoch_train_loss</td><td>0.67438</td></tr><tr><td>epoch_val_loss</td><td>0.67203</td></tr><tr><td>train_loss</td><td>0.67229</td></tr><tr><td>val_accuracy</td><td>59.2</td></tr><tr><td>val_loss</td><td>0.67203</td></tr></table><br/></div></div>"
      ],
      "text/plain": [
       "<IPython.core.display.HTML object>"
      ]
     },
     "metadata": {},
     "output_type": "display_data"
    },
    {
     "data": {
      "text/html": [
       " View run <strong style=\"color:#cdcd00\">scarlet-sweep-27</strong> at: <a href='https://wandb.ai/nilesh2797/hands_on_ml_demo/runs/q9fjdtk2' target=\"_blank\">https://wandb.ai/nilesh2797/hands_on_ml_demo/runs/q9fjdtk2</a><br> View project at: <a href='https://wandb.ai/nilesh2797/hands_on_ml_demo' target=\"_blank\">https://wandb.ai/nilesh2797/hands_on_ml_demo</a><br>Synced 5 W&B file(s), 324 media file(s), 0 artifact file(s) and 0 other file(s)"
      ],
      "text/plain": [
       "<IPython.core.display.HTML object>"
      ]
     },
     "metadata": {},
     "output_type": "display_data"
    },
    {
     "data": {
      "text/html": [
       "Find logs at: <code>./wandb/run-20250226_134538-q9fjdtk2/logs</code>"
      ],
      "text/plain": [
       "<IPython.core.display.HTML object>"
      ]
     },
     "metadata": {},
     "output_type": "display_data"
    },
    {
     "name": "stderr",
     "output_type": "stream",
     "text": [
      "\u001b[34m\u001b[1mwandb\u001b[0m: Sweep Agent: Waiting for job.\n",
      "\u001b[34m\u001b[1mwandb\u001b[0m: Sweep Agent: Exiting.\n"
     ]
    }
   ],
   "source": [
    "# Launch the sweep agent to run a specified number of runs\n",
    "wandb.agent(sweep_id, function=sweep_train, count=None)"
   ]
  },
  {
   "cell_type": "markdown",
   "metadata": {},
   "source": [
    "## Debugging Your Neural Network\n",
    "\n",
    "Training neural networks can be challenging. Here are a couple of strategies for debugging your model:"
   ]
  },
  {
   "cell_type": "markdown",
   "metadata": {},
   "source": [
    "\n",
    "### 1. Monitor Gradient Norms\n",
    "- **Purpose:** Ensure gradients are neither vanishing nor exploding.\n",
    "- **How:** Compute the norm of gradients for each parameter after backpropagation and log them."
   ]
  },
  {
   "cell_type": "code",
   "execution_count": 350,
   "metadata": {},
   "outputs": [
    {
     "ename": "Error",
     "evalue": "You must call wandb.init() before wandb.log()",
     "output_type": "error",
     "traceback": [
      "\u001b[0;31m---------------------------------------------------------------------------\u001b[0m",
      "\u001b[0;31mError\u001b[0m                                     Traceback (most recent call last)",
      "Cell \u001b[0;32mIn[350], line 10\u001b[0m\n\u001b[1;32m      8\u001b[0m \u001b[38;5;66;03m# Example: Log gradient norms during training\u001b[39;00m\n\u001b[1;32m      9\u001b[0m grad_norms \u001b[38;5;241m=\u001b[39m get_gradient_norms(model)\n\u001b[0;32m---> 10\u001b[0m \u001b[43mwandb\u001b[49m\u001b[38;5;241;43m.\u001b[39;49m\u001b[43mlog\u001b[49m\u001b[43m(\u001b[49m\u001b[43m{\u001b[49m\u001b[38;5;124;43m\"\u001b[39;49m\u001b[38;5;124;43mgradient_norms\u001b[39;49m\u001b[38;5;124;43m\"\u001b[39;49m\u001b[43m:\u001b[49m\u001b[43m \u001b[49m\u001b[43mgrad_norms\u001b[49m\u001b[43m,\u001b[49m\u001b[43m \u001b[49m\u001b[38;5;124;43m\"\u001b[39;49m\u001b[38;5;124;43mepoch\u001b[39;49m\u001b[38;5;124;43m\"\u001b[39;49m\u001b[43m:\u001b[49m\u001b[43m \u001b[49m\u001b[43mepoch\u001b[49m\u001b[43m}\u001b[49m\u001b[43m)\u001b[49m\n",
      "File \u001b[0;32m~/miniconda3/lib/python3.11/site-packages/wandb/sdk/lib/preinit.py:36\u001b[0m, in \u001b[0;36mPreInitCallable.<locals>.preinit_wrapper\u001b[0;34m(*args, **kwargs)\u001b[0m\n\u001b[1;32m     35\u001b[0m \u001b[38;5;28;01mdef\u001b[39;00m \u001b[38;5;21mpreinit_wrapper\u001b[39m(\u001b[38;5;241m*\u001b[39margs: Any, \u001b[38;5;241m*\u001b[39m\u001b[38;5;241m*\u001b[39mkwargs: Any) \u001b[38;5;241m-\u001b[39m\u001b[38;5;241m>\u001b[39m Any:\n\u001b[0;32m---> 36\u001b[0m     \u001b[38;5;28;01mraise\u001b[39;00m wandb\u001b[38;5;241m.\u001b[39mError(\u001b[38;5;124mf\u001b[39m\u001b[38;5;124m\"\u001b[39m\u001b[38;5;124mYou must call wandb.init() before \u001b[39m\u001b[38;5;132;01m{\u001b[39;00mname\u001b[38;5;132;01m}\u001b[39;00m\u001b[38;5;124m()\u001b[39m\u001b[38;5;124m\"\u001b[39m)\n",
      "\u001b[0;31mError\u001b[0m: You must call wandb.init() before wandb.log()"
     ]
    }
   ],
   "source": [
    "def get_gradient_norms(model):\n",
    "    norms = {}\n",
    "    for name, param in model.named_parameters():\n",
    "        if param.grad is not None:\n",
    "            norms[name] = param.grad.norm().item()\n",
    "    return norms\n",
    "\n",
    "# Example: Log gradient norms during training\n",
    "grad_norms = get_gradient_norms(model)\n",
    "wandb.log({\"gradient_norms\": grad_norms, \"epoch\": epoch})"
   ]
  },
  {
   "cell_type": "markdown",
   "metadata": {},
   "source": [
    "\n",
    "### 2. Inspect Activation Ranges\n",
    "- **Purpose:** Verify that layer activations are within a sensible range (avoid saturation or dead neurons).\n",
    "- **How:** Use forward hooks to log statistics (min, max, mean) of activations."
   ]
  },
  {
   "cell_type": "code",
   "execution_count": null,
   "metadata": {},
   "outputs": [],
   "source": [
    "def activation_hook(module, input, output):\n",
    "    wandb.log({\n",
    "        f\"{module.__class__.__name__}_activation_min\": output.min().item(),\n",
    "        f\"{module.__class__.__name__}_activation_max\": output.max().item(),\n",
    "        f\"{module.__class__.__name__}_activation_mean\": output.mean().item(),\n",
    "    })\n",
    "\n",
    "# Register the hook for the first fully connected layer\n",
    "model.w1.register_forward_hook(activation_hook)"
   ]
  }
 ],
 "metadata": {
  "kernelspec": {
   "display_name": "base",
   "language": "python",
   "name": "python3"
  },
  "language_info": {
   "codemirror_mode": {
    "name": "ipython",
    "version": 3
   },
   "file_extension": ".py",
   "mimetype": "text/x-python",
   "name": "python",
   "nbconvert_exporter": "python",
   "pygments_lexer": "ipython3",
   "version": "3.11.4"
  }
 },
 "nbformat": 4,
 "nbformat_minor": 2
}
